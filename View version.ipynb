{
 "cells": [
  {
   "cell_type": "markdown",
   "metadata": {},
   "source": [
    "### Anaconda version"
   ]
  },
  {
   "cell_type": "code",
   "execution_count": 1,
   "metadata": {},
   "outputs": [
    {
     "name": "stdout",
     "output_type": "stream",
     "text": [
      "conda 4.5.5\n"
     ]
    }
   ],
   "source": [
    "!conda --version\n",
    "# !conda -V"
   ]
  },
  {
   "cell_type": "markdown",
   "metadata": {},
   "source": [
    "### Python version"
   ]
  },
  {
   "cell_type": "code",
   "execution_count": 2,
   "metadata": {},
   "outputs": [
    {
     "name": "stderr",
     "output_type": "stream",
     "text": [
      "Python 3.6.3 :: Anaconda custom (64-bit)\n"
     ]
    }
   ],
   "source": [
    "!python --version\n",
    "# !python -V"
   ]
  },
  {
   "cell_type": "markdown",
   "metadata": {},
   "source": [
    "### Python package version"
   ]
  },
  {
   "cell_type": "code",
   "execution_count": 3,
   "metadata": {},
   "outputs": [
    {
     "name": "stderr",
     "output_type": "stream",
     "text": [
      "Using TensorFlow backend.\n"
     ]
    },
    {
     "name": "stdout",
     "output_type": "stream",
     "text": [
      "numpy       : 1.13.3\n",
      "pandas      : 0.20.3\n",
      "matplotlib  : 2.2.2\n",
      "sklearn     : 0.19.1\n",
      "tensorflow  : 1.2.1\n",
      "keras       : 2.1.3\n",
      "cv2         : 3.4.0\n",
      "dlib        : 19.6.1\n"
     ]
    }
   ],
   "source": [
    "import numpy\n",
    "import pandas\n",
    "import matplotlib\n",
    "import sklearn\n",
    "import tensorflow\n",
    "import keras\n",
    "import cv2   \n",
    "import dlib \n",
    "print(\"{:<12s}: {}\" .format(\"numpy\",numpy.__version__))\n",
    "print(\"{:<12s}: {}\" .format(\"pandas\",pandas.__version__))\n",
    "print(\"{:<12s}: {}\" .format(\"matplotlib\",matplotlib.__version__))\n",
    "print(\"{:<12s}: {}\" .format(\"sklearn\",sklearn.__version__))\n",
    "print(\"{:<12s}: {}\" .format(\"tensorflow\",tensorflow.__version__))\n",
    "print(\"{:<12s}: {}\" .format(\"keras\",keras.__version__))\n",
    "print(\"{:<12s}: {}\" .format(\"cv2\",cv2.__version__))\n",
    "print(\"{:<12s}: {}\" .format(\"dlib\",dlib.__version__))"
   ]
  },
  {
   "cell_type": "code",
   "execution_count": null,
   "metadata": {
    "collapsed": true
   },
   "outputs": [],
   "source": []
  }
 ],
 "metadata": {
  "kernelspec": {
   "display_name": "Python 3",
   "language": "python",
   "name": "python3"
  },
  "language_info": {
   "codemirror_mode": {
    "name": "ipython",
    "version": 3
   },
   "file_extension": ".py",
   "mimetype": "text/x-python",
   "name": "python",
   "nbconvert_exporter": "python",
   "pygments_lexer": "ipython3",
   "version": "3.6.3"
  }
 },
 "nbformat": 4,
 "nbformat_minor": 2
}

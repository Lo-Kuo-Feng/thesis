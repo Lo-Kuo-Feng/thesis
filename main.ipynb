{
 "cells": [
  {
   "cell_type": "markdown",
   "metadata": {},
   "source": [
    "# 套件版本"
   ]
  },
  {
   "cell_type": "code",
   "execution_count": 1,
   "metadata": {},
   "outputs": [
    {
     "name": "stderr",
     "output_type": "stream",
     "text": [
      "Using TensorFlow backend.\n"
     ]
    }
   ],
   "source": [
    "import os     #使用操作系統相關功能的模塊\n",
    "import numpy as np          #Python進行科學計算的基礎包\n",
    "import pandas as pd\n",
    "from keras.utils import np_utils\n",
    "import warnings\n",
    "import facerecognition as fr\n",
    "\n",
    "warnings.filterwarnings('ignore')"
   ]
  },
  {
   "cell_type": "code",
   "execution_count": 2,
   "metadata": {},
   "outputs": [
    {
     "data": {
      "text/plain": [
       "'1.7.0'"
      ]
     },
     "execution_count": 2,
     "metadata": {},
     "output_type": "execute_result"
    }
   ],
   "source": [
    "fr.__version__"
   ]
  },
  {
   "cell_type": "code",
   "execution_count": 3,
   "metadata": {},
   "outputs": [
    {
     "name": "stdout",
     "output_type": "stream",
     "text": [
      "platform          : win32\n",
      "conda             : 4.5.5\n",
      "jupyter notebook  : 5.0.0\n",
      "Python            : 3.6.3 \n",
      "numpy             : 1.13.3\n",
      "pandas            : 0.20.3\n",
      "matplotlib        : 2.2.2\n",
      "sklearn           : 0.19.1\n",
      "tensorflow        : 1.2.1\n",
      "keras             : 2.1.3\n",
      "cv2               : 3.4.0\n",
      "dlib              : 19.6.1\n",
      "facerecognition   : 1.7.0\n"
     ]
    }
   ],
   "source": [
    "fr.version()"
   ]
  },
  {
   "cell_type": "markdown",
   "metadata": {},
   "source": [
    "# 人臉數據庫收集"
   ]
  },
  {
   "cell_type": "code",
   "execution_count": 4,
   "metadata": {
    "collapsed": true
   },
   "outputs": [],
   "source": [
    "# fr.photograph_face(sample_name='sample0_face', film=0, save_size=224)"
   ]
  },
  {
   "cell_type": "code",
   "execution_count": 5,
   "metadata": {
    "collapsed": true
   },
   "outputs": [],
   "source": [
    "# fr.photograph_face(sample_name='sample1_face', film=0, save_size=224)"
   ]
  },
  {
   "cell_type": "code",
   "execution_count": 6,
   "metadata": {
    "collapsed": true
   },
   "outputs": [],
   "source": [
    "# fr.photograph_face(sample_name='sample2_face', film=0, save_size=224)"
   ]
  },
  {
   "cell_type": "code",
   "execution_count": 7,
   "metadata": {
    "collapsed": true
   },
   "outputs": [],
   "source": [
    "# fr.photograph_face(sample_name='sample3_face', film=0, save_size=224)"
   ]
  },
  {
   "cell_type": "code",
   "execution_count": 8,
   "metadata": {
    "collapsed": true
   },
   "outputs": [],
   "source": [
    "# fr.photograph_face(sample_name='sample4_face', film=0, save_size=224)"
   ]
  },
  {
   "cell_type": "code",
   "execution_count": 9,
   "metadata": {
    "collapsed": true
   },
   "outputs": [],
   "source": [
    "# fr.photograph_face(sample_name='sample5_face', film=0, save_size=224)"
   ]
  },
  {
   "cell_type": "code",
   "execution_count": 10,
   "metadata": {
    "collapsed": true
   },
   "outputs": [],
   "source": [
    "# fr.photograph_face(sample_name='sample6_face', film=0, save_size=224)"
   ]
  },
  {
   "cell_type": "code",
   "execution_count": 11,
   "metadata": {
    "collapsed": true
   },
   "outputs": [],
   "source": [
    "# fr.photograph_face(sample_name='sample7_face', film=0, save_size=224)"
   ]
  },
  {
   "cell_type": "code",
   "execution_count": 12,
   "metadata": {},
   "outputs": [
    {
     "name": "stdout",
     "output_type": "stream",
     "text": [
      "已擷取1000張人臉圖片\n",
      "已擷取2000張人臉圖片\n",
      "已擷取3000張人臉圖片\n",
      "已擷取4000張人臉圖片\n",
      "已擷取5000張人臉圖片\n",
      "已擷取6000張人臉圖片\n",
      "已擷取7000張人臉圖片\n",
      "已擷取8000張人臉圖片\n",
      "已擷取9000張人臉圖片\n",
      "已擷取10000張人臉圖片\n",
      "已擷取10000張人臉樣本\n"
     ]
    }
   ],
   "source": [
    "fr.extract_face(sample='sample0_face', number=10000, film=0, view_number=1000, face_direction=0)"
   ]
  },
  {
   "cell_type": "code",
   "execution_count": 13,
   "metadata": {},
   "outputs": [
    {
     "name": "stdout",
     "output_type": "stream",
     "text": [
      "已擷取1000張人臉圖片\n",
      "已擷取2000張人臉圖片\n",
      "已擷取3000張人臉圖片\n",
      "已擷取4000張人臉圖片\n",
      "已擷取5000張人臉圖片\n",
      "已擷取6000張人臉圖片\n",
      "已擷取7000張人臉圖片\n",
      "已擷取8000張人臉圖片\n",
      "已擷取9000張人臉圖片\n",
      "已擷取10000張人臉圖片\n",
      "已擷取10000張人臉樣本\n"
     ]
    }
   ],
   "source": [
    "fr.extract_face(sample='sample1_face', number=10000, film=0, view_number=1000, face_direction=0)"
   ]
  },
  {
   "cell_type": "code",
   "execution_count": 4,
   "metadata": {},
   "outputs": [
    {
     "name": "stdout",
     "output_type": "stream",
     "text": [
      "已擷取1000張人臉圖片\n",
      "已擷取2000張人臉圖片\n",
      "已擷取3000張人臉圖片\n",
      "已擷取4000張人臉圖片\n",
      "已擷取5000張人臉圖片\n",
      "已擷取6000張人臉圖片\n",
      "已擷取7000張人臉圖片\n",
      "已擷取8000張人臉圖片\n",
      "已擷取9000張人臉圖片\n",
      "已擷取10000張人臉圖片\n",
      "已擷取10000張人臉樣本\n"
     ]
    }
   ],
   "source": [
    "fr.extract_face(sample='sample2_face', number=10000, film=0, view_number=1000, face_direction=0)"
   ]
  },
  {
   "cell_type": "code",
   "execution_count": 12,
   "metadata": {},
   "outputs": [
    {
     "name": "stdout",
     "output_type": "stream",
     "text": [
      "已擷取1000張人臉圖片\n",
      "已擷取2000張人臉圖片\n",
      "已擷取3000張人臉圖片\n",
      "已擷取4000張人臉圖片\n",
      "已擷取5000張人臉圖片\n",
      "已擷取6000張人臉圖片\n",
      "已擷取7000張人臉圖片\n",
      "已擷取8000張人臉圖片\n",
      "已擷取9000張人臉圖片\n",
      "已擷取10000張人臉圖片\n",
      "已擷取10000張人臉樣本\n"
     ]
    }
   ],
   "source": [
    "fr.extract_face(sample='sample3_face', number=10000, film=0, view_number=1000, face_direction=0)"
   ]
  },
  {
   "cell_type": "code",
   "execution_count": null,
   "metadata": {
    "collapsed": true
   },
   "outputs": [],
   "source": [
    "fr.extract_face(sample='sample4_face', number=10000, film=0, view_number=1000, face_direction=0)"
   ]
  },
  {
   "cell_type": "code",
   "execution_count": null,
   "metadata": {
    "collapsed": true
   },
   "outputs": [],
   "source": [
    "fr.extract_face(sample='sample5_face', number=10000, film=0, view_number=1000, face_direction=0)"
   ]
  },
  {
   "cell_type": "code",
   "execution_count": null,
   "metadata": {
    "collapsed": true
   },
   "outputs": [],
   "source": [
    "fr.extract_face(sample='sample6_face', number=10000, film=0, view_number=1000, face_direction=0)"
   ]
  },
  {
   "cell_type": "code",
   "execution_count": 15,
   "metadata": {},
   "outputs": [
    {
     "name": "stdout",
     "output_type": "stream",
     "text": [
      "已擷取1000張人臉圖片\n",
      "已擷取2000張人臉圖片\n",
      "已擷取3000張人臉圖片\n",
      "已擷取4000張人臉圖片\n",
      "已擷取5000張人臉圖片\n",
      "已擷取6000張人臉圖片\n",
      "已擷取7000張人臉圖片\n",
      "已擷取8000張人臉圖片\n",
      "已擷取9000張人臉圖片\n",
      "已擷取10000張人臉圖片\n",
      "已擷取10000張人臉樣本\n"
     ]
    }
   ],
   "source": [
    "fr.extract_face(sample='sample7_face', number=10000, film=0, view_number=1000, face_direction=0)"
   ]
  },
  {
   "cell_type": "markdown",
   "metadata": {},
   "source": [
    "# 資料預處理"
   ]
  },
  {
   "cell_type": "code",
   "execution_count": 14,
   "metadata": {
    "collapsed": true
   },
   "outputs": [],
   "source": [
    "# 寫入sample_name.txt"
   ]
  },
  {
   "cell_type": "code",
   "execution_count": 4,
   "metadata": {
    "collapsed": true
   },
   "outputs": [],
   "source": [
    "name_dict, number_of_samples=fr.get_name_dict()"
   ]
  },
  {
   "cell_type": "code",
   "execution_count": 5,
   "metadata": {},
   "outputs": [
    {
     "data": {
      "text/plain": [
       "{'sample0': 'Rex', 'sample1': 'Deng Jing-mao', 'sample2': 'Li Wei-yang'}"
      ]
     },
     "execution_count": 5,
     "metadata": {},
     "output_type": "execute_result"
    }
   ],
   "source": [
    "name_dict"
   ]
  },
  {
   "cell_type": "markdown",
   "metadata": {},
   "source": [
    "### 分割數據"
   ]
  },
  {
   "cell_type": "code",
   "execution_count": 7,
   "metadata": {
    "scrolled": true
   },
   "outputs": [
    {
     "name": "stdout",
     "output_type": "stream",
     "text": [
      "--------------------------------------------------------------------------------\n",
      "|                                                              |               |\n",
      "|              sample_train_validation                         |  sample_test  |\n",
      "|                                                              |               |\n",
      "--------------------------------------------------------------------------------\n",
      "sample0_train_validation: 9000 \t\t\t\t\tsample0_test: 1000\n",
      "sample1_train_validation: 9000 \t\t\t\t\tsample1_test: 1000\n",
      "sample2_train_validation: 9000 \t\t\t\t\tsample2_test: 1000\n",
      "\n",
      "--------------------------------------------------------------------------------\n",
      "|                                      |                       |               |\n",
      "|              sample_train            |  sample_validation    |  sample_test  |\n",
      "|                                      |                       |               |\n",
      "--------------------------------------------------------------------------------\n",
      "sample0_train: 8100 \t\t\tsample0_validation: 900 \tsample0_test: 1000\n",
      "sample1_train: 8100 \t\t\tsample1_validation: 900 \tsample1_test: 1000\n",
      "sample2_train: 8100 \t\t\tsample2_validation: 900 \tsample2_test: 1000\n"
     ]
    }
   ],
   "source": [
    "fr.train_validation_test_split(tt_split_ratio=0.1, tv_split_ratio=0.1)"
   ]
  },
  {
   "cell_type": "code",
   "execution_count": 18,
   "metadata": {
    "collapsed": true
   },
   "outputs": [],
   "source": [
    "# 檢查圖片"
   ]
  },
  {
   "cell_type": "markdown",
   "metadata": {},
   "source": [
    "### 資料增強"
   ]
  },
  {
   "cell_type": "code",
   "execution_count": 15,
   "metadata": {},
   "outputs": [
    {
     "name": "stdout",
     "output_type": "stream",
     "text": [
      "sample0_face共增加了128筆資料\n",
      "sample1_face共增加了128筆資料\n",
      "sample2_face共增加了128筆資料\n"
     ]
    }
   ],
   "source": [
    "fr.data_augmentation(numbers=2)"
   ]
  },
  {
   "cell_type": "code",
   "execution_count": 16,
   "metadata": {
    "collapsed": true
   },
   "outputs": [],
   "source": [
    "# 複製到sample0_face後刪除sample0_face+"
   ]
  },
  {
   "cell_type": "markdown",
   "metadata": {},
   "source": [
    "### 資料標準化"
   ]
  },
  {
   "cell_type": "code",
   "execution_count": 6,
   "metadata": {
    "collapsed": true
   },
   "outputs": [],
   "source": [
    "target_size = 224"
   ]
  },
  {
   "cell_type": "code",
   "execution_count": 7,
   "metadata": {},
   "outputs": [
    {
     "name": "stdout",
     "output_type": "stream",
     "text": [
      "Found 24300 images belonging to 3 classes.\n",
      "Found 2700 images belonging to 3 classes.\n",
      "Found 3000 images belonging to 3 classes.\n"
     ]
    }
   ],
   "source": [
    "from keras.preprocessing.image import ImageDataGenerator\n",
    "\n",
    "train_datagen = ImageDataGenerator(rescale = 1./255) \n",
    "validation_datagen = ImageDataGenerator(rescale = 1./255)\n",
    "test_datagen = ImageDataGenerator(rescale = 1./255)\n",
    "\n",
    "training_set = train_datagen.flow_from_directory('train/', target_size = (target_size, target_size), batch_size = 10, class_mode = 'categorical')\n",
    "validation_set = validation_datagen.flow_from_directory('validation/', target_size = (target_size, target_size), batch_size = 10, class_mode = 'categorical')\n",
    "test_set = test_datagen.flow_from_directory('test/', target_size = (target_size, target_size), batch_size = 10, class_mode = 'categorical')"
   ]
  },
  {
   "cell_type": "markdown",
   "metadata": {},
   "source": [
    "# 建立模型"
   ]
  },
  {
   "cell_type": "markdown",
   "metadata": {},
   "source": [
    "### 一般CNN"
   ]
  },
  {
   "cell_type": "code",
   "execution_count": 8,
   "metadata": {},
   "outputs": [
    {
     "name": "stdout",
     "output_type": "stream",
     "text": [
      "_________________________________________________________________\n",
      "Layer (type)                 Output Shape              Param #   \n",
      "=================================================================\n",
      "conv2d_1 (Conv2D)            (None, 224, 224, 32)      896       \n",
      "_________________________________________________________________\n",
      "max_pooling2d_1 (MaxPooling2 (None, 112, 112, 32)      0         \n",
      "_________________________________________________________________\n",
      "conv2d_2 (Conv2D)            (None, 112, 112, 32)      9248      \n",
      "_________________________________________________________________\n",
      "max_pooling2d_2 (MaxPooling2 (None, 56, 56, 32)        0         \n",
      "_________________________________________________________________\n",
      "flatten_1 (Flatten)          (None, 100352)            0         \n",
      "_________________________________________________________________\n",
      "dense_1 (Dense)              (None, 128)               12845184  \n",
      "_________________________________________________________________\n",
      "dense_2 (Dense)              (None, 128)               16512     \n",
      "_________________________________________________________________\n",
      "dense_3 (Dense)              (None, 3)                 387       \n",
      "=================================================================\n",
      "Total params: 12,872,227\n",
      "Trainable params: 12,872,227\n",
      "Non-trainable params: 0\n",
      "_________________________________________________________________\n"
     ]
    }
   ],
   "source": [
    "from keras.models import Sequential \n",
    "from keras.layers import Conv2D\n",
    "from keras.layers import MaxPooling2D \n",
    "from keras.layers import Flatten\n",
    "from keras.layers import Dense\n",
    "from keras.layers import Activation\n",
    "from keras.layers.normalization import BatchNormalization\n",
    "\n",
    "input_shape = (target_size, target_size, 3)\n",
    "\n",
    "model = Sequential() # Initialising the CNN\n",
    "model.add(Conv2D(32, (3, 3), input_shape = input_shape, activation = 'relu', padding='same')) # Convolution\n",
    "model.add(MaxPooling2D(pool_size = (2, 2))) # Max Pooling\n",
    "# model.add(BatchNormalization())\n",
    "model.add(Conv2D(32, (3, 3), activation = 'relu', padding='same')) # Convolution\n",
    "model.add(MaxPooling2D(pool_size = (2, 2))) # Max Pooling\n",
    "# model.add(BatchNormalization())\n",
    "model.add(Flatten()) # Flattening\n",
    "# model.add(BatchNormalization())\n",
    "\n",
    "# model.add(Dense(128))\n",
    "# # model.add(BatchNormalization())\n",
    "# model.add(Activation('relu'))\n",
    "\n",
    "# model.add(Dense(128))\n",
    "# # model.add(BatchNormalization())\n",
    "# model.add(Activation('relu'))\n",
    "\n",
    "# model.add(Dense(number_of_samples))\n",
    "# # model.add(BatchNormalization())\n",
    "# model.add(Activation('softmax'))\n",
    "\n",
    "model.add(Dense(units = 128, activation = 'relu')) # Fully Connected\n",
    "model.add(Dense(units = 128, activation = 'relu'))\n",
    "model.add(Dense(units = number_of_samples, activation = 'softmax'))\n",
    "model.compile(optimizer = 'adam', loss ='categorical_crossentropy', metrics = ['accuracy'])\n",
    "model.summary()"
   ]
  },
  {
   "cell_type": "markdown",
   "metadata": {},
   "source": [
    "### vgg16(自己寫)"
   ]
  },
  {
   "cell_type": "code",
   "execution_count": null,
   "metadata": {
    "collapsed": true
   },
   "outputs": [],
   "source": [
    "# from keras.models import Sequential\n",
    "# from keras.layers import Dense, Activation, Dropout, Flatten\n",
    "# from keras.layers import Conv2D\n",
    "# from keras.layers import MaxPooling2D\n",
    "\n",
    "# input_shape = (80, 80, 3)\n",
    "\n",
    "# model = Sequential([\n",
    "#                     Conv2D(64, (3, 3), input_shape=input_shape, padding='same',activation='relu'),\n",
    "#                     MaxPooling2D(pool_size=(2, 2), strides=(2, 2)),\n",
    "#                     Conv2D(128, (3, 3), activation='relu', padding='same',),\n",
    "#                     MaxPooling2D(pool_size=(2, 2), strides=(2, 2)),\n",
    "#                     Conv2D(256, (3, 3), activation='relu', padding='same',),\n",
    "#                     MaxPooling2D(pool_size=(2, 2), strides=(2, 2)),\n",
    "#                     Conv2D(512, (3, 3), activation='relu', padding='same',),\n",
    "#                     MaxPooling2D(pool_size=(2, 2), strides=(2, 2)),\n",
    "#                     Conv2D(512, (3, 3), activation='relu', padding='same',),\n",
    "#                     MaxPooling2D(pool_size=(2, 2), strides=(2, 2)),\n",
    "#                     Flatten(),\n",
    "#                     Dense(512, activation='relu'),\n",
    "#                     Dense(512, activation='relu'),\n",
    "#                     Dense(10, activation='softmax')\n",
    "#                     ])\n",
    "\n",
    "# model.summary()   "
   ]
  },
  {
   "cell_type": "markdown",
   "metadata": {},
   "source": [
    "### vgg16(keras.applications)"
   ]
  },
  {
   "cell_type": "code",
   "execution_count": null,
   "metadata": {
    "collapsed": true
   },
   "outputs": [],
   "source": [
    "# from keras.applications import VGG16\n",
    " \n",
    "# vgg_conv = VGG16(weights='imagenet',\n",
    "#                   include_top=False,\n",
    "#                   input_shape=(224, 224, 3))\n"
   ]
  },
  {
   "cell_type": "markdown",
   "metadata": {},
   "source": [
    "### vgg16遷移學習"
   ]
  },
  {
   "cell_type": "code",
   "execution_count": 5,
   "metadata": {
    "collapsed": true
   },
   "outputs": [],
   "source": [
    "import numpy as np\n",
    "import keras\n",
    "from keras import backend as K\n",
    "from keras.models import Sequential\n",
    "from keras.layers import Activation\n",
    "from keras.layers.core import Dense, Flatten\n",
    "from keras.optimizers import Adam\n",
    "from keras.metrics import categorical_crossentropy\n",
    "from keras.preprocessing.image import ImageDataGenerator\n",
    "from keras.layers.normalization import BatchNormalization\n",
    "from keras.layers.convolutional import *\n",
    "from sklearn.metrics import confusion_matrix\n",
    "from keras.models import load_model\n",
    "import itertools\n",
    "import matplotlib.pyplot as plt\n",
    "from PIL import Image"
   ]
  },
  {
   "cell_type": "code",
   "execution_count": 6,
   "metadata": {
    "collapsed": true
   },
   "outputs": [],
   "source": [
    "vgg16_model = keras.applications.vgg16.VGG16()"
   ]
  },
  {
   "cell_type": "code",
   "execution_count": 7,
   "metadata": {},
   "outputs": [
    {
     "name": "stdout",
     "output_type": "stream",
     "text": [
      "_________________________________________________________________\n",
      "Layer (type)                 Output Shape              Param #   \n",
      "=================================================================\n",
      "Total params: 0\n",
      "Trainable params: 0\n",
      "Non-trainable params: 0\n",
      "_________________________________________________________________\n"
     ]
    }
   ],
   "source": [
    "model = Sequential()\n",
    "model.summary()"
   ]
  },
  {
   "cell_type": "code",
   "execution_count": 10,
   "metadata": {},
   "outputs": [
    {
     "name": "stdout",
     "output_type": "stream",
     "text": [
      "_________________________________________________________________\n",
      "Layer (type)                 Output Shape              Param #   \n",
      "=================================================================\n",
      "input_1 (InputLayer)         (None, 224, 224, 3)       0         \n",
      "_________________________________________________________________\n",
      "block1_conv1 (Conv2D)        (None, 224, 224, 64)      1792      \n",
      "_________________________________________________________________\n",
      "block1_conv2 (Conv2D)        (None, 224, 224, 64)      36928     \n",
      "_________________________________________________________________\n",
      "block1_pool (MaxPooling2D)   (None, 112, 112, 64)      0         \n",
      "_________________________________________________________________\n",
      "block2_conv1 (Conv2D)        (None, 112, 112, 128)     73856     \n",
      "_________________________________________________________________\n",
      "block2_conv2 (Conv2D)        (None, 112, 112, 128)     147584    \n",
      "_________________________________________________________________\n",
      "block2_pool (MaxPooling2D)   (None, 56, 56, 128)       0         \n",
      "_________________________________________________________________\n",
      "block3_conv1 (Conv2D)        (None, 56, 56, 256)       295168    \n",
      "_________________________________________________________________\n",
      "block3_conv2 (Conv2D)        (None, 56, 56, 256)       590080    \n",
      "_________________________________________________________________\n",
      "block3_conv3 (Conv2D)        (None, 56, 56, 256)       590080    \n",
      "_________________________________________________________________\n",
      "block3_pool (MaxPooling2D)   (None, 28, 28, 256)       0         \n",
      "_________________________________________________________________\n",
      "block4_conv1 (Conv2D)        (None, 28, 28, 512)       1180160   \n",
      "_________________________________________________________________\n",
      "block4_conv2 (Conv2D)        (None, 28, 28, 512)       2359808   \n",
      "_________________________________________________________________\n",
      "block4_conv3 (Conv2D)        (None, 28, 28, 512)       2359808   \n",
      "_________________________________________________________________\n",
      "block4_pool (MaxPooling2D)   (None, 14, 14, 512)       0         \n",
      "_________________________________________________________________\n",
      "block5_conv1 (Conv2D)        (None, 14, 14, 512)       2359808   \n",
      "_________________________________________________________________\n",
      "block5_conv2 (Conv2D)        (None, 14, 14, 512)       2359808   \n",
      "_________________________________________________________________\n",
      "block5_conv3 (Conv2D)        (None, 14, 14, 512)       2359808   \n",
      "_________________________________________________________________\n",
      "block5_pool (MaxPooling2D)   (None, 7, 7, 512)         0         \n",
      "_________________________________________________________________\n",
      "flatten (Flatten)            (None, 25088)             0         \n",
      "_________________________________________________________________\n",
      "fc1 (Dense)                  (None, 4096)              102764544 \n",
      "_________________________________________________________________\n",
      "fc2 (Dense)                  (None, 4096)              16781312  \n",
      "_________________________________________________________________\n",
      "predictions (Dense)          (None, 1000)              4097000   \n",
      "=================================================================\n",
      "Total params: 138,357,544\n",
      "Trainable params: 138,357,544\n",
      "Non-trainable params: 0\n",
      "_________________________________________________________________\n"
     ]
    }
   ],
   "source": [
    "for layer in vgg16_model.layers:\n",
    "    model.add(layer)\n",
    "model.summary()"
   ]
  },
  {
   "cell_type": "code",
   "execution_count": 11,
   "metadata": {},
   "outputs": [
    {
     "data": {
      "text/plain": [
       "<keras.layers.core.Dense at 0x1e604d5a5f8>"
      ]
     },
     "execution_count": 11,
     "metadata": {},
     "output_type": "execute_result"
    }
   ],
   "source": [
    "model.layers.pop()"
   ]
  },
  {
   "cell_type": "code",
   "execution_count": 12,
   "metadata": {
    "collapsed": true
   },
   "outputs": [],
   "source": [
    "for layer in model.layers:\n",
    "    layer.trainable = False"
   ]
  },
  {
   "cell_type": "code",
   "execution_count": 13,
   "metadata": {
    "collapsed": true
   },
   "outputs": [],
   "source": [
    "model.add(Dense(number_of_samples, activation='softmax'))"
   ]
  },
  {
   "cell_type": "code",
   "execution_count": 14,
   "metadata": {},
   "outputs": [
    {
     "name": "stdout",
     "output_type": "stream",
     "text": [
      "_________________________________________________________________\n",
      "Layer (type)                 Output Shape              Param #   \n",
      "=================================================================\n",
      "input_1 (InputLayer)         (None, 224, 224, 3)       0         \n",
      "_________________________________________________________________\n",
      "block1_conv1 (Conv2D)        (None, 224, 224, 64)      1792      \n",
      "_________________________________________________________________\n",
      "block1_conv2 (Conv2D)        (None, 224, 224, 64)      36928     \n",
      "_________________________________________________________________\n",
      "block1_pool (MaxPooling2D)   (None, 112, 112, 64)      0         \n",
      "_________________________________________________________________\n",
      "block2_conv1 (Conv2D)        (None, 112, 112, 128)     73856     \n",
      "_________________________________________________________________\n",
      "block2_conv2 (Conv2D)        (None, 112, 112, 128)     147584    \n",
      "_________________________________________________________________\n",
      "block2_pool (MaxPooling2D)   (None, 56, 56, 128)       0         \n",
      "_________________________________________________________________\n",
      "block3_conv1 (Conv2D)        (None, 56, 56, 256)       295168    \n",
      "_________________________________________________________________\n",
      "block3_conv2 (Conv2D)        (None, 56, 56, 256)       590080    \n",
      "_________________________________________________________________\n",
      "block3_conv3 (Conv2D)        (None, 56, 56, 256)       590080    \n",
      "_________________________________________________________________\n",
      "block3_pool (MaxPooling2D)   (None, 28, 28, 256)       0         \n",
      "_________________________________________________________________\n",
      "block4_conv1 (Conv2D)        (None, 28, 28, 512)       1180160   \n",
      "_________________________________________________________________\n",
      "block4_conv2 (Conv2D)        (None, 28, 28, 512)       2359808   \n",
      "_________________________________________________________________\n",
      "block4_conv3 (Conv2D)        (None, 28, 28, 512)       2359808   \n",
      "_________________________________________________________________\n",
      "block4_pool (MaxPooling2D)   (None, 14, 14, 512)       0         \n",
      "_________________________________________________________________\n",
      "block5_conv1 (Conv2D)        (None, 14, 14, 512)       2359808   \n",
      "_________________________________________________________________\n",
      "block5_conv2 (Conv2D)        (None, 14, 14, 512)       2359808   \n",
      "_________________________________________________________________\n",
      "block5_conv3 (Conv2D)        (None, 14, 14, 512)       2359808   \n",
      "_________________________________________________________________\n",
      "block5_pool (MaxPooling2D)   (None, 7, 7, 512)         0         \n",
      "_________________________________________________________________\n",
      "flatten (Flatten)            (None, 25088)             0         \n",
      "_________________________________________________________________\n",
      "fc1 (Dense)                  (None, 4096)              102764544 \n",
      "_________________________________________________________________\n",
      "fc2 (Dense)                  (None, 4096)              16781312  \n",
      "_________________________________________________________________\n",
      "dense_1 (Dense)              (None, 3)                 3003      \n",
      "=================================================================\n",
      "Total params: 134,263,547\n",
      "Trainable params: 3,003\n",
      "Non-trainable params: 134,260,544\n",
      "_________________________________________________________________\n"
     ]
    }
   ],
   "source": [
    "model.summary()"
   ]
  },
  {
   "cell_type": "code",
   "execution_count": 15,
   "metadata": {
    "collapsed": true
   },
   "outputs": [],
   "source": [
    "model.compile(optimizer = 'adam', loss ='categorical_crossentropy', metrics = ['accuracy'])"
   ]
  },
  {
   "cell_type": "code",
   "execution_count": 14,
   "metadata": {
    "collapsed": true
   },
   "outputs": [],
   "source": [
    "# model.compile(Adam(lr=.00002122), loss='categorical_crossentropy', metrics=['accuracy'])"
   ]
  },
  {
   "cell_type": "markdown",
   "metadata": {},
   "source": [
    "# 載入模型"
   ]
  },
  {
   "cell_type": "code",
   "execution_count": 6,
   "metadata": {},
   "outputs": [
    {
     "name": "stdout",
     "output_type": "stream",
     "text": [
      "載入模型成功!繼續訓練模型\n"
     ]
    }
   ],
   "source": [
    "from keras.models import load_model\n",
    "\n",
    "try:\n",
    "    model = load_model('SaveModel/facerecognition.hd5')\n",
    "    print(\"載入模型成功!繼續訓練模型\")\n",
    "except :    \n",
    "    print(\"載入模型失敗!開始訓練一個新模型\")"
   ]
  },
  {
   "cell_type": "markdown",
   "metadata": {},
   "source": [
    "# 訓練模型"
   ]
  },
  {
   "cell_type": "code",
   "execution_count": 23,
   "metadata": {
    "collapsed": true
   },
   "outputs": [],
   "source": [
    "# https://keras.io/zh/models/sequential/\n",
    "# https://keras-cn.readthedocs.io/en/latest/models/model/"
   ]
  },
  {
   "cell_type": "code",
   "execution_count": 9,
   "metadata": {},
   "outputs": [
    {
     "name": "stdout",
     "output_type": "stream",
     "text": [
      "Epoch 1/20\n",
      "10/10 [==============================] - 8s 780ms/step - loss: 1.8276 - acc: 0.3800 - val_loss: 0.9308 - val_acc: 0.6400\n",
      "Epoch 2/20\n",
      "10/10 [==============================] - 7s 685ms/step - loss: 0.7465 - acc: 0.7500 - val_loss: 0.4095 - val_acc: 0.9600\n",
      "Epoch 3/20\n",
      "10/10 [==============================] - 7s 675ms/step - loss: 0.5054 - acc: 0.8100 - val_loss: 0.2201 - val_acc: 0.9600\n",
      "Epoch 4/20\n",
      "10/10 [==============================] - 7s 673ms/step - loss: 0.1965 - acc: 0.9900 - val_loss: 0.1055 - val_acc: 0.9900\n",
      "Epoch 5/20\n",
      "10/10 [==============================] - 7s 683ms/step - loss: 0.1360 - acc: 0.9700 - val_loss: 0.0409 - val_acc: 0.9900\n",
      "Epoch 6/20\n",
      "10/10 [==============================] - 7s 678ms/step - loss: 0.0681 - acc: 0.9900 - val_loss: 0.0083 - val_acc: 1.0000\n",
      "Epoch 7/20\n",
      "10/10 [==============================] - 7s 678ms/step - loss: 0.0458 - acc: 0.9900 - val_loss: 0.0528 - val_acc: 0.9900\n",
      "Epoch 8/20\n",
      "10/10 [==============================] - 7s 676ms/step - loss: 0.0207 - acc: 1.0000 - val_loss: 0.0243 - val_acc: 0.9900\n",
      "Epoch 9/20\n",
      "10/10 [==============================] - 7s 673ms/step - loss: 0.0427 - acc: 0.9800 - val_loss: 0.0106 - val_acc: 1.0000\n",
      "Epoch 10/20\n",
      "10/10 [==============================] - 7s 673ms/step - loss: 0.0062 - acc: 1.0000 - val_loss: 0.0108 - val_acc: 1.0000\n",
      "Epoch 11/20\n",
      "10/10 [==============================] - 7s 683ms/step - loss: 0.0038 - acc: 1.0000 - val_loss: 0.0018 - val_acc: 1.0000\n",
      "Epoch 12/20\n",
      "10/10 [==============================] - 7s 692ms/step - loss: 0.0044 - acc: 1.0000 - val_loss: 0.0379 - val_acc: 0.9900\n",
      "Epoch 13/20\n",
      "10/10 [==============================] - 7s 721ms/step - loss: 6.2742e-04 - acc: 1.0000 - val_loss: 0.0013 - val_acc: 1.0000\n",
      "Epoch 14/20\n",
      "10/10 [==============================] - 7s 737ms/step - loss: 0.0015 - acc: 1.0000 - val_loss: 0.0020 - val_acc: 1.0000\n",
      "Epoch 15/20\n",
      "10/10 [==============================] - 7s 740ms/step - loss: 0.0304 - acc: 0.9900 - val_loss: 0.0141 - val_acc: 0.9900\n",
      "Epoch 16/20\n",
      "10/10 [==============================] - 7s 706ms/step - loss: 0.0236 - acc: 1.0000 - val_loss: 0.0253 - val_acc: 0.9900\n",
      "Epoch 17/20\n",
      "10/10 [==============================] - 7s 730ms/step - loss: 0.0114 - acc: 1.0000 - val_loss: 0.0267 - val_acc: 0.9900\n",
      "Epoch 18/20\n",
      "10/10 [==============================] - 7s 683ms/step - loss: 0.0112 - acc: 1.0000 - val_loss: 0.0363 - val_acc: 0.9800\n",
      "Epoch 19/20\n",
      "10/10 [==============================] - 7s 694ms/step - loss: 0.0064 - acc: 1.0000 - val_loss: 4.4987e-04 - val_acc: 1.0000\n",
      "Epoch 20/20\n",
      "10/10 [==============================] - 7s 665ms/step - loss: 0.0011 - acc: 1.0000 - val_loss: 6.6557e-04 - val_acc: 1.0000\n"
     ]
    }
   ],
   "source": [
    "history = model.fit_generator(\n",
    "                              training_set, \n",
    "                              steps_per_epoch=10,\n",
    "                              epochs=20,\n",
    "                              verbose=1,\n",
    "                              validation_data=validation_set,\n",
    "                              validation_steps=10,\n",
    "                              shuffle=True\n",
    "                             )"
   ]
  },
  {
   "cell_type": "code",
   "execution_count": 10,
   "metadata": {
    "collapsed": true
   },
   "outputs": [],
   "source": [
    "# history = model.fit_generator(\n",
    "#                               training_set,\n",
    "#                               steps_per_epoch = 3,\n",
    "#                               nb_epoch=5,\n",
    "#                               verbose = 1,\n",
    "#                               validation_data = validation_set,\n",
    "#                               nb_val_samples=3,\n",
    "#                               shuffle=True,\n",
    "#                               )"
   ]
  },
  {
   "cell_type": "markdown",
   "metadata": {},
   "source": [
    "# 驗證曲線"
   ]
  },
  {
   "cell_type": "code",
   "execution_count": 11,
   "metadata": {},
   "outputs": [
    {
     "data": {
      "image/png": "[encoded data removed]",
      "text/plain": [
       "<Figure size 432x288 with 1 Axes>"
      ]
     },
     "metadata": {},
     "output_type": "display_data"
    }
   ],
   "source": [
    "fr.show_acc_history(history=history)"
   ]
  },
  {
   "cell_type": "code",
   "execution_count": 12,
   "metadata": {},
   "outputs": [
    {
     "data": {
      "image/png": "[encoded data removed]",
      "text/plain": [
       "<Figure size 432x288 with 1 Axes>"
      ]
     },
     "metadata": {},
     "output_type": "display_data"
    }
   ],
   "source": [
    "fr.show_loss_history(history=history)"
   ]
  },
  {
   "cell_type": "markdown",
   "metadata": {},
   "source": [
    "# 評估模型"
   ]
  },
  {
   "cell_type": "code",
   "execution_count": 4,
   "metadata": {},
   "outputs": [
    {
     "name": "stdout",
     "output_type": "stream",
     "text": [
      "Found 3000 images belonging to 3 classes.\n"
     ]
    },
    {
     "data": {
      "text/plain": [
       "0.99733333333333329"
      ]
     },
     "execution_count": 4,
     "metadata": {},
     "output_type": "execute_result"
    }
   ],
   "source": [
    "fr.evaluation_model(model=model, target_size=224)"
   ]
  },
  {
   "cell_type": "markdown",
   "metadata": {},
   "source": [
    "# 混淆矩陣"
   ]
  },
  {
   "cell_type": "code",
   "execution_count": 14,
   "metadata": {},
   "outputs": [
    {
     "name": "stdout",
     "output_type": "stream",
     "text": [
      "Found 3000 images belonging to 3 classes.\n"
     ]
    },
    {
     "data": {
      "text/html": [
       "<div>\n",
       "<style>\n",
       "    .dataframe thead tr:only-child th {\n",
       "        text-align: right;\n",
       "    }\n",
       "\n",
       "    .dataframe thead th {\n",
       "        text-align: left;\n",
       "    }\n",
       "\n",
       "    .dataframe tbody tr th {\n",
       "        vertical-align: top;\n",
       "    }\n",
       "</style>\n",
       "<table border=\"1\" class=\"dataframe\">\n",
       "  <thead>\n",
       "    <tr style=\"text-align: right;\">\n",
       "      <th>predict</th>\n",
       "      <th>Deng Jing-mao</th>\n",
       "      <th>Li Wei-yang</th>\n",
       "      <th>Rex</th>\n",
       "    </tr>\n",
       "    <tr>\n",
       "      <th>label</th>\n",
       "      <th></th>\n",
       "      <th></th>\n",
       "      <th></th>\n",
       "    </tr>\n",
       "  </thead>\n",
       "  <tbody>\n",
       "    <tr>\n",
       "      <th>Deng Jing-mao</th>\n",
       "      <td>993</td>\n",
       "      <td>2</td>\n",
       "      <td>5</td>\n",
       "    </tr>\n",
       "    <tr>\n",
       "      <th>Li Wei-yang</th>\n",
       "      <td>0</td>\n",
       "      <td>1000</td>\n",
       "      <td>0</td>\n",
       "    </tr>\n",
       "    <tr>\n",
       "      <th>Rex</th>\n",
       "      <td>0</td>\n",
       "      <td>1</td>\n",
       "      <td>999</td>\n",
       "    </tr>\n",
       "  </tbody>\n",
       "</table>\n",
       "</div>"
      ],
      "text/plain": [
       "predict        Deng Jing-mao  Li Wei-yang  Rex\n",
       "label                                         \n",
       "Deng Jing-mao            993            2    5\n",
       "Li Wei-yang                0         1000    0\n",
       "Rex                        0            1  999"
      ]
     },
     "execution_count": 14,
     "metadata": {},
     "output_type": "execute_result"
    }
   ],
   "source": [
    "fr.crosstab(model=model, target_size=224)"
   ]
  },
  {
   "cell_type": "markdown",
   "metadata": {},
   "source": [
    "# 儲存模型"
   ]
  },
  {
   "cell_type": "code",
   "execution_count": 15,
   "metadata": {},
   "outputs": [
    {
     "name": "stdout",
     "output_type": "stream",
     "text": [
      "Saved model to disk\n"
     ]
    }
   ],
   "source": [
    "if not os.path.exists('SaveModel'):\n",
    "    os.mkdir('SaveModel')\n",
    "# classifier.save_weights(\"SaveModel/face.h5\")\n",
    "model.save('SaveModel/facerecognition.hd5')\n",
    "print(\"Saved model to disk\")"
   ]
  },
  {
   "cell_type": "markdown",
   "metadata": {},
   "source": [
    "# 模型預測"
   ]
  },
  {
   "cell_type": "code",
   "execution_count": 7,
   "metadata": {},
   "outputs": [
    {
     "data": {
      "image/png": "[encoded data removed]",
      "text/plain": [
       "<Figure size 432x288 with 1 Axes>"
      ]
     },
     "metadata": {},
     "output_type": "display_data"
    },
    {
     "name": "stdout",
     "output_type": "stream",
     "text": [
      "Rex            的機率為: 0.0020606559701263905\n",
      "Deng Jing-mao  的機率為: 0.893214225769043\n",
      "Li Wei-yang    的機率為: 0.10472509264945984\n",
      "=========================================\n",
      "\n",
      "預測結果為: Deng Jing-mao(0.893214225769043%)\n"
     ]
    }
   ],
   "source": [
    "fr.predict(model=model, img=r'temporarily.jpg', target_size=224)"
   ]
  },
  {
   "cell_type": "markdown",
   "metadata": {},
   "source": [
    "# 基於深度學習的人臉辨識"
   ]
  },
  {
   "cell_type": "code",
   "execution_count": 8,
   "metadata": {
    "collapsed": true
   },
   "outputs": [],
   "source": [
    "fr.cnn_face_recognition_everyone(model=model, pro_threshold=0.9, film=0, target_size=224, face_direction=0)"
   ]
  },
  {
   "cell_type": "code",
   "execution_count": 9,
   "metadata": {
    "collapsed": true
   },
   "outputs": [],
   "source": [
    "fr.cnn_face_recognition(model=model, pro_threshold=0.9, film=0, target_size=224, face_direction=0)"
   ]
  },
  {
   "cell_type": "code",
   "execution_count": 10,
   "metadata": {
    "collapsed": true
   },
   "outputs": [],
   "source": [
    "fr.cnn_face_recognition_system(model=model, pro_threshold=0.9, film=0, target_size=224, face_direction=0, catch_times=10)"
   ]
  },
  {
   "cell_type": "markdown",
   "metadata": {},
   "source": [
    "# 基於直方圖的人臉辨識"
   ]
  },
  {
   "cell_type": "code",
   "execution_count": 11,
   "metadata": {
    "collapsed": true
   },
   "outputs": [],
   "source": [
    "fr.histogram_face_recognition(rms_threshold=100, film=0, txt='sample_name.txt', face_direction=0)"
   ]
  },
  {
   "cell_type": "code",
   "execution_count": 12,
   "metadata": {
    "collapsed": true
   },
   "outputs": [],
   "source": [
    "fr.histogram_face_recognition_system(rms_threshold=100, film=0, txt='sample_name.txt', face_direction=0, catch_times=10)"
   ]
  },
  {
   "cell_type": "markdown",
   "metadata": {},
   "source": [
    "# 深度學習結合直方圖的人臉辨識"
   ]
  },
  {
   "cell_type": "code",
   "execution_count": 10,
   "metadata": {
    "collapsed": true
   },
   "outputs": [],
   "source": [
    "fr.threshold_face_recognition_system(model=model, pro_threshold=0.9, rms_threshold = 150, \n",
    "                                     film=0, txt='sample_name.txt', target_size=224, \n",
    "                                     catch_times=10, face_direction=0)"
   ]
  },
  {
   "cell_type": "code",
   "execution_count": 9,
   "metadata": {
    "collapsed": true
   },
   "outputs": [],
   "source": [
    "fr.intersection_face_recognition_system(model=model, pro_threshold=0.9, rms_threshold = 100, \n",
    "                                        film=0, txt='sample_name.txt', target_size=224, \n",
    "                                        catch_times=10, face_direction=0)"
   ]
  },
  {
   "cell_type": "markdown",
   "metadata": {
    "collapsed": true
   },
   "source": [
    "# 準確率"
   ]
  },
  {
   "cell_type": "code",
   "execution_count": 6,
   "metadata": {},
   "outputs": [
    {
     "name": "stdout",
     "output_type": "stream",
     "text": [
      "已處理   \t:10.0%\n",
      "已偵測出  \t:140張人臉\n",
      "已正確辨識出\t:140張人臉\n",
      "達到門檻值數據所得的準確率為:1.0\n",
      "所有數據所得的準確率為   \t:0.4666666666666667\n",
      "=================================================\n",
      "已處理   \t:20.0%\n",
      "已偵測出  \t:253張人臉\n",
      "已正確辨識出\t:253張人臉\n",
      "達到門檻值數據所得的準確率為:1.0\n",
      "所有數據所得的準確率為   \t:0.4216666666666667\n",
      "=================================================\n",
      "已處理   \t:30.0%\n",
      "已偵測出  \t:371張人臉\n",
      "已正確辨識出\t:371張人臉\n",
      "達到門檻值數據所得的準確率為:1.0\n",
      "所有數據所得的準確率為   \t:0.4122222222222222\n",
      "=================================================\n",
      "已處理   \t:40.0%\n",
      "已偵測出  \t:603張人臉\n",
      "已正確辨識出\t:603張人臉\n",
      "達到門檻值數據所得的準確率為:1.0\n",
      "所有數據所得的準確率為   \t:0.5025\n",
      "=================================================\n",
      "已處理   \t:50.0%\n",
      "已偵測出  \t:888張人臉\n",
      "已正確辨識出\t:888張人臉\n",
      "達到門檻值數據所得的準確率為:1.0\n",
      "所有數據所得的準確率為   \t:0.592\n",
      "=================================================\n",
      "已處理   \t:60.0%\n",
      "已偵測出  \t:1157張人臉\n",
      "已正確辨識出\t:1157張人臉\n",
      "達到門檻值數據所得的準確率為:1.0\n",
      "所有數據所得的準確率為   \t:0.6427777777777778\n",
      "=================================================\n",
      "已處理   \t:70.0%\n",
      "已偵測出  \t:1439張人臉\n",
      "已正確辨識出\t:1439張人臉\n",
      "達到門檻值數據所得的準確率為:1.0\n",
      "所有數據所得的準確率為   \t:0.6852380952380952\n",
      "=================================================\n",
      "已處理   \t:80.0%\n",
      "已偵測出  \t:1721張人臉\n",
      "已正確辨識出\t:1721張人臉\n",
      "達到門檻值數據所得的準確率為:1.0\n",
      "所有數據所得的準確率為   \t:0.7170833333333333\n",
      "=================================================\n",
      "已處理   \t:90.0%\n",
      "已偵測出  \t:1990張人臉\n",
      "已正確辨識出\t:1990張人臉\n",
      "達到門檻值數據所得的準確率為:1.0\n",
      "所有數據所得的準確率為   \t:0.737037037037037\n",
      "=================================================\n",
      "已處理   \t:100.0%\n",
      "已偵測出  \t:2263張人臉\n",
      "已正確辨識出\t:2263張人臉\n",
      "達到門檻值數據所得的準確率為:1.0\n",
      "所有數據所得的準確率為   \t:0.7543333333333333\n",
      "=================================================\n",
      "達到門檻值數據所得的準確率為:1.0\n",
      "所有數據所得的準確率為      :0.7543333333333333\n"
     ]
    },
    {
     "data": {
      "text/plain": [
       "(1.0, 0.7543333333333333)"
      ]
     },
     "execution_count": 6,
     "metadata": {},
     "output_type": "execute_result"
    }
   ],
   "source": [
    "fr.face_recognition_accuracy(model=model, pro_threshold=0.99, rms_threshold = 100, target_size=224, view_number=300)"
   ]
  },
  {
   "cell_type": "code",
   "execution_count": 7,
   "metadata": {},
   "outputs": [
    {
     "name": "stdout",
     "output_type": "stream",
     "text": [
      "已處理   \t:10.0%\n",
      "已偵測出  \t:211張人臉\n",
      "已正確辨識出\t:211張人臉\n",
      "達到門檻值數據所得的準確率為:1.0\n",
      "所有數據所得的準確率為   \t:0.7033333333333334\n",
      "=================================================\n",
      "已處理   \t:20.0%\n",
      "已偵測出  \t:425張人臉\n",
      "已正確辨識出\t:425張人臉\n",
      "達到門檻值數據所得的準確率為:1.0\n",
      "所有數據所得的準確率為   \t:0.7083333333333334\n",
      "=================================================\n",
      "已處理   \t:30.0%\n",
      "已偵測出  \t:586張人臉\n",
      "已正確辨識出\t:586張人臉\n",
      "達到門檻值數據所得的準確率為:1.0\n",
      "所有數據所得的準確率為   \t:0.6511111111111111\n",
      "=================================================\n",
      "已處理   \t:40.0%\n",
      "已偵測出  \t:829張人臉\n",
      "已正確辨識出\t:829張人臉\n",
      "達到門檻值數據所得的準確率為:1.0\n",
      "所有數據所得的準確率為   \t:0.6908333333333333\n",
      "=================================================\n",
      "已處理   \t:50.0%\n",
      "已偵測出  \t:1120張人臉\n",
      "已正確辨識出\t:1118張人臉\n",
      "達到門檻值數據所得的準確率為:0.9982142857142857\n",
      "所有數據所得的準確率為   \t:0.7453333333333333\n",
      "=================================================\n",
      "已處理   \t:60.0%\n",
      "已偵測出  \t:1412張人臉\n",
      "已正確辨識出\t:1410張人臉\n",
      "達到門檻值數據所得的準確率為:0.9985835694050992\n",
      "所有數據所得的準確率為   \t:0.7833333333333333\n",
      "=================================================\n",
      "已處理   \t:70.0%\n",
      "已偵測出  \t:1700張人臉\n",
      "已正確辨識出\t:1698張人臉\n",
      "達到門檻值數據所得的準確率為:0.9988235294117647\n",
      "所有數據所得的準確率為   \t:0.8085714285714286\n",
      "=================================================\n",
      "已處理   \t:80.0%\n",
      "已偵測出  \t:1985張人臉\n",
      "已正確辨識出\t:1983張人臉\n",
      "達到門檻值數據所得的準確率為:0.998992443324937\n",
      "所有數據所得的準確率為   \t:0.82625\n",
      "=================================================\n",
      "已處理   \t:90.0%\n",
      "已偵測出  \t:2256張人臉\n",
      "已正確辨識出\t:2254張人臉\n",
      "達到門檻值數據所得的準確率為:0.999113475177305\n",
      "所有數據所得的準確率為   \t:0.8348148148148148\n",
      "=================================================\n",
      "已處理   \t:100.0%\n",
      "已偵測出  \t:2530張人臉\n",
      "已正確辨識出\t:2528張人臉\n",
      "達到門檻值數據所得的準確率為:0.9992094861660079\n",
      "所有數據所得的準確率為   \t:0.8426666666666667\n",
      "=================================================\n",
      "達到門檻值數據所得的準確率為:0.9992094861660079\n",
      "所有數據所得的準確率為      :0.8426666666666667\n"
     ]
    },
    {
     "data": {
      "text/plain": [
       "(0.9992094861660079, 0.8426666666666667)"
      ]
     },
     "execution_count": 7,
     "metadata": {},
     "output_type": "execute_result"
    }
   ],
   "source": [
    "fr.face_recognition_accuracy(model=model, pro_threshold=0.9, target_size=224, view_number=300)"
   ]
  },
  {
   "cell_type": "code",
   "execution_count": null,
   "metadata": {
    "collapsed": true
   },
   "outputs": [],
   "source": []
  }
 ],
 "metadata": {
  "kernelspec": {
   "display_name": "Python 3",
   "language": "python",
   "name": "python3"
  },
  "language_info": {
   "codemirror_mode": {
    "name": "ipython",
    "version": 3
   },
   "file_extension": ".py",
   "mimetype": "text/x-python",
   "name": "python",
   "nbconvert_exporter": "python",
   "pygments_lexer": "ipython3",
   "version": "3.6.3"
  }
 },
 "nbformat": 4,
 "nbformat_minor": 2
}

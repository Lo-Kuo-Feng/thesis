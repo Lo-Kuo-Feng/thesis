{
 "cells": [
  {
   "cell_type": "markdown",
   "metadata": {},
   "source": [
    "# 套件版本"
   ]
  },
  {
   "cell_type": "code",
   "execution_count": 1,
   "metadata": {},
   "outputs": [
    {
     "name": "stderr",
     "output_type": "stream",
     "text": [
      "Using TensorFlow backend.\n"
     ]
    }
   ],
   "source": [
    "import os     #使用操作系統相關功能的模塊\n",
    "import numpy as np          #Python進行科學計算的基礎包\n",
    "import pandas as pd\n",
    "from keras.utils import np_utils\n",
    "import warnings\n",
    "import facerecognition as fr\n",
    "\n",
    "warnings.filterwarnings('ignore')"
   ]
  },
  {
   "cell_type": "code",
   "execution_count": 2,
   "metadata": {},
   "outputs": [
    {
     "data": {
      "text/plain": [
       "'1.3.2'"
      ]
     },
     "execution_count": 2,
     "metadata": {},
     "output_type": "execute_result"
    }
   ],
   "source": [
    "fr.__version__"
   ]
  },
  {
   "cell_type": "code",
   "execution_count": 3,
   "metadata": {},
   "outputs": [
    {
     "name": "stdout",
     "output_type": "stream",
     "text": [
      "platform          : win32\n",
      "conda             : 4.5.5\n",
      "jupyter notebook  : 5.0.0\n",
      "Python            : 3.6.3 \n",
      "numpy             : 1.13.3\n",
      "pandas            : 0.20.3\n",
      "matplotlib        : 2.2.2\n",
      "sklearn           : 0.19.1\n",
      "tensorflow        : 1.2.1\n",
      "keras             : 2.1.3\n",
      "cv2               : 3.4.0\n",
      "dlib              : 19.6.1\n",
      "facerecognition   : 1.3.2\n"
     ]
    }
   ],
   "source": [
    "fr.version()"
   ]
  },
  {
   "cell_type": "markdown",
   "metadata": {},
   "source": [
    "# 人臉數據庫收集"
   ]
  },
  {
   "cell_type": "code",
   "execution_count": 8,
   "metadata": {
    "collapsed": true
   },
   "outputs": [],
   "source": [
    "fr.photograph_face(sample_name='sample1_face', film=0, save_size=640)"
   ]
  },
  {
   "cell_type": "code",
   "execution_count": 10,
   "metadata": {
    "collapsed": true
   },
   "outputs": [],
   "source": [
    "fr.photograph_face(sample_name='sample3_face', film=0, save_size=640)"
   ]
  },
  {
   "cell_type": "code",
   "execution_count": 14,
   "metadata": {
    "collapsed": true
   },
   "outputs": [],
   "source": [
    "fr.photograph_face(sample_name='sample7_face', film=0, save_size=640)"
   ]
  },
  {
   "cell_type": "code",
   "execution_count": 9,
   "metadata": {},
   "outputs": [
    {
     "name": "stdout",
     "output_type": "stream",
     "text": [
      "已擷取1000張人臉圖片\n",
      "已擷取2000張人臉圖片\n",
      "已擷取3000張人臉圖片\n",
      "已擷取4000張人臉圖片\n",
      "已擷取5000張人臉圖片\n",
      "已擷取6000張人臉圖片\n",
      "已擷取7000張人臉圖片\n",
      "已擷取8000張人臉圖片\n",
      "已擷取9000張人臉圖片\n",
      "已擷取10000張人臉圖片\n",
      "已擷取10000張人臉樣本\n"
     ]
    }
   ],
   "source": [
    "fr.extract_face(sample='sample1_face', number=10000, film=0, view_number=1000)"
   ]
  },
  {
   "cell_type": "code",
   "execution_count": 12,
   "metadata": {},
   "outputs": [
    {
     "name": "stdout",
     "output_type": "stream",
     "text": [
      "已擷取1000張人臉圖片\n",
      "已擷取2000張人臉圖片\n",
      "已擷取3000張人臉圖片\n",
      "已擷取4000張人臉圖片\n",
      "已擷取5000張人臉圖片\n",
      "已擷取6000張人臉圖片\n",
      "已擷取7000張人臉圖片\n",
      "已擷取8000張人臉圖片\n",
      "已擷取9000張人臉圖片\n",
      "已擷取10000張人臉圖片\n",
      "已擷取10000張人臉樣本\n"
     ]
    }
   ],
   "source": [
    "fr.extract_face(sample='sample3_face', number=10000, film=0, view_number=1000)"
   ]
  },
  {
   "cell_type": "code",
   "execution_count": 15,
   "metadata": {},
   "outputs": [
    {
     "name": "stdout",
     "output_type": "stream",
     "text": [
      "已擷取1000張人臉圖片\n",
      "已擷取2000張人臉圖片\n",
      "已擷取3000張人臉圖片\n",
      "已擷取4000張人臉圖片\n",
      "已擷取5000張人臉圖片\n",
      "已擷取6000張人臉圖片\n",
      "已擷取7000張人臉圖片\n",
      "已擷取8000張人臉圖片\n",
      "已擷取9000張人臉圖片\n",
      "已擷取10000張人臉圖片\n",
      "已擷取10000張人臉樣本\n"
     ]
    }
   ],
   "source": [
    "fr.extract_face(sample='sample7_face', number=10000, film=0, view_number=1000)"
   ]
  },
  {
   "cell_type": "markdown",
   "metadata": {},
   "source": [
    "# 資料預處理"
   ]
  },
  {
   "cell_type": "code",
   "execution_count": 16,
   "metadata": {
    "collapsed": true
   },
   "outputs": [],
   "source": [
    "# 寫入sample_name.txt"
   ]
  },
  {
   "cell_type": "code",
   "execution_count": 4,
   "metadata": {
    "collapsed": true
   },
   "outputs": [],
   "source": [
    "name_dict, number_of_samples=fr.get_name_dict()"
   ]
  },
  {
   "cell_type": "code",
   "execution_count": 5,
   "metadata": {},
   "outputs": [
    {
     "data": {
      "text/plain": [
       "{'sample0': 'Rex', 'sample1': 'Wang Guan-gjing', 'sample2': 'Chen Siy-uan'}"
      ]
     },
     "execution_count": 5,
     "metadata": {},
     "output_type": "execute_result"
    }
   ],
   "source": [
    "name_dict"
   ]
  },
  {
   "cell_type": "markdown",
   "metadata": {},
   "source": [
    "### 分割數據"
   ]
  },
  {
   "cell_type": "code",
   "execution_count": 6,
   "metadata": {},
   "outputs": [
    {
     "name": "stdout",
     "output_type": "stream",
     "text": [
      "--------------------------------------------------------------------------------\n",
      "|                                                              |               |\n",
      "|              sample_train_validation                         |  sample_test  |\n",
      "|                                                              |               |\n",
      "--------------------------------------------------------------------------------\n",
      "sample0_train_validation: 9000 \t\t\t\t\tsample0_test: 1000\n",
      "sample1_train_validation: 8984 \t\t\t\t\tsample1_test: 999\n",
      "sample2_train_validation: 8993 \t\t\t\t\tsample2_test: 1000\n",
      "\n",
      "--------------------------------------------------------------------------------\n",
      "|                                      |                       |               |\n",
      "|              sample_train            |  sample_validation    |  sample_test  |\n",
      "|                                      |                       |               |\n",
      "--------------------------------------------------------------------------------\n",
      "sample0_train: 8100 \t\t\tsample0_validation: 900 \tsample0_test: 1000\n",
      "sample1_train: 8085 \t\t\tsample1_validation: 899 \tsample1_test: 999\n",
      "sample2_train: 8093 \t\t\tsample2_validation: 900 \tsample2_test: 1000\n"
     ]
    }
   ],
   "source": [
    "fr.train_validation_test_split(tt_split_ratio=0.1, tv_split_ratio=0.1)"
   ]
  },
  {
   "cell_type": "code",
   "execution_count": 7,
   "metadata": {
    "collapsed": true
   },
   "outputs": [],
   "source": [
    "# 檢查圖片"
   ]
  },
  {
   "cell_type": "markdown",
   "metadata": {},
   "source": [
    "### 資料增強"
   ]
  },
  {
   "cell_type": "code",
   "execution_count": 15,
   "metadata": {},
   "outputs": [
    {
     "name": "stdout",
     "output_type": "stream",
     "text": [
      "sample0_face共增加了128筆資料\n",
      "sample1_face共增加了128筆資料\n",
      "sample2_face共增加了128筆資料\n"
     ]
    }
   ],
   "source": [
    "fr.data_augmentation(numbers=2)"
   ]
  },
  {
   "cell_type": "code",
   "execution_count": 16,
   "metadata": {
    "collapsed": true
   },
   "outputs": [],
   "source": [
    "# 複製到sample0_face後刪除sample0_face+"
   ]
  },
  {
   "cell_type": "markdown",
   "metadata": {},
   "source": [
    "### 資料標準化"
   ]
  },
  {
   "cell_type": "code",
   "execution_count": 8,
   "metadata": {
    "collapsed": true
   },
   "outputs": [],
   "source": [
    "target_size = 224"
   ]
  },
  {
   "cell_type": "code",
   "execution_count": 9,
   "metadata": {},
   "outputs": [
    {
     "name": "stdout",
     "output_type": "stream",
     "text": [
      "Found 24278 images belonging to 3 classes.\n",
      "Found 2699 images belonging to 3 classes.\n",
      "Found 2999 images belonging to 3 classes.\n"
     ]
    }
   ],
   "source": [
    "from keras.preprocessing.image import ImageDataGenerator\n",
    "\n",
    "train_datagen = ImageDataGenerator(rescale = 1./255) \n",
    "validation_datagen = ImageDataGenerator(rescale = 1./255)\n",
    "test_datagen = ImageDataGenerator(rescale = 1./255)\n",
    "\n",
    "training_set = train_datagen.flow_from_directory('train/', target_size = (target_size, target_size), batch_size = 10, class_mode = 'categorical')\n",
    "validation_set = validation_datagen.flow_from_directory('validation/', target_size = (target_size, target_size), batch_size = 10, class_mode = 'categorical')\n",
    "test_set = test_datagen.flow_from_directory('test/', target_size = (target_size, target_size), batch_size = 10, class_mode = 'categorical')"
   ]
  },
  {
   "cell_type": "markdown",
   "metadata": {},
   "source": [
    "# 建立模型"
   ]
  },
  {
   "cell_type": "markdown",
   "metadata": {},
   "source": [
    "### 一般CNN"
   ]
  },
  {
   "cell_type": "code",
   "execution_count": 28,
   "metadata": {},
   "outputs": [
    {
     "name": "stdout",
     "output_type": "stream",
     "text": [
      "_________________________________________________________________\n",
      "Layer (type)                 Output Shape              Param #   \n",
      "=================================================================\n",
      "conv2d_5 (Conv2D)            (None, 222, 222, 32)      896       \n",
      "_________________________________________________________________\n",
      "max_pooling2d_5 (MaxPooling2 (None, 111, 111, 32)      0         \n",
      "_________________________________________________________________\n",
      "conv2d_6 (Conv2D)            (None, 109, 109, 32)      9248      \n",
      "_________________________________________________________________\n",
      "max_pooling2d_6 (MaxPooling2 (None, 54, 54, 32)        0         \n",
      "_________________________________________________________________\n",
      "flatten_3 (Flatten)          (None, 93312)             0         \n",
      "_________________________________________________________________\n",
      "dense_7 (Dense)              (None, 128)               11944064  \n",
      "_________________________________________________________________\n",
      "dense_8 (Dense)              (None, 128)               16512     \n",
      "_________________________________________________________________\n",
      "dense_9 (Dense)              (None, 3)                 387       \n",
      "=================================================================\n",
      "Total params: 11,971,107\n",
      "Trainable params: 11,971,107\n",
      "Non-trainable params: 0\n",
      "_________________________________________________________________\n"
     ]
    }
   ],
   "source": [
    "from keras.models import Sequential \n",
    "from keras.layers import Conv2D\n",
    "from keras.layers import MaxPooling2D \n",
    "from keras.layers import Flatten\n",
    "from keras.layers import Dense\n",
    "from keras.layers import Activation\n",
    "from keras.layers.normalization import BatchNormalization\n",
    "\n",
    "input_shape = (target_size, target_size, 3)\n",
    "\n",
    "model = Sequential() # Initialising the CNN\n",
    "model.add(Conv2D(32, (3, 3), input_shape = input_shape, activation = 'relu')) # Convolution\n",
    "model.add(MaxPooling2D(pool_size = (2, 2))) # Max Pooling\n",
    "# model.add(BatchNormalization())\n",
    "model.add(Conv2D(32, (3, 3), activation = 'relu')) # Convolution\n",
    "model.add(MaxPooling2D(pool_size = (2, 2))) # Max Pooling\n",
    "# model.add(BatchNormalization())\n",
    "model.add(Flatten()) # Flattening\n",
    "# model.add(BatchNormalization())\n",
    "\n",
    "# model.add(Dense(128))\n",
    "# # model.add(BatchNormalization())\n",
    "# model.add(Activation('relu'))\n",
    "\n",
    "# model.add(Dense(128))\n",
    "# # model.add(BatchNormalization())\n",
    "# model.add(Activation('relu'))\n",
    "\n",
    "# model.add(Dense(number_of_samples))\n",
    "# # model.add(BatchNormalization())\n",
    "# model.add(Activation('softmax'))\n",
    "\n",
    "model.add(Dense(units = 128, activation = 'relu')) # Fully Connected\n",
    "model.add(Dense(units = 128, activation = 'relu'))\n",
    "model.add(Dense(units = number_of_samples, activation = 'softmax'))\n",
    "model.compile(optimizer = 'adam', loss ='categorical_crossentropy', metrics = ['accuracy'])\n",
    "model.summary()"
   ]
  },
  {
   "cell_type": "markdown",
   "metadata": {},
   "source": [
    "### vgg16(自己寫)"
   ]
  },
  {
   "cell_type": "code",
   "execution_count": null,
   "metadata": {
    "collapsed": true
   },
   "outputs": [],
   "source": [
    "# from keras.models import Sequential\n",
    "# from keras.layers import Dense, Activation, Dropout, Flatten\n",
    "# from keras.layers import Conv2D\n",
    "# from keras.layers import MaxPooling2D\n",
    "\n",
    "# input_shape = (80, 80, 3)\n",
    "\n",
    "# model = Sequential([\n",
    "#                     Conv2D(64, (3, 3), input_shape=input_shape, padding='same',activation='relu'),\n",
    "#                     MaxPooling2D(pool_size=(2, 2), strides=(2, 2)),\n",
    "#                     Conv2D(128, (3, 3), activation='relu', padding='same',),\n",
    "#                     MaxPooling2D(pool_size=(2, 2), strides=(2, 2)),\n",
    "#                     Conv2D(256, (3, 3), activation='relu', padding='same',),\n",
    "#                     MaxPooling2D(pool_size=(2, 2), strides=(2, 2)),\n",
    "#                     Conv2D(512, (3, 3), activation='relu', padding='same',),\n",
    "#                     MaxPooling2D(pool_size=(2, 2), strides=(2, 2)),\n",
    "#                     Conv2D(512, (3, 3), activation='relu', padding='same',),\n",
    "#                     MaxPooling2D(pool_size=(2, 2), strides=(2, 2)),\n",
    "#                     Flatten(),\n",
    "#                     Dense(512, activation='relu'),\n",
    "#                     Dense(512, activation='relu'),\n",
    "#                     Dense(10, activation='softmax')\n",
    "#                     ])\n",
    "\n",
    "# model.summary()   "
   ]
  },
  {
   "cell_type": "markdown",
   "metadata": {},
   "source": [
    "### vgg16(keras.applications)"
   ]
  },
  {
   "cell_type": "code",
   "execution_count": null,
   "metadata": {
    "collapsed": true
   },
   "outputs": [],
   "source": [
    "# from keras.applications import VGG16\n",
    " \n",
    "# vgg_conv = VGG16(weights='imagenet',\n",
    "#                   include_top=False,\n",
    "#                   input_shape=(224, 224, 3))\n"
   ]
  },
  {
   "cell_type": "markdown",
   "metadata": {},
   "source": [
    "### vgg16遷移學習"
   ]
  },
  {
   "cell_type": "code",
   "execution_count": 5,
   "metadata": {
    "collapsed": true
   },
   "outputs": [],
   "source": [
    "import numpy as np\n",
    "import keras\n",
    "from keras import backend as K\n",
    "from keras.models import Sequential\n",
    "from keras.layers import Activation\n",
    "from keras.layers.core import Dense, Flatten\n",
    "from keras.optimizers import Adam\n",
    "from keras.metrics import categorical_crossentropy\n",
    "from keras.preprocessing.image import ImageDataGenerator\n",
    "from keras.layers.normalization import BatchNormalization\n",
    "from keras.layers.convolutional import *\n",
    "from sklearn.metrics import confusion_matrix\n",
    "from keras.models import load_model\n",
    "import itertools\n",
    "import matplotlib.pyplot as plt\n",
    "from PIL import Image"
   ]
  },
  {
   "cell_type": "code",
   "execution_count": 6,
   "metadata": {
    "collapsed": true
   },
   "outputs": [],
   "source": [
    "vgg16_model = keras.applications.vgg16.VGG16()"
   ]
  },
  {
   "cell_type": "code",
   "execution_count": 7,
   "metadata": {},
   "outputs": [
    {
     "name": "stdout",
     "output_type": "stream",
     "text": [
      "_________________________________________________________________\n",
      "Layer (type)                 Output Shape              Param #   \n",
      "=================================================================\n",
      "Total params: 0\n",
      "Trainable params: 0\n",
      "Non-trainable params: 0\n",
      "_________________________________________________________________\n"
     ]
    }
   ],
   "source": [
    "model = Sequential()\n",
    "model.summary()"
   ]
  },
  {
   "cell_type": "code",
   "execution_count": 10,
   "metadata": {},
   "outputs": [
    {
     "name": "stdout",
     "output_type": "stream",
     "text": [
      "_________________________________________________________________\n",
      "Layer (type)                 Output Shape              Param #   \n",
      "=================================================================\n",
      "input_1 (InputLayer)         (None, 224, 224, 3)       0         \n",
      "_________________________________________________________________\n",
      "block1_conv1 (Conv2D)        (None, 224, 224, 64)      1792      \n",
      "_________________________________________________________________\n",
      "block1_conv2 (Conv2D)        (None, 224, 224, 64)      36928     \n",
      "_________________________________________________________________\n",
      "block1_pool (MaxPooling2D)   (None, 112, 112, 64)      0         \n",
      "_________________________________________________________________\n",
      "block2_conv1 (Conv2D)        (None, 112, 112, 128)     73856     \n",
      "_________________________________________________________________\n",
      "block2_conv2 (Conv2D)        (None, 112, 112, 128)     147584    \n",
      "_________________________________________________________________\n",
      "block2_pool (MaxPooling2D)   (None, 56, 56, 128)       0         \n",
      "_________________________________________________________________\n",
      "block3_conv1 (Conv2D)        (None, 56, 56, 256)       295168    \n",
      "_________________________________________________________________\n",
      "block3_conv2 (Conv2D)        (None, 56, 56, 256)       590080    \n",
      "_________________________________________________________________\n",
      "block3_conv3 (Conv2D)        (None, 56, 56, 256)       590080    \n",
      "_________________________________________________________________\n",
      "block3_pool (MaxPooling2D)   (None, 28, 28, 256)       0         \n",
      "_________________________________________________________________\n",
      "block4_conv1 (Conv2D)        (None, 28, 28, 512)       1180160   \n",
      "_________________________________________________________________\n",
      "block4_conv2 (Conv2D)        (None, 28, 28, 512)       2359808   \n",
      "_________________________________________________________________\n",
      "block4_conv3 (Conv2D)        (None, 28, 28, 512)       2359808   \n",
      "_________________________________________________________________\n",
      "block4_pool (MaxPooling2D)   (None, 14, 14, 512)       0         \n",
      "_________________________________________________________________\n",
      "block5_conv1 (Conv2D)        (None, 14, 14, 512)       2359808   \n",
      "_________________________________________________________________\n",
      "block5_conv2 (Conv2D)        (None, 14, 14, 512)       2359808   \n",
      "_________________________________________________________________\n",
      "block5_conv3 (Conv2D)        (None, 14, 14, 512)       2359808   \n",
      "_________________________________________________________________\n",
      "block5_pool (MaxPooling2D)   (None, 7, 7, 512)         0         \n",
      "_________________________________________________________________\n",
      "flatten (Flatten)            (None, 25088)             0         \n",
      "_________________________________________________________________\n",
      "fc1 (Dense)                  (None, 4096)              102764544 \n",
      "_________________________________________________________________\n",
      "fc2 (Dense)                  (None, 4096)              16781312  \n",
      "_________________________________________________________________\n",
      "predictions (Dense)          (None, 1000)              4097000   \n",
      "=================================================================\n",
      "Total params: 138,357,544\n",
      "Trainable params: 138,357,544\n",
      "Non-trainable params: 0\n",
      "_________________________________________________________________\n"
     ]
    }
   ],
   "source": [
    "for layer in vgg16_model.layers:\n",
    "    model.add(layer)\n",
    "model.summary()"
   ]
  },
  {
   "cell_type": "code",
   "execution_count": 11,
   "metadata": {},
   "outputs": [
    {
     "data": {
      "text/plain": [
       "<keras.layers.core.Dense at 0x1e604d5a5f8>"
      ]
     },
     "execution_count": 11,
     "metadata": {},
     "output_type": "execute_result"
    }
   ],
   "source": [
    "model.layers.pop()"
   ]
  },
  {
   "cell_type": "code",
   "execution_count": 12,
   "metadata": {
    "collapsed": true
   },
   "outputs": [],
   "source": [
    "for layer in model.layers:\n",
    "    layer.trainable = False"
   ]
  },
  {
   "cell_type": "code",
   "execution_count": 13,
   "metadata": {
    "collapsed": true
   },
   "outputs": [],
   "source": [
    "model.add(Dense(number_of_samples, activation='softmax'))"
   ]
  },
  {
   "cell_type": "code",
   "execution_count": 14,
   "metadata": {},
   "outputs": [
    {
     "name": "stdout",
     "output_type": "stream",
     "text": [
      "_________________________________________________________________\n",
      "Layer (type)                 Output Shape              Param #   \n",
      "=================================================================\n",
      "input_1 (InputLayer)         (None, 224, 224, 3)       0         \n",
      "_________________________________________________________________\n",
      "block1_conv1 (Conv2D)        (None, 224, 224, 64)      1792      \n",
      "_________________________________________________________________\n",
      "block1_conv2 (Conv2D)        (None, 224, 224, 64)      36928     \n",
      "_________________________________________________________________\n",
      "block1_pool (MaxPooling2D)   (None, 112, 112, 64)      0         \n",
      "_________________________________________________________________\n",
      "block2_conv1 (Conv2D)        (None, 112, 112, 128)     73856     \n",
      "_________________________________________________________________\n",
      "block2_conv2 (Conv2D)        (None, 112, 112, 128)     147584    \n",
      "_________________________________________________________________\n",
      "block2_pool (MaxPooling2D)   (None, 56, 56, 128)       0         \n",
      "_________________________________________________________________\n",
      "block3_conv1 (Conv2D)        (None, 56, 56, 256)       295168    \n",
      "_________________________________________________________________\n",
      "block3_conv2 (Conv2D)        (None, 56, 56, 256)       590080    \n",
      "_________________________________________________________________\n",
      "block3_conv3 (Conv2D)        (None, 56, 56, 256)       590080    \n",
      "_________________________________________________________________\n",
      "block3_pool (MaxPooling2D)   (None, 28, 28, 256)       0         \n",
      "_________________________________________________________________\n",
      "block4_conv1 (Conv2D)        (None, 28, 28, 512)       1180160   \n",
      "_________________________________________________________________\n",
      "block4_conv2 (Conv2D)        (None, 28, 28, 512)       2359808   \n",
      "_________________________________________________________________\n",
      "block4_conv3 (Conv2D)        (None, 28, 28, 512)       2359808   \n",
      "_________________________________________________________________\n",
      "block4_pool (MaxPooling2D)   (None, 14, 14, 512)       0         \n",
      "_________________________________________________________________\n",
      "block5_conv1 (Conv2D)        (None, 14, 14, 512)       2359808   \n",
      "_________________________________________________________________\n",
      "block5_conv2 (Conv2D)        (None, 14, 14, 512)       2359808   \n",
      "_________________________________________________________________\n",
      "block5_conv3 (Conv2D)        (None, 14, 14, 512)       2359808   \n",
      "_________________________________________________________________\n",
      "block5_pool (MaxPooling2D)   (None, 7, 7, 512)         0         \n",
      "_________________________________________________________________\n",
      "flatten (Flatten)            (None, 25088)             0         \n",
      "_________________________________________________________________\n",
      "fc1 (Dense)                  (None, 4096)              102764544 \n",
      "_________________________________________________________________\n",
      "fc2 (Dense)                  (None, 4096)              16781312  \n",
      "_________________________________________________________________\n",
      "dense_1 (Dense)              (None, 3)                 3003      \n",
      "=================================================================\n",
      "Total params: 134,263,547\n",
      "Trainable params: 3,003\n",
      "Non-trainable params: 134,260,544\n",
      "_________________________________________________________________\n"
     ]
    }
   ],
   "source": [
    "model.summary()"
   ]
  },
  {
   "cell_type": "code",
   "execution_count": 15,
   "metadata": {
    "collapsed": true
   },
   "outputs": [],
   "source": [
    "model.compile(optimizer = 'adam', loss ='categorical_crossentropy', metrics = ['accuracy'])"
   ]
  },
  {
   "cell_type": "code",
   "execution_count": 14,
   "metadata": {
    "collapsed": true
   },
   "outputs": [],
   "source": [
    "# model.compile(Adam(lr=.00002122), loss='categorical_crossentropy', metrics=['accuracy'])"
   ]
  },
  {
   "cell_type": "markdown",
   "metadata": {},
   "source": [
    "# 載入模型"
   ]
  },
  {
   "cell_type": "code",
   "execution_count": 11,
   "metadata": {},
   "outputs": [
    {
     "name": "stdout",
     "output_type": "stream",
     "text": [
      "載入模型失敗!開始訓練一個新模型\n"
     ]
    }
   ],
   "source": [
    "from keras.models import load_model\n",
    "\n",
    "try:\n",
    "    model = load_model('SaveModel/facerecognition.hd5')\n",
    "    print(\"載入模型成功!繼續訓練模型\")\n",
    "except :    \n",
    "    print(\"載入模型失敗!開始訓練一個新模型\")"
   ]
  },
  {
   "cell_type": "markdown",
   "metadata": {},
   "source": [
    "# 訓練模型"
   ]
  },
  {
   "cell_type": "code",
   "execution_count": 12,
   "metadata": {
    "collapsed": true
   },
   "outputs": [],
   "source": [
    "# https://keras.io/zh/models/sequential/\n",
    "# https://keras-cn.readthedocs.io/en/latest/models/model/"
   ]
  },
  {
   "cell_type": "code",
   "execution_count": 29,
   "metadata": {},
   "outputs": [
    {
     "name": "stdout",
     "output_type": "stream",
     "text": [
      "Epoch 1/20\n",
      "10/10 [==============================] - 8s 786ms/step - loss: 5.5806 - acc: 0.4400 - val_loss: 3.3045 - val_acc: 0.3300\n",
      "Epoch 2/20\n",
      "10/10 [==============================] - 7s 700ms/step - loss: 1.3775 - acc: 0.2900 - val_loss: 1.0358 - val_acc: 0.4000\n",
      "Epoch 3/20\n",
      "10/10 [==============================] - 7s 706ms/step - loss: 0.9217 - acc: 0.4800 - val_loss: 0.7167 - val_acc: 0.7300\n",
      "Epoch 4/20\n",
      "10/10 [==============================] - 7s 657ms/step - loss: 0.5601 - acc: 0.8700 - val_loss: 0.3355 - val_acc: 0.9400\n",
      "Epoch 5/20\n",
      "10/10 [==============================] - 7s 709ms/step - loss: 0.4560 - acc: 0.8300 - val_loss: 0.4353 - val_acc: 0.8600\n",
      "Epoch 6/20\n",
      "10/10 [==============================] - 7s 677ms/step - loss: 0.2646 - acc: 0.8900 - val_loss: 0.2605 - val_acc: 0.9000\n",
      "Epoch 7/20\n",
      "10/10 [==============================] - 7s 668ms/step - loss: 0.1722 - acc: 0.9500 - val_loss: 0.1518 - val_acc: 0.9400\n",
      "Epoch 8/20\n",
      "10/10 [==============================] - 7s 672ms/step - loss: 0.0856 - acc: 0.9800 - val_loss: 0.0411 - val_acc: 0.9800\n",
      "Epoch 9/20\n",
      "10/10 [==============================] - 7s 668ms/step - loss: 0.0530 - acc: 0.9800 - val_loss: 0.0686 - val_acc: 0.9800\n",
      "Epoch 10/20\n",
      "10/10 [==============================] - 7s 667ms/step - loss: 0.0508 - acc: 0.9800 - val_loss: 0.0204 - val_acc: 0.9900\n",
      "Epoch 11/20\n",
      "10/10 [==============================] - 7s 661ms/step - loss: 0.1183 - acc: 0.9600 - val_loss: 0.0917 - val_acc: 0.9500\n",
      "Epoch 12/20\n",
      "10/10 [==============================] - 7s 680ms/step - loss: 0.1459 - acc: 0.9700 - val_loss: 0.0317 - val_acc: 0.9900\n",
      "Epoch 13/20\n",
      "10/10 [==============================] - 7s 681ms/step - loss: 0.0358 - acc: 1.0000 - val_loss: 0.0409 - val_acc: 0.9800\n",
      "Epoch 14/20\n",
      "10/10 [==============================] - 7s 675ms/step - loss: 0.0121 - acc: 1.0000 - val_loss: 0.0201 - val_acc: 0.9900\n",
      "Epoch 15/20\n",
      "10/10 [==============================] - 7s 654ms/step - loss: 0.0232 - acc: 0.9900 - val_loss: 0.0846 - val_acc: 0.9700\n",
      "Epoch 16/20\n",
      "10/10 [==============================] - 7s 656ms/step - loss: 0.0106 - acc: 1.0000 - val_loss: 0.0117 - val_acc: 1.0000\n",
      "Epoch 17/20\n",
      "10/10 [==============================] - 7s 651ms/step - loss: 0.0174 - acc: 1.0000 - val_loss: 0.1005 - val_acc: 0.9600\n",
      "Epoch 18/20\n",
      "10/10 [==============================] - 7s 658ms/step - loss: 0.0999 - acc: 0.9500 - val_loss: 0.0231 - val_acc: 0.9900\n",
      "Epoch 19/20\n",
      "10/10 [==============================] - 7s 651ms/step - loss: 0.0875 - acc: 0.9700 - val_loss: 0.1808 - val_acc: 0.9300\n",
      "Epoch 20/20\n",
      "10/10 [==============================] - 7s 656ms/step - loss: 0.0709 - acc: 0.9800 - val_loss: 0.0216 - val_acc: 1.0000\n"
     ]
    }
   ],
   "source": [
    "history = model.fit_generator(\n",
    "                              training_set, \n",
    "                              steps_per_epoch=10,\n",
    "                              epochs=20,\n",
    "                              verbose=1,\n",
    "                              validation_data=validation_set,\n",
    "                              validation_steps=10,\n",
    "                              shuffle=True\n",
    "                             )"
   ]
  },
  {
   "cell_type": "code",
   "execution_count": 24,
   "metadata": {
    "collapsed": true
   },
   "outputs": [],
   "source": [
    "# history = model.fit_generator(\n",
    "#                               training_set,\n",
    "#                               steps_per_epoch = 3,\n",
    "#                               nb_epoch=5,\n",
    "#                               verbose = 1,\n",
    "#                               validation_data = validation_set,\n",
    "#                               nb_val_samples=3,\n",
    "#                               shuffle=True,\n",
    "#                               )"
   ]
  },
  {
   "cell_type": "markdown",
   "metadata": {},
   "source": [
    "# 驗證曲線"
   ]
  },
  {
   "cell_type": "code",
   "execution_count": 30,
   "metadata": {},
   "outputs": [
    {
     "data": {
      "image/png": "[encoded data removed]",
      "text/plain": [
       "<Figure size 432x288 with 1 Axes>"
      ]
     },
     "metadata": {},
     "output_type": "display_data"
    }
   ],
   "source": [
    "fr.show_acc_history(history=history)"
   ]
  },
  {
   "cell_type": "code",
   "execution_count": 31,
   "metadata": {},
   "outputs": [
    {
     "data": {
      "image/png": "[encoded data removed]",
      "text/plain": [
       "<Figure size 432x288 with 1 Axes>"
      ]
     },
     "metadata": {},
     "output_type": "display_data"
    }
   ],
   "source": [
    "fr.show_loss_history(history=history)"
   ]
  },
  {
   "cell_type": "markdown",
   "metadata": {},
   "source": [
    "# 評估模型"
   ]
  },
  {
   "cell_type": "code",
   "execution_count": 16,
   "metadata": {},
   "outputs": [
    {
     "name": "stdout",
     "output_type": "stream",
     "text": [
      "Found 2999 images belonging to 3 classes.\n"
     ]
    },
    {
     "data": {
      "text/plain": [
       "0.95898632877625878"
      ]
     },
     "execution_count": 16,
     "metadata": {},
     "output_type": "execute_result"
    }
   ],
   "source": [
    "fr.evaluation_model(model=model, target_size=224)"
   ]
  },
  {
   "cell_type": "markdown",
   "metadata": {},
   "source": [
    "# 混淆矩陣"
   ]
  },
  {
   "cell_type": "code",
   "execution_count": 17,
   "metadata": {},
   "outputs": [
    {
     "name": "stdout",
     "output_type": "stream",
     "text": [
      "Found 2999 images belonging to 3 classes.\n"
     ]
    },
    {
     "data": {
      "text/html": [
       "<div>\n",
       "<style>\n",
       "    .dataframe thead tr:only-child th {\n",
       "        text-align: right;\n",
       "    }\n",
       "\n",
       "    .dataframe thead th {\n",
       "        text-align: left;\n",
       "    }\n",
       "\n",
       "    .dataframe tbody tr th {\n",
       "        vertical-align: top;\n",
       "    }\n",
       "</style>\n",
       "<table border=\"1\" class=\"dataframe\">\n",
       "  <thead>\n",
       "    <tr style=\"text-align: right;\">\n",
       "      <th>predict</th>\n",
       "      <th>Chen Siy-uan</th>\n",
       "      <th>Rex</th>\n",
       "      <th>Wang Guan-gjing</th>\n",
       "    </tr>\n",
       "    <tr>\n",
       "      <th>label</th>\n",
       "      <th></th>\n",
       "      <th></th>\n",
       "      <th></th>\n",
       "    </tr>\n",
       "  </thead>\n",
       "  <tbody>\n",
       "    <tr>\n",
       "      <th>Chen Siy-uan</th>\n",
       "      <td>998</td>\n",
       "      <td>0</td>\n",
       "      <td>2</td>\n",
       "    </tr>\n",
       "    <tr>\n",
       "      <th>Rex</th>\n",
       "      <td>4</td>\n",
       "      <td>880</td>\n",
       "      <td>116</td>\n",
       "    </tr>\n",
       "    <tr>\n",
       "      <th>Wang Guan-gjing</th>\n",
       "      <td>1</td>\n",
       "      <td>0</td>\n",
       "      <td>998</td>\n",
       "    </tr>\n",
       "  </tbody>\n",
       "</table>\n",
       "</div>"
      ],
      "text/plain": [
       "predict          Chen Siy-uan  Rex  Wang Guan-gjing\n",
       "label                                              \n",
       "Chen Siy-uan              998    0                2\n",
       "Rex                         4  880              116\n",
       "Wang Guan-gjing             1    0              998"
      ]
     },
     "execution_count": 17,
     "metadata": {},
     "output_type": "execute_result"
    }
   ],
   "source": [
    "fr.crosstab(model=model, target_size=224)"
   ]
  },
  {
   "cell_type": "markdown",
   "metadata": {},
   "source": [
    "# 儲存模型"
   ]
  },
  {
   "cell_type": "code",
   "execution_count": 18,
   "metadata": {},
   "outputs": [
    {
     "name": "stdout",
     "output_type": "stream",
     "text": [
      "Saved model to disk\n"
     ]
    }
   ],
   "source": [
    "if not os.path.exists('SaveModel'):\n",
    "    os.mkdir('SaveModel')\n",
    "# classifier.save_weights(\"SaveModel/face.h5\")\n",
    "model.save('SaveModel/facerecognition.hd5')\n",
    "print(\"Saved model to disk\")"
   ]
  },
  {
   "cell_type": "markdown",
   "metadata": {},
   "source": [
    "# 模型預測"
   ]
  },
  {
   "cell_type": "code",
   "execution_count": 32,
   "metadata": {},
   "outputs": [
    {
     "data": {
      "image/png": "[encoded data removed]",
      "text/plain": [
       "<Figure size 432x288 with 1 Axes>"
      ]
     },
     "metadata": {},
     "output_type": "display_data"
    },
    {
     "name": "stdout",
     "output_type": "stream",
     "text": [
      "Rex            的機率為: 0.9989773035049438\n",
      "Wang Guan-gjing的機率為: 0.0007167744915932417\n",
      "Chen Siy-uan   的機率為: 0.0003059252630919218\n",
      "=========================================\n",
      "\n",
      "預測結果為: Rex(0.9989773035049438%)\n"
     ]
    }
   ],
   "source": [
    "fr.predict(model=model, img=r'temporarily.jpg', target_size=224)"
   ]
  },
  {
   "cell_type": "markdown",
   "metadata": {},
   "source": [
    "# 基於深度學習的人臉辨識"
   ]
  },
  {
   "cell_type": "code",
   "execution_count": 35,
   "metadata": {
    "collapsed": true
   },
   "outputs": [],
   "source": [
    "fr.face_recognition_everyone(model=model, threshold=0.5, film=0, target_size=224)"
   ]
  },
  {
   "cell_type": "code",
   "execution_count": 34,
   "metadata": {
    "collapsed": true
   },
   "outputs": [],
   "source": [
    "fr.face_recognition(model=model, threshold=0.5, film=0, target_size=224)"
   ]
  },
  {
   "cell_type": "code",
   "execution_count": 57,
   "metadata": {
    "collapsed": true
   },
   "outputs": [],
   "source": [
    "fr.face_recognition_system(model=model, threshold=0.5, film=0, target_size=224, catch_times=10)"
   ]
  },
  {
   "cell_type": "markdown",
   "metadata": {},
   "source": [
    "# 基於直方圖的人臉辨識"
   ]
  },
  {
   "cell_type": "code",
   "execution_count": 37,
   "metadata": {
    "collapsed": true
   },
   "outputs": [],
   "source": [
    "fr.histogram_face_recognition(threshold=100, film=0, txt='sample_name.txt')"
   ]
  },
  {
   "cell_type": "code",
   "execution_count": 37,
   "metadata": {
    "collapsed": true
   },
   "outputs": [],
   "source": [
    "fr.histogram_face_recognition_system(threshold=100, film=0, txt='sample_name.txt', catch_times=40)"
   ]
  },
  {
   "cell_type": "code",
   "execution_count": null,
   "metadata": {
    "collapsed": true
   },
   "outputs": [],
   "source": []
  }
 ],
 "metadata": {
  "kernelspec": {
   "display_name": "Python 3",
   "language": "python",
   "name": "python3"
  },
  "language_info": {
   "codemirror_mode": {
    "name": "ipython",
    "version": 3
   },
   "file_extension": ".py",
   "mimetype": "text/x-python",
   "name": "python",
   "nbconvert_exporter": "python",
   "pygments_lexer": "ipython3",
   "version": "3.6.3"
  }
 },
 "nbformat": 4,
 "nbformat_minor": 2
}

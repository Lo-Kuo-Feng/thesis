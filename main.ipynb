{
 "cells": [
  {
   "cell_type": "code",
   "execution_count": 1,
   "metadata": {},
   "outputs": [
    {
     "name": "stderr",
     "output_type": "stream",
     "text": [
      "Using TensorFlow backend.\n"
     ]
    }
   ],
   "source": [
    "import os     #使用操作系統相關功能的模塊\n",
    "import numpy as np          #Python進行科學計算的基礎包\n",
    "import pandas as pd\n",
    "from keras.utils import np_utils\n",
    "import warnings\n",
    "import facerecognition as fr\n",
    "\n",
    "warnings.filterwarnings('ignore')"
   ]
  },
  {
   "cell_type": "code",
   "execution_count": 2,
   "metadata": {},
   "outputs": [
    {
     "name": "stdout",
     "output_type": "stream",
     "text": [
      "platform          : win32\n",
      "conda             : 4.5.5\n",
      "jupyter notebook  : 5.0.0\n",
      "Python            : 3.6.3 \n",
      "numpy             : 1.13.3\n",
      "pandas            : 0.20.3\n",
      "matplotlib        : 2.2.2\n",
      "sklearn           : 0.19.1\n",
      "tensorflow        : 1.2.1\n",
      "keras             : 2.1.3\n",
      "cv2               : 3.4.0\n",
      "dlib              : 19.6.1\n"
     ]
    }
   ],
   "source": [
    "fr.viewversion()"
   ]
  },
  {
   "cell_type": "code",
   "execution_count": 3,
   "metadata": {},
   "outputs": [
    {
     "name": "stdout",
     "output_type": "stream",
     "text": [
      "已擷取100張人臉圖片\n",
      "已擷取100張人臉樣本\n"
     ]
    }
   ],
   "source": [
    "fr.extractface(sample='sample0_face', number=100)"
   ]
  },
  {
   "cell_type": "code",
   "execution_count": 4,
   "metadata": {},
   "outputs": [
    {
     "name": "stdout",
     "output_type": "stream",
     "text": [
      "已擷取100張人臉圖片\n",
      "已擷取100張人臉樣本\n"
     ]
    }
   ],
   "source": [
    "fr.extractface(sample='sample1_face', number=100)"
   ]
  },
  {
   "cell_type": "code",
   "execution_count": 5,
   "metadata": {},
   "outputs": [
    {
     "name": "stdout",
     "output_type": "stream",
     "text": [
      "已擷取100張人臉圖片\n",
      "已擷取100張人臉樣本\n"
     ]
    }
   ],
   "source": [
    "fr.extractface(sample='sample2_face', number=100)"
   ]
  },
  {
   "cell_type": "code",
   "execution_count": 6,
   "metadata": {
    "collapsed": true
   },
   "outputs": [],
   "source": [
    "# 寫入sample_name.txt"
   ]
  },
  {
   "cell_type": "code",
   "execution_count": 7,
   "metadata": {
    "collapsed": true
   },
   "outputs": [],
   "source": [
    "name_dict, number_of_samples=fr.getnamedict()"
   ]
  },
  {
   "cell_type": "code",
   "execution_count": 8,
   "metadata": {},
   "outputs": [
    {
     "name": "stdout",
     "output_type": "stream",
     "text": [
      "sample0_train_validation: 70 \tsample0_test: 30\n",
      "sample1_train_validation: 70 \tsample1_test: 30\n",
      "sample2_train_validation: 70 \tsample2_test: 30\n",
      "sample0_train: 63 \tsample0_validation: 7\n",
      "sample1_train: 63 \tsample1_validation: 7\n",
      "sample2_train: 63 \tsample2_validation: 7\n"
     ]
    }
   ],
   "source": [
    "fr.train_validation_test_split(tt_split_ratio=0.3, tv_split_ratio=0.1)"
   ]
  },
  {
   "cell_type": "markdown",
   "metadata": {},
   "source": [
    "# 資料增強"
   ]
  },
  {
   "cell_type": "code",
   "execution_count": 9,
   "metadata": {},
   "outputs": [
    {
     "name": "stdout",
     "output_type": "stream",
     "text": [
      "sample0_face已增加了3筆資料\n",
      "sample0_face已增加了6筆資料\n",
      "sample0_face已增加了9筆資料\n",
      "sample0_face已增加了12筆資料\n",
      "sample0_face已增加了15筆資料\n",
      "sample0_face已增加了18筆資料\n",
      "sample0_face已增加了21筆資料\n",
      "sample0_face已增加了24筆資料\n",
      "sample0_face已增加了27筆資料\n",
      "sample0_face已增加了30筆資料\n",
      "sample0_face已增加了33筆資料\n",
      "sample0_face已增加了36筆資料\n",
      "sample0_face已增加了39筆資料\n",
      "sample0_face已增加了42筆資料\n",
      "sample0_face已增加了45筆資料\n",
      "sample0_face已增加了48筆資料\n",
      "sample0_face已增加了51筆資料\n",
      "sample0_face已增加了54筆資料\n",
      "sample0_face已增加了57筆資料\n",
      "sample0_face已增加了60筆資料\n",
      "sample0_face已增加了63筆資料\n",
      "sample0_face已增加了66筆資料\n",
      "sample0_face已增加了69筆資料\n",
      "sample0_face已增加了72筆資料\n",
      "sample0_face已增加了75筆資料\n",
      "sample0_face已增加了78筆資料\n",
      "sample0_face已增加了81筆資料\n",
      "sample0_face已增加了84筆資料\n",
      "sample0_face已增加了87筆資料\n",
      "sample0_face已增加了90筆資料\n",
      "sample0_face已增加了93筆資料\n",
      "sample0_face已增加了96筆資料\n",
      "sample0_face已增加了99筆資料\n",
      "sample0_face已增加了102筆資料\n",
      "sample0_face已增加了105筆資料\n",
      "sample0_face已增加了108筆資料\n",
      "sample0_face已增加了111筆資料\n",
      "sample0_face已增加了114筆資料\n",
      "sample0_face已增加了117筆資料\n",
      "sample0_face已增加了120筆資料\n",
      "sample0_face已增加了123筆資料\n",
      "sample0_face已增加了126筆資料\n",
      "sample0_face已增加了129筆資料\n",
      "sample0_face已增加了132筆資料\n",
      "sample0_face已增加了135筆資料\n",
      "sample0_face已增加了138筆資料\n",
      "sample0_face已增加了141筆資料\n",
      "sample0_face已增加了144筆資料\n",
      "sample0_face已增加了147筆資料\n",
      "sample0_face已增加了150筆資料\n",
      "sample0_face已增加了153筆資料\n",
      "sample0_face已增加了156筆資料\n",
      "sample0_face已增加了159筆資料\n",
      "sample0_face已增加了162筆資料\n",
      "sample0_face已增加了165筆資料\n",
      "sample0_face已增加了168筆資料\n",
      "sample0_face已增加了171筆資料\n",
      "sample0_face已增加了174筆資料\n",
      "sample0_face已增加了177筆資料\n",
      "sample0_face已增加了180筆資料\n",
      "sample0_face已增加了183筆資料\n",
      "sample0_face已增加了186筆資料\n",
      "sample0_face已增加了189筆資料\n",
      "sample0_face共增加了189筆資料\n",
      "sample1_face已增加了3筆資料\n",
      "sample1_face已增加了6筆資料\n",
      "sample1_face已增加了9筆資料\n",
      "sample1_face已增加了12筆資料\n",
      "sample1_face已增加了15筆資料\n",
      "sample1_face已增加了18筆資料\n",
      "sample1_face已增加了21筆資料\n",
      "sample1_face已增加了24筆資料\n",
      "sample1_face已增加了27筆資料\n",
      "sample1_face已增加了30筆資料\n",
      "sample1_face已增加了33筆資料\n",
      "sample1_face已增加了36筆資料\n",
      "sample1_face已增加了39筆資料\n",
      "sample1_face已增加了42筆資料\n",
      "sample1_face已增加了45筆資料\n",
      "sample1_face已增加了48筆資料\n",
      "sample1_face已增加了51筆資料\n",
      "sample1_face已增加了54筆資料\n",
      "sample1_face已增加了57筆資料\n",
      "sample1_face已增加了60筆資料\n",
      "sample1_face已增加了63筆資料\n",
      "sample1_face已增加了66筆資料\n",
      "sample1_face已增加了69筆資料\n",
      "sample1_face已增加了72筆資料\n",
      "sample1_face已增加了75筆資料\n",
      "sample1_face已增加了78筆資料\n",
      "sample1_face已增加了81筆資料\n",
      "sample1_face已增加了84筆資料\n",
      "sample1_face已增加了87筆資料\n",
      "sample1_face已增加了90筆資料\n",
      "sample1_face已增加了93筆資料\n",
      "sample1_face已增加了96筆資料\n",
      "sample1_face已增加了99筆資料\n",
      "sample1_face已增加了102筆資料\n",
      "sample1_face已增加了105筆資料\n",
      "sample1_face已增加了108筆資料\n",
      "sample1_face已增加了111筆資料\n",
      "sample1_face已增加了114筆資料\n",
      "sample1_face已增加了117筆資料\n",
      "sample1_face已增加了120筆資料\n",
      "sample1_face已增加了123筆資料\n",
      "sample1_face已增加了126筆資料\n",
      "sample1_face已增加了129筆資料\n",
      "sample1_face已增加了132筆資料\n",
      "sample1_face已增加了135筆資料\n",
      "sample1_face已增加了138筆資料\n",
      "sample1_face已增加了141筆資料\n",
      "sample1_face已增加了144筆資料\n",
      "sample1_face已增加了147筆資料\n",
      "sample1_face已增加了150筆資料\n",
      "sample1_face已增加了153筆資料\n",
      "sample1_face已增加了156筆資料\n",
      "sample1_face已增加了159筆資料\n",
      "sample1_face已增加了162筆資料\n",
      "sample1_face已增加了165筆資料\n",
      "sample1_face已增加了168筆資料\n",
      "sample1_face已增加了171筆資料\n",
      "sample1_face已增加了174筆資料\n",
      "sample1_face已增加了177筆資料\n",
      "sample1_face已增加了180筆資料\n",
      "sample1_face已增加了183筆資料\n",
      "sample1_face已增加了186筆資料\n",
      "sample1_face已增加了189筆資料\n",
      "sample1_face共增加了189筆資料\n",
      "sample2_face已增加了3筆資料\n",
      "sample2_face已增加了6筆資料\n",
      "sample2_face已增加了9筆資料\n",
      "sample2_face已增加了12筆資料\n",
      "sample2_face已增加了15筆資料\n",
      "sample2_face已增加了18筆資料\n",
      "sample2_face已增加了21筆資料\n",
      "sample2_face已增加了24筆資料\n",
      "sample2_face已增加了27筆資料\n",
      "sample2_face已增加了30筆資料\n",
      "sample2_face已增加了33筆資料\n",
      "sample2_face已增加了36筆資料\n",
      "sample2_face已增加了39筆資料\n",
      "sample2_face已增加了42筆資料\n",
      "sample2_face已增加了45筆資料\n",
      "sample2_face已增加了48筆資料\n",
      "sample2_face已增加了51筆資料\n",
      "sample2_face已增加了54筆資料\n",
      "sample2_face已增加了57筆資料\n",
      "sample2_face已增加了60筆資料\n",
      "sample2_face已增加了63筆資料\n",
      "sample2_face已增加了66筆資料\n",
      "sample2_face已增加了69筆資料\n",
      "sample2_face已增加了72筆資料\n",
      "sample2_face已增加了75筆資料\n",
      "sample2_face已增加了78筆資料\n",
      "sample2_face已增加了81筆資料\n",
      "sample2_face已增加了84筆資料\n",
      "sample2_face已增加了87筆資料\n",
      "sample2_face已增加了90筆資料\n",
      "sample2_face已增加了93筆資料\n",
      "sample2_face已增加了96筆資料\n",
      "sample2_face已增加了99筆資料\n",
      "sample2_face已增加了102筆資料\n",
      "sample2_face已增加了105筆資料\n",
      "sample2_face已增加了108筆資料\n",
      "sample2_face已增加了111筆資料\n",
      "sample2_face已增加了114筆資料\n",
      "sample2_face已增加了117筆資料\n",
      "sample2_face已增加了120筆資料\n",
      "sample2_face已增加了123筆資料\n",
      "sample2_face已增加了126筆資料\n",
      "sample2_face已增加了129筆資料\n",
      "sample2_face已增加了132筆資料\n",
      "sample2_face已增加了135筆資料\n",
      "sample2_face已增加了138筆資料\n",
      "sample2_face已增加了141筆資料\n",
      "sample2_face已增加了144筆資料\n",
      "sample2_face已增加了147筆資料\n",
      "sample2_face已增加了150筆資料\n",
      "sample2_face已增加了153筆資料\n",
      "sample2_face已增加了156筆資料\n",
      "sample2_face已增加了159筆資料\n",
      "sample2_face已增加了162筆資料\n",
      "sample2_face已增加了165筆資料\n",
      "sample2_face已增加了168筆資料\n",
      "sample2_face已增加了171筆資料\n",
      "sample2_face已增加了174筆資料\n",
      "sample2_face已增加了177筆資料\n",
      "sample2_face已增加了180筆資料\n",
      "sample2_face已增加了183筆資料\n",
      "sample2_face已增加了186筆資料\n",
      "sample2_face已增加了189筆資料\n",
      "sample2_face共增加了189筆資料\n"
     ]
    }
   ],
   "source": [
    "fr.dataAugmentation(numbers=3)"
   ]
  },
  {
   "cell_type": "code",
   "execution_count": 10,
   "metadata": {
    "collapsed": true
   },
   "outputs": [],
   "source": [
    "# 複製到sample0_face後刪除sample0_face+"
   ]
  },
  {
   "cell_type": "markdown",
   "metadata": {},
   "source": [
    "# 資料預處理"
   ]
  },
  {
   "cell_type": "code",
   "execution_count": 11,
   "metadata": {
    "collapsed": true
   },
   "outputs": [],
   "source": [
    "target_size = 64"
   ]
  },
  {
   "cell_type": "code",
   "execution_count": 12,
   "metadata": {},
   "outputs": [
    {
     "name": "stdout",
     "output_type": "stream",
     "text": [
      "Found 567 images belonging to 3 classes.\n",
      "Found 21 images belonging to 3 classes.\n",
      "Found 90 images belonging to 3 classes.\n"
     ]
    }
   ],
   "source": [
    "from keras.preprocessing.image import ImageDataGenerator\n",
    "\n",
    "train_datagen = ImageDataGenerator(rescale = 1./255) \n",
    "validation_datagen = ImageDataGenerator(rescale = 1./255)\n",
    "test_datagen = ImageDataGenerator(rescale = 1./255)\n",
    "\n",
    "training_set = train_datagen.flow_from_directory('train/', target_size = (target_size, target_size), batch_size = 10, class_mode = 'categorical')\n",
    "validation_set = validation_datagen.flow_from_directory('validation/', target_size = (target_size, target_size), batch_size = 10, class_mode = 'categorical')\n",
    "test_set = test_datagen.flow_from_directory('test/', target_size = (target_size, target_size), batch_size = 10, class_mode = 'categorical')"
   ]
  },
  {
   "cell_type": "markdown",
   "metadata": {},
   "source": [
    "# 建立模型"
   ]
  },
  {
   "cell_type": "code",
   "execution_count": 13,
   "metadata": {},
   "outputs": [
    {
     "name": "stdout",
     "output_type": "stream",
     "text": [
      "_________________________________________________________________\n",
      "Layer (type)                 Output Shape              Param #   \n",
      "=================================================================\n",
      "conv2d_1 (Conv2D)            (None, 62, 62, 32)        896       \n",
      "_________________________________________________________________\n",
      "max_pooling2d_1 (MaxPooling2 (None, 31, 31, 32)        0         \n",
      "_________________________________________________________________\n",
      "conv2d_2 (Conv2D)            (None, 29, 29, 32)        9248      \n",
      "_________________________________________________________________\n",
      "max_pooling2d_2 (MaxPooling2 (None, 14, 14, 32)        0         \n",
      "_________________________________________________________________\n",
      "flatten_1 (Flatten)          (None, 6272)              0         \n",
      "_________________________________________________________________\n",
      "dense_1 (Dense)              (None, 128)               802944    \n",
      "_________________________________________________________________\n",
      "dense_2 (Dense)              (None, 128)               16512     \n",
      "_________________________________________________________________\n",
      "dense_3 (Dense)              (None, 3)                 387       \n",
      "=================================================================\n",
      "Total params: 829,987\n",
      "Trainable params: 829,987\n",
      "Non-trainable params: 0\n",
      "_________________________________________________________________\n"
     ]
    }
   ],
   "source": [
    "from keras.models import Sequential \n",
    "from keras.layers import Conv2D\n",
    "from keras.layers import MaxPooling2D \n",
    "from keras.layers import Flatten\n",
    "from keras.layers import Dense\n",
    "\n",
    "model = Sequential() # Initialising the CNN\n",
    "model.add(Conv2D(32, (3, 3), input_shape = (target_size, target_size, 3), activation = 'relu')) # Convolution\n",
    "model.add(MaxPooling2D(pool_size = (2, 2))) # Max Pooling\n",
    "model.add(Conv2D(32, (3, 3), activation = 'relu')) # Convolution\n",
    "model.add(MaxPooling2D(pool_size = (2, 2))) # Max Pooling\n",
    "model.add(Flatten()) # Flattening\n",
    "model.add(Dense(units = 128, activation = 'relu')) # Fully Connected\n",
    "model.add(Dense(units = 128, activation = 'relu'))\n",
    "model.add(Dense(units = number_of_samples, activation = 'softmax'))\n",
    "model.compile(optimizer = 'adam', loss ='categorical_crossentropy', metrics = ['accuracy'])\n",
    "model.summary()"
   ]
  },
  {
   "cell_type": "markdown",
   "metadata": {},
   "source": [
    "# 訓練模型"
   ]
  },
  {
   "cell_type": "code",
   "execution_count": 14,
   "metadata": {},
   "outputs": [
    {
     "name": "stdout",
     "output_type": "stream",
     "text": [
      "載入模型失敗!開始訓練一個新模型\n"
     ]
    }
   ],
   "source": [
    "from keras.models import load_model\n",
    "\n",
    "try:\n",
    "    model = load_model('SaveModel/facerecognition.hd5')\n",
    "    print(\"載入模型成功!繼續訓練模型\")\n",
    "except :    \n",
    "    print(\"載入模型失敗!開始訓練一個新模型\")"
   ]
  },
  {
   "cell_type": "code",
   "execution_count": 15,
   "metadata": {
    "collapsed": true
   },
   "outputs": [],
   "source": [
    "# https://keras-cn.readthedocs.io/en/latest/models/model/"
   ]
  },
  {
   "cell_type": "code",
   "execution_count": 16,
   "metadata": {},
   "outputs": [
    {
     "name": "stdout",
     "output_type": "stream",
     "text": [
      "Epoch 1/20\n",
      "30/30 [==============================] - 3s 90ms/step - loss: 1.1223 - acc: 0.2967 - val_loss: 1.0969 - val_acc: 0.3333\n",
      "Epoch 2/20\n",
      "30/30 [==============================] - 2s 78ms/step - loss: 1.0939 - acc: 0.3643 - val_loss: 1.0826 - val_acc: 0.5714\n",
      "Epoch 3/20\n",
      "30/30 [==============================] - 2s 75ms/step - loss: 1.0581 - acc: 0.4437 - val_loss: 0.9828 - val_acc: 0.3333\n",
      "Epoch 4/20\n",
      "30/30 [==============================] - 2s 76ms/step - loss: 1.0225 - acc: 0.4867 - val_loss: 0.9448 - val_acc: 0.5714\n",
      "Epoch 5/20\n",
      "30/30 [==============================] - 2s 79ms/step - loss: 0.8871 - acc: 0.6100 - val_loss: 0.9118 - val_acc: 0.5238\n",
      "Epoch 6/20\n",
      "30/30 [==============================] - 2s 79ms/step - loss: 0.7343 - acc: 0.6724 - val_loss: 0.6451 - val_acc: 0.7619\n",
      "Epoch 7/20\n",
      "30/30 [==============================] - 2s 75ms/step - loss: 0.7509 - acc: 0.6500 - val_loss: 0.6211 - val_acc: 0.8095\n",
      "Epoch 8/20\n",
      "30/30 [==============================] - 2s 75ms/step - loss: 0.7053 - acc: 0.7238 - val_loss: 0.6760 - val_acc: 0.5714\n",
      "Epoch 9/20\n",
      "30/30 [==============================] - 2s 75ms/step - loss: 0.6797 - acc: 0.7000 - val_loss: 0.5862 - val_acc: 0.8571\n",
      "Epoch 10/20\n",
      "30/30 [==============================] - 2s 75ms/step - loss: 0.5836 - acc: 0.7772 - val_loss: 0.6152 - val_acc: 0.8095\n",
      "Epoch 11/20\n",
      "30/30 [==============================] - 2s 75ms/step - loss: 0.5467 - acc: 0.7819 - val_loss: 0.5188 - val_acc: 0.8095\n",
      "Epoch 12/20\n",
      "30/30 [==============================] - 2s 78ms/step - loss: 0.5040 - acc: 0.8033 - val_loss: 0.5094 - val_acc: 0.8571\n",
      "Epoch 13/20\n",
      "30/30 [==============================] - 2s 78ms/step - loss: 0.5275 - acc: 0.7919 - val_loss: 0.5014 - val_acc: 0.8571\n",
      "Epoch 14/20\n",
      "30/30 [==============================] - 2s 75ms/step - loss: 0.4642 - acc: 0.8467 - val_loss: 0.4919 - val_acc: 0.8571\n",
      "Epoch 15/20\n",
      "30/30 [==============================] - 2s 76ms/step - loss: 0.4101 - acc: 0.8467 - val_loss: 0.4826 - val_acc: 0.8571\n",
      "Epoch 16/20\n",
      "30/30 [==============================] - 2s 75ms/step - loss: 0.4347 - acc: 0.8586 - val_loss: 0.4255 - val_acc: 0.9048\n",
      "Epoch 17/20\n",
      "30/30 [==============================] - 2s 75ms/step - loss: 0.3248 - acc: 0.8666 - val_loss: 0.5099 - val_acc: 0.8095\n",
      "Epoch 18/20\n",
      "30/30 [==============================] - 2s 75ms/step - loss: 0.3805 - acc: 0.8533 - val_loss: 0.5554 - val_acc: 0.8095\n",
      "Epoch 19/20\n",
      "30/30 [==============================] - 2s 76ms/step - loss: 0.2443 - acc: 0.9353 - val_loss: 0.3951 - val_acc: 0.8571\n",
      "Epoch 20/20\n",
      "30/30 [==============================] - 2s 75ms/step - loss: 0.3592 - acc: 0.8539 - val_loss: 0.4419 - val_acc: 0.8095\n"
     ]
    }
   ],
   "source": [
    "history = model.fit_generator(training_set,\n",
    "                              nb_epoch=20,\n",
    "                              nb_val_samples=30,\n",
    "                              steps_per_epoch = 30,\n",
    "                              shuffle=True,\n",
    "                              verbose = 1,\n",
    "                              validation_data = validation_set)"
   ]
  },
  {
   "cell_type": "markdown",
   "metadata": {},
   "source": [
    "# 驗證曲線"
   ]
  },
  {
   "cell_type": "code",
   "execution_count": 17,
   "metadata": {},
   "outputs": [
    {
     "data": {
      "image/png": "[encoded data removed]",
      "text/plain": [
       "<Figure size 432x288 with 1 Axes>"
      ]
     },
     "metadata": {},
     "output_type": "display_data"
    }
   ],
   "source": [
    "fr.show_acc_history(history=history)"
   ]
  },
  {
   "cell_type": "code",
   "execution_count": 18,
   "metadata": {},
   "outputs": [
    {
     "data": {
      "image/png": "[encoded data removed]",
      "text/plain": [
       "<Figure size 432x288 with 1 Axes>"
      ]
     },
     "metadata": {},
     "output_type": "display_data"
    }
   ],
   "source": [
    "fr.show_loss_history(history=history)"
   ]
  },
  {
   "cell_type": "markdown",
   "metadata": {},
   "source": [
    "# 評估模型"
   ]
  },
  {
   "cell_type": "code",
   "execution_count": 19,
   "metadata": {},
   "outputs": [
    {
     "name": "stdout",
     "output_type": "stream",
     "text": [
      "Found 90 images belonging to 3 classes.\n"
     ]
    },
    {
     "data": {
      "text/plain": [
       "0.88888888888888884"
      ]
     },
     "execution_count": 19,
     "metadata": {},
     "output_type": "execute_result"
    }
   ],
   "source": [
    "fr.evaluation_model(model=model)"
   ]
  },
  {
   "cell_type": "markdown",
   "metadata": {},
   "source": [
    "# 混淆矩陣"
   ]
  },
  {
   "cell_type": "code",
   "execution_count": 20,
   "metadata": {},
   "outputs": [
    {
     "name": "stdout",
     "output_type": "stream",
     "text": [
      "Found 90 images belonging to 3 classes.\n"
     ]
    },
    {
     "data": {
      "text/html": [
       "<div>\n",
       "<style>\n",
       "    .dataframe thead tr:only-child th {\n",
       "        text-align: right;\n",
       "    }\n",
       "\n",
       "    .dataframe thead th {\n",
       "        text-align: left;\n",
       "    }\n",
       "\n",
       "    .dataframe tbody tr th {\n",
       "        vertical-align: top;\n",
       "    }\n",
       "</style>\n",
       "<table border=\"1\" class=\"dataframe\">\n",
       "  <thead>\n",
       "    <tr style=\"text-align: right;\">\n",
       "      <th>predict</th>\n",
       "      <th>angry</th>\n",
       "      <th>normal</th>\n",
       "      <th>smile</th>\n",
       "    </tr>\n",
       "    <tr>\n",
       "      <th>label</th>\n",
       "      <th></th>\n",
       "      <th></th>\n",
       "      <th></th>\n",
       "    </tr>\n",
       "  </thead>\n",
       "  <tbody>\n",
       "    <tr>\n",
       "      <th>angry</th>\n",
       "      <td>30</td>\n",
       "      <td>0</td>\n",
       "      <td>0</td>\n",
       "    </tr>\n",
       "    <tr>\n",
       "      <th>normal</th>\n",
       "      <td>1</td>\n",
       "      <td>21</td>\n",
       "      <td>8</td>\n",
       "    </tr>\n",
       "    <tr>\n",
       "      <th>smile</th>\n",
       "      <td>0</td>\n",
       "      <td>1</td>\n",
       "      <td>29</td>\n",
       "    </tr>\n",
       "  </tbody>\n",
       "</table>\n",
       "</div>"
      ],
      "text/plain": [
       "predict  angry  normal  smile\n",
       "label                        \n",
       "angry       30       0      0\n",
       "normal       1      21      8\n",
       "smile        0       1     29"
      ]
     },
     "execution_count": 20,
     "metadata": {},
     "output_type": "execute_result"
    }
   ],
   "source": [
    "fr.crosstab(model=model)"
   ]
  },
  {
   "cell_type": "markdown",
   "metadata": {},
   "source": [
    "# 模型預測"
   ]
  },
  {
   "cell_type": "code",
   "execution_count": 21,
   "metadata": {},
   "outputs": [
    {
     "data": {
      "image/png": "[encoded data removed]",
      "text/plain": [
       "<Figure size 432x288 with 1 Axes>"
      ]
     },
     "metadata": {},
     "output_type": "display_data"
    },
    {
     "name": "stdout",
     "output_type": "stream",
     "text": [
      "normal      的機率為: 0.02146916463971138\n",
      "smile       的機率為: 0.8508400321006775\n",
      "angry       的機率為: 0.12769077718257904\n",
      "=========================================\n",
      "\n",
      "預測結果為: smile(0.8508400321006775%)\n"
     ]
    }
   ],
   "source": [
    "fr.predict(model=model, img=r'sample0_face\\sample0_0.jpg')"
   ]
  },
  {
   "cell_type": "markdown",
   "metadata": {},
   "source": [
    "# 儲存模型"
   ]
  },
  {
   "cell_type": "code",
   "execution_count": 22,
   "metadata": {},
   "outputs": [
    {
     "name": "stdout",
     "output_type": "stream",
     "text": [
      "Saved model to disk\n"
     ]
    }
   ],
   "source": [
    "if not os.path.exists('SaveModel'):\n",
    "    os.mkdir('SaveModel')\n",
    "# classifier.save_weights(\"SaveModel/face.h5\")\n",
    "model.save('SaveModel/facerecognition.hd5')\n",
    "print(\"Saved model to disk\")"
   ]
  },
  {
   "cell_type": "markdown",
   "metadata": {},
   "source": [
    "# 人臉辨識"
   ]
  },
  {
   "cell_type": "code",
   "execution_count": 23,
   "metadata": {
    "collapsed": true
   },
   "outputs": [],
   "source": [
    "fr.facerecognition(threshold=0.5)"
   ]
  },
  {
   "cell_type": "code",
   "execution_count": null,
   "metadata": {
    "collapsed": true
   },
   "outputs": [],
   "source": []
  }
 ],
 "metadata": {
  "kernelspec": {
   "display_name": "Python 3",
   "language": "python",
   "name": "python3"
  },
  "language_info": {
   "codemirror_mode": {
    "name": "ipython",
    "version": 3
   },
   "file_extension": ".py",
   "mimetype": "text/x-python",
   "name": "python",
   "nbconvert_exporter": "python",
   "pygments_lexer": "ipython3",
   "version": "3.6.3"
  }
 },
 "nbformat": 4,
 "nbformat_minor": 2
}

{
 "cells": [
  {
   "cell_type": "markdown",
   "metadata": {},
   "source": [
    "# 套件版本"
   ]
  },
  {
   "cell_type": "code",
   "execution_count": 1,
   "metadata": {},
   "outputs": [
    {
     "name": "stderr",
     "output_type": "stream",
     "text": [
      "Using TensorFlow backend.\n"
     ]
    }
   ],
   "source": [
    "import os     #使用操作系統相關功能的模塊\n",
    "import numpy as np          #Python進行科學計算的基礎包\n",
    "import pandas as pd\n",
    "from keras.utils import np_utils\n",
    "import warnings\n",
    "import facerecognition as fr\n",
    "\n",
    "warnings.filterwarnings('ignore')"
   ]
  },
  {
   "cell_type": "code",
   "execution_count": 2,
   "metadata": {},
   "outputs": [
    {
     "data": {
      "text/plain": [
       "'1.3.2'"
      ]
     },
     "execution_count": 2,
     "metadata": {},
     "output_type": "execute_result"
    }
   ],
   "source": [
    "fr.__version__"
   ]
  },
  {
   "cell_type": "code",
   "execution_count": 3,
   "metadata": {},
   "outputs": [
    {
     "name": "stdout",
     "output_type": "stream",
     "text": [
      "platform          : win32\n",
      "conda             : 4.5.5\n",
      "jupyter notebook  : 5.0.0\n",
      "Python            : 3.6.3 \n",
      "numpy             : 1.13.3\n",
      "pandas            : 0.20.3\n",
      "matplotlib        : 2.2.2\n",
      "sklearn           : 0.19.1\n",
      "tensorflow        : 1.2.1\n",
      "keras             : 2.1.3\n",
      "cv2               : 3.4.0\n",
      "dlib              : 19.6.1\n",
      "facerecognition   : 1.3.2\n"
     ]
    }
   ],
   "source": [
    "fr.version()"
   ]
  },
  {
   "cell_type": "markdown",
   "metadata": {},
   "source": [
    "# 人臉數據庫收集"
   ]
  },
  {
   "cell_type": "code",
   "execution_count": 8,
   "metadata": {
    "collapsed": true
   },
   "outputs": [],
   "source": [
    "fr.photograph_face(sample_name='sample1_face', film=0, save_size=640)"
   ]
  },
  {
   "cell_type": "code",
   "execution_count": 10,
   "metadata": {
    "collapsed": true
   },
   "outputs": [],
   "source": [
    "fr.photograph_face(sample_name='sample3_face', film=0, save_size=640)"
   ]
  },
  {
   "cell_type": "code",
   "execution_count": 14,
   "metadata": {
    "collapsed": true
   },
   "outputs": [],
   "source": [
    "fr.photograph_face(sample_name='sample7_face', film=0, save_size=640)"
   ]
  },
  {
   "cell_type": "code",
   "execution_count": 9,
   "metadata": {},
   "outputs": [
    {
     "name": "stdout",
     "output_type": "stream",
     "text": [
      "已擷取1000張人臉圖片\n",
      "已擷取2000張人臉圖片\n",
      "已擷取3000張人臉圖片\n",
      "已擷取4000張人臉圖片\n",
      "已擷取5000張人臉圖片\n",
      "已擷取6000張人臉圖片\n",
      "已擷取7000張人臉圖片\n",
      "已擷取8000張人臉圖片\n",
      "已擷取9000張人臉圖片\n",
      "已擷取10000張人臉圖片\n",
      "已擷取10000張人臉樣本\n"
     ]
    }
   ],
   "source": [
    "fr.extract_face(sample='sample1_face', number=10000, film=0, view_number=1000)"
   ]
  },
  {
   "cell_type": "code",
   "execution_count": 12,
   "metadata": {},
   "outputs": [
    {
     "name": "stdout",
     "output_type": "stream",
     "text": [
      "已擷取1000張人臉圖片\n",
      "已擷取2000張人臉圖片\n",
      "已擷取3000張人臉圖片\n",
      "已擷取4000張人臉圖片\n",
      "已擷取5000張人臉圖片\n",
      "已擷取6000張人臉圖片\n",
      "已擷取7000張人臉圖片\n",
      "已擷取8000張人臉圖片\n",
      "已擷取9000張人臉圖片\n",
      "已擷取10000張人臉圖片\n",
      "已擷取10000張人臉樣本\n"
     ]
    }
   ],
   "source": [
    "fr.extract_face(sample='sample3_face', number=10000, film=0, view_number=1000)"
   ]
  },
  {
   "cell_type": "code",
   "execution_count": 15,
   "metadata": {},
   "outputs": [
    {
     "name": "stdout",
     "output_type": "stream",
     "text": [
      "已擷取1000張人臉圖片\n",
      "已擷取2000張人臉圖片\n",
      "已擷取3000張人臉圖片\n",
      "已擷取4000張人臉圖片\n",
      "已擷取5000張人臉圖片\n",
      "已擷取6000張人臉圖片\n",
      "已擷取7000張人臉圖片\n",
      "已擷取8000張人臉圖片\n",
      "已擷取9000張人臉圖片\n",
      "已擷取10000張人臉圖片\n",
      "已擷取10000張人臉樣本\n"
     ]
    }
   ],
   "source": [
    "fr.extract_face(sample='sample7_face', number=10000, film=0, view_number=1000)"
   ]
  },
  {
   "cell_type": "markdown",
   "metadata": {},
   "source": [
    "# 資料預處理"
   ]
  },
  {
   "cell_type": "code",
   "execution_count": 16,
   "metadata": {
    "collapsed": true
   },
   "outputs": [],
   "source": [
    "# 寫入sample_name.txt"
   ]
  },
  {
   "cell_type": "code",
   "execution_count": 3,
   "metadata": {
    "collapsed": true
   },
   "outputs": [],
   "source": [
    "name_dict, number_of_samples=fr.get_name_dict()"
   ]
  },
  {
   "cell_type": "code",
   "execution_count": 5,
   "metadata": {},
   "outputs": [
    {
     "data": {
      "text/plain": [
       "{'sample0': 'Rex', 'sample1': 'Wang Guan-gjing', 'sample2': 'Chen Siy-uan'}"
      ]
     },
     "execution_count": 5,
     "metadata": {},
     "output_type": "execute_result"
    }
   ],
   "source": [
    "name_dict"
   ]
  },
  {
   "cell_type": "markdown",
   "metadata": {},
   "source": [
    "### 分割數據"
   ]
  },
  {
   "cell_type": "code",
   "execution_count": 6,
   "metadata": {},
   "outputs": [
    {
     "name": "stdout",
     "output_type": "stream",
     "text": [
      "--------------------------------------------------------------------------------\n",
      "|                                                              |               |\n",
      "|              sample_train_validation                         |  sample_test  |\n",
      "|                                                              |               |\n",
      "--------------------------------------------------------------------------------\n",
      "sample0_train_validation: 8000 \t\t\t\t\tsample0_test: 2000\n",
      "sample1_train_validation: 8000 \t\t\t\t\tsample1_test: 2000\n",
      "sample2_train_validation: 8000 \t\t\t\t\tsample2_test: 2000\n",
      "\n",
      "--------------------------------------------------------------------------------\n",
      "|                                      |                       |               |\n",
      "|              sample_train            |  sample_validation    |  sample_test  |\n",
      "|                                      |                       |               |\n",
      "--------------------------------------------------------------------------------\n",
      "sample0_train: 6400 \t\t\tsample0_validation: 1600 \tsample0_test: 2000\n",
      "sample1_train: 6400 \t\t\tsample1_validation: 1600 \tsample1_test: 2000\n",
      "sample2_train: 6400 \t\t\tsample2_validation: 1600 \tsample2_test: 2000\n"
     ]
    }
   ],
   "source": [
    "fr.train_validation_test_split(tt_split_ratio=0.2, tv_split_ratio=0.2)"
   ]
  },
  {
   "cell_type": "code",
   "execution_count": 7,
   "metadata": {
    "collapsed": true
   },
   "outputs": [],
   "source": [
    "# 檢查圖片"
   ]
  },
  {
   "cell_type": "markdown",
   "metadata": {},
   "source": [
    "### 資料增強"
   ]
  },
  {
   "cell_type": "code",
   "execution_count": 15,
   "metadata": {},
   "outputs": [
    {
     "name": "stdout",
     "output_type": "stream",
     "text": [
      "sample0_face共增加了128筆資料\n",
      "sample1_face共增加了128筆資料\n",
      "sample2_face共增加了128筆資料\n"
     ]
    }
   ],
   "source": [
    "fr.data_augmentation(numbers=2)"
   ]
  },
  {
   "cell_type": "code",
   "execution_count": 16,
   "metadata": {
    "collapsed": true
   },
   "outputs": [],
   "source": [
    "# 複製到sample0_face後刪除sample0_face+"
   ]
  },
  {
   "cell_type": "markdown",
   "metadata": {},
   "source": [
    "### 資料標準化"
   ]
  },
  {
   "cell_type": "code",
   "execution_count": 4,
   "metadata": {
    "collapsed": true
   },
   "outputs": [],
   "source": [
    "target_size = 224"
   ]
  },
  {
   "cell_type": "code",
   "execution_count": 5,
   "metadata": {},
   "outputs": [
    {
     "name": "stdout",
     "output_type": "stream",
     "text": [
      "Found 19182 images belonging to 3 classes.\n",
      "Found 4797 images belonging to 3 classes.\n",
      "Found 5997 images belonging to 3 classes.\n"
     ]
    }
   ],
   "source": [
    "from keras.preprocessing.image import ImageDataGenerator\n",
    "\n",
    "train_datagen = ImageDataGenerator(rescale = 1./255) \n",
    "validation_datagen = ImageDataGenerator(rescale = 1./255)\n",
    "test_datagen = ImageDataGenerator(rescale = 1./255)\n",
    "\n",
    "training_set = train_datagen.flow_from_directory('train/', target_size = (target_size, target_size), batch_size = 10, class_mode = 'categorical')\n",
    "validation_set = validation_datagen.flow_from_directory('validation/', target_size = (target_size, target_size), batch_size = 10, class_mode = 'categorical')\n",
    "test_set = test_datagen.flow_from_directory('test/', target_size = (target_size, target_size), batch_size = 10, class_mode = 'categorical')"
   ]
  },
  {
   "cell_type": "markdown",
   "metadata": {},
   "source": [
    "# 建立模型"
   ]
  },
  {
   "cell_type": "markdown",
   "metadata": {},
   "source": [
    "### 一般CNN"
   ]
  },
  {
   "cell_type": "code",
   "execution_count": 6,
   "metadata": {},
   "outputs": [
    {
     "name": "stdout",
     "output_type": "stream",
     "text": [
      "_________________________________________________________________\n",
      "Layer (type)                 Output Shape              Param #   \n",
      "=================================================================\n",
      "conv2d_1 (Conv2D)            (None, 222, 222, 32)      896       \n",
      "_________________________________________________________________\n",
      "max_pooling2d_1 (MaxPooling2 (None, 111, 111, 32)      0         \n",
      "_________________________________________________________________\n",
      "conv2d_2 (Conv2D)            (None, 109, 109, 32)      9248      \n",
      "_________________________________________________________________\n",
      "max_pooling2d_2 (MaxPooling2 (None, 54, 54, 32)        0         \n",
      "_________________________________________________________________\n",
      "flatten_1 (Flatten)          (None, 93312)             0         \n",
      "_________________________________________________________________\n",
      "dense_1 (Dense)              (None, 128)               11944064  \n",
      "_________________________________________________________________\n",
      "dense_2 (Dense)              (None, 128)               16512     \n",
      "_________________________________________________________________\n",
      "dense_3 (Dense)              (None, 3)                 387       \n",
      "=================================================================\n",
      "Total params: 11,971,107\n",
      "Trainable params: 11,971,107\n",
      "Non-trainable params: 0\n",
      "_________________________________________________________________\n"
     ]
    }
   ],
   "source": [
    "from keras.models import Sequential \n",
    "from keras.layers import Conv2D\n",
    "from keras.layers import MaxPooling2D \n",
    "from keras.layers import Flatten\n",
    "from keras.layers import Dense\n",
    "\n",
    "input_shape = (target_size, target_size, 3)\n",
    "\n",
    "model = Sequential() # Initialising the CNN\n",
    "model.add(Conv2D(32, (3, 3), input_shape = input_shape, activation = 'relu')) # Convolution\n",
    "model.add(MaxPooling2D(pool_size = (2, 2))) # Max Pooling\n",
    "model.add(Conv2D(32, (3, 3), activation = 'relu')) # Convolution\n",
    "model.add(MaxPooling2D(pool_size = (2, 2))) # Max Pooling\n",
    "model.add(Flatten()) # Flattening\n",
    "model.add(Dense(units = 128, activation = 'relu')) # Fully Connected\n",
    "model.add(Dense(units = 128, activation = 'relu'))\n",
    "model.add(Dense(units = number_of_samples, activation = 'softmax'))\n",
    "model.compile(optimizer = 'adam', loss ='categorical_crossentropy', metrics = ['accuracy'])\n",
    "model.summary()"
   ]
  },
  {
   "cell_type": "markdown",
   "metadata": {},
   "source": [
    "### vgg16(自己寫)"
   ]
  },
  {
   "cell_type": "code",
   "execution_count": null,
   "metadata": {
    "collapsed": true
   },
   "outputs": [],
   "source": [
    "# from keras.models import Sequential\n",
    "# from keras.layers import Dense, Activation, Dropout, Flatten\n",
    "# from keras.layers import Conv2D\n",
    "# from keras.layers import MaxPooling2D\n",
    "\n",
    "# input_shape = (80, 80, 3)\n",
    "\n",
    "# model = Sequential([\n",
    "#                     Conv2D(64, (3, 3), input_shape=input_shape, padding='same',activation='relu'),\n",
    "#                     MaxPooling2D(pool_size=(2, 2), strides=(2, 2)),\n",
    "#                     Conv2D(128, (3, 3), activation='relu', padding='same',),\n",
    "#                     MaxPooling2D(pool_size=(2, 2), strides=(2, 2)),\n",
    "#                     Conv2D(256, (3, 3), activation='relu', padding='same',),\n",
    "#                     MaxPooling2D(pool_size=(2, 2), strides=(2, 2)),\n",
    "#                     Conv2D(512, (3, 3), activation='relu', padding='same',),\n",
    "#                     MaxPooling2D(pool_size=(2, 2), strides=(2, 2)),\n",
    "#                     Conv2D(512, (3, 3), activation='relu', padding='same',),\n",
    "#                     MaxPooling2D(pool_size=(2, 2), strides=(2, 2)),\n",
    "#                     Flatten(),\n",
    "#                     Dense(512, activation='relu'),\n",
    "#                     Dense(512, activation='relu'),\n",
    "#                     Dense(10, activation='softmax')\n",
    "#                     ])\n",
    "\n",
    "# model.summary()   "
   ]
  },
  {
   "cell_type": "markdown",
   "metadata": {},
   "source": [
    "### vgg16(keras.applications)"
   ]
  },
  {
   "cell_type": "code",
   "execution_count": null,
   "metadata": {
    "collapsed": true
   },
   "outputs": [],
   "source": [
    "# from keras.applications import VGG16\n",
    " \n",
    "# vgg_conv = VGG16(weights='imagenet',\n",
    "#                   include_top=False,\n",
    "#                   input_shape=(224, 224, 3))\n"
   ]
  },
  {
   "cell_type": "markdown",
   "metadata": {},
   "source": [
    "### vgg16遷移學習"
   ]
  },
  {
   "cell_type": "code",
   "execution_count": 5,
   "metadata": {},
   "outputs": [],
   "source": [
    "import numpy as np\n",
    "import keras\n",
    "from keras import backend as K\n",
    "from keras.models import Sequential\n",
    "from keras.layers import Activation\n",
    "from keras.layers.core import Dense, Flatten\n",
    "from keras.optimizers import Adam\n",
    "from keras.metrics import categorical_crossentropy\n",
    "from keras.preprocessing.image import ImageDataGenerator\n",
    "from keras.layers.normalization import BatchNormalization\n",
    "from keras.layers.convolutional import *\n",
    "from sklearn.metrics import confusion_matrix\n",
    "from keras.models import load_model\n",
    "import itertools\n",
    "import matplotlib.pyplot as plt\n",
    "from PIL import Image"
   ]
  },
  {
   "cell_type": "code",
   "execution_count": 17,
   "metadata": {
    "collapsed": true
   },
   "outputs": [],
   "source": [
    "vgg16_model = keras.applications.vgg16.VGG16()"
   ]
  },
  {
   "cell_type": "code",
   "execution_count": 18,
   "metadata": {},
   "outputs": [
    {
     "name": "stdout",
     "output_type": "stream",
     "text": [
      "_________________________________________________________________\n",
      "Layer (type)                 Output Shape              Param #   \n",
      "=================================================================\n",
      "Total params: 0\n",
      "Trainable params: 0\n",
      "Non-trainable params: 0\n",
      "_________________________________________________________________\n"
     ]
    }
   ],
   "source": [
    "model = Sequential()\n",
    "model.summary()"
   ]
  },
  {
   "cell_type": "code",
   "execution_count": 19,
   "metadata": {},
   "outputs": [
    {
     "name": "stdout",
     "output_type": "stream",
     "text": [
      "_________________________________________________________________\n",
      "Layer (type)                 Output Shape              Param #   \n",
      "=================================================================\n",
      "input_2 (InputLayer)         (None, 224, 224, 3)       0         \n",
      "_________________________________________________________________\n",
      "block1_conv1 (Conv2D)        (None, 224, 224, 64)      1792      \n",
      "_________________________________________________________________\n",
      "block1_conv2 (Conv2D)        (None, 224, 224, 64)      36928     \n",
      "_________________________________________________________________\n",
      "block1_pool (MaxPooling2D)   (None, 112, 112, 64)      0         \n",
      "_________________________________________________________________\n",
      "block2_conv1 (Conv2D)        (None, 112, 112, 128)     73856     \n",
      "_________________________________________________________________\n",
      "block2_conv2 (Conv2D)        (None, 112, 112, 128)     147584    \n",
      "_________________________________________________________________\n",
      "block2_pool (MaxPooling2D)   (None, 56, 56, 128)       0         \n",
      "_________________________________________________________________\n",
      "block3_conv1 (Conv2D)        (None, 56, 56, 256)       295168    \n",
      "_________________________________________________________________\n",
      "block3_conv2 (Conv2D)        (None, 56, 56, 256)       590080    \n",
      "_________________________________________________________________\n",
      "block3_conv3 (Conv2D)        (None, 56, 56, 256)       590080    \n",
      "_________________________________________________________________\n",
      "block3_pool (MaxPooling2D)   (None, 28, 28, 256)       0         \n",
      "_________________________________________________________________\n",
      "block4_conv1 (Conv2D)        (None, 28, 28, 512)       1180160   \n",
      "_________________________________________________________________\n",
      "block4_conv2 (Conv2D)        (None, 28, 28, 512)       2359808   \n",
      "_________________________________________________________________\n",
      "block4_conv3 (Conv2D)        (None, 28, 28, 512)       2359808   \n",
      "_________________________________________________________________\n",
      "block4_pool (MaxPooling2D)   (None, 14, 14, 512)       0         \n",
      "_________________________________________________________________\n",
      "block5_conv1 (Conv2D)        (None, 14, 14, 512)       2359808   \n",
      "_________________________________________________________________\n",
      "block5_conv2 (Conv2D)        (None, 14, 14, 512)       2359808   \n",
      "_________________________________________________________________\n",
      "block5_conv3 (Conv2D)        (None, 14, 14, 512)       2359808   \n",
      "_________________________________________________________________\n",
      "block5_pool (MaxPooling2D)   (None, 7, 7, 512)         0         \n",
      "_________________________________________________________________\n",
      "flatten (Flatten)            (None, 25088)             0         \n",
      "_________________________________________________________________\n",
      "fc1 (Dense)                  (None, 4096)              102764544 \n",
      "_________________________________________________________________\n",
      "fc2 (Dense)                  (None, 4096)              16781312  \n",
      "_________________________________________________________________\n",
      "predictions (Dense)          (None, 1000)              4097000   \n",
      "=================================================================\n",
      "Total params: 138,357,544\n",
      "Trainable params: 138,357,544\n",
      "Non-trainable params: 0\n",
      "_________________________________________________________________\n"
     ]
    }
   ],
   "source": [
    "for layer in vgg16_model.layers:\n",
    "    model.add(layer)\n",
    "model.summary()"
   ]
  },
  {
   "cell_type": "code",
   "execution_count": 20,
   "metadata": {},
   "outputs": [
    {
     "data": {
      "text/plain": [
       "<keras.layers.core.Dense at 0x28a80d59be0>"
      ]
     },
     "execution_count": 20,
     "metadata": {},
     "output_type": "execute_result"
    }
   ],
   "source": [
    "model.layers.pop()"
   ]
  },
  {
   "cell_type": "code",
   "execution_count": 21,
   "metadata": {
    "collapsed": true
   },
   "outputs": [],
   "source": [
    "for layer in model.layers:\n",
    "    layer.trainable = False"
   ]
  },
  {
   "cell_type": "code",
   "execution_count": 22,
   "metadata": {},
   "outputs": [],
   "source": [
    "model.add(Dense(number_of_samples, activation='softmax'))"
   ]
  },
  {
   "cell_type": "code",
   "execution_count": 23,
   "metadata": {},
   "outputs": [
    {
     "name": "stdout",
     "output_type": "stream",
     "text": [
      "_________________________________________________________________\n",
      "Layer (type)                 Output Shape              Param #   \n",
      "=================================================================\n",
      "input_2 (InputLayer)         (None, 224, 224, 3)       0         \n",
      "_________________________________________________________________\n",
      "block1_conv1 (Conv2D)        (None, 224, 224, 64)      1792      \n",
      "_________________________________________________________________\n",
      "block1_conv2 (Conv2D)        (None, 224, 224, 64)      36928     \n",
      "_________________________________________________________________\n",
      "block1_pool (MaxPooling2D)   (None, 112, 112, 64)      0         \n",
      "_________________________________________________________________\n",
      "block2_conv1 (Conv2D)        (None, 112, 112, 128)     73856     \n",
      "_________________________________________________________________\n",
      "block2_conv2 (Conv2D)        (None, 112, 112, 128)     147584    \n",
      "_________________________________________________________________\n",
      "block2_pool (MaxPooling2D)   (None, 56, 56, 128)       0         \n",
      "_________________________________________________________________\n",
      "block3_conv1 (Conv2D)        (None, 56, 56, 256)       295168    \n",
      "_________________________________________________________________\n",
      "block3_conv2 (Conv2D)        (None, 56, 56, 256)       590080    \n",
      "_________________________________________________________________\n",
      "block3_conv3 (Conv2D)        (None, 56, 56, 256)       590080    \n",
      "_________________________________________________________________\n",
      "block3_pool (MaxPooling2D)   (None, 28, 28, 256)       0         \n",
      "_________________________________________________________________\n",
      "block4_conv1 (Conv2D)        (None, 28, 28, 512)       1180160   \n",
      "_________________________________________________________________\n",
      "block4_conv2 (Conv2D)        (None, 28, 28, 512)       2359808   \n",
      "_________________________________________________________________\n",
      "block4_conv3 (Conv2D)        (None, 28, 28, 512)       2359808   \n",
      "_________________________________________________________________\n",
      "block4_pool (MaxPooling2D)   (None, 14, 14, 512)       0         \n",
      "_________________________________________________________________\n",
      "block5_conv1 (Conv2D)        (None, 14, 14, 512)       2359808   \n",
      "_________________________________________________________________\n",
      "block5_conv2 (Conv2D)        (None, 14, 14, 512)       2359808   \n",
      "_________________________________________________________________\n",
      "block5_conv3 (Conv2D)        (None, 14, 14, 512)       2359808   \n",
      "_________________________________________________________________\n",
      "block5_pool (MaxPooling2D)   (None, 7, 7, 512)         0         \n",
      "_________________________________________________________________\n",
      "flatten (Flatten)            (None, 25088)             0         \n",
      "_________________________________________________________________\n",
      "fc1 (Dense)                  (None, 4096)              102764544 \n",
      "_________________________________________________________________\n",
      "fc2 (Dense)                  (None, 4096)              16781312  \n",
      "_________________________________________________________________\n",
      "dense_2 (Dense)              (None, 3)                 3003      \n",
      "=================================================================\n",
      "Total params: 134,263,547\n",
      "Trainable params: 3,003\n",
      "Non-trainable params: 134,260,544\n",
      "_________________________________________________________________\n"
     ]
    }
   ],
   "source": [
    "model.summary()"
   ]
  },
  {
   "cell_type": "code",
   "execution_count": 24,
   "metadata": {
    "collapsed": true
   },
   "outputs": [],
   "source": [
    "model.compile(optimizer = 'adam', loss ='categorical_crossentropy', metrics = ['accuracy'])"
   ]
  },
  {
   "cell_type": "code",
   "execution_count": 14,
   "metadata": {
    "collapsed": true
   },
   "outputs": [],
   "source": [
    "# model.compile(Adam(lr=.00002122), loss='categorical_crossentropy', metrics=['accuracy'])"
   ]
  },
  {
   "cell_type": "markdown",
   "metadata": {},
   "source": [
    "# 載入模型"
   ]
  },
  {
   "cell_type": "code",
   "execution_count": 3,
   "metadata": {},
   "outputs": [
    {
     "name": "stdout",
     "output_type": "stream",
     "text": [
      "載入模型成功!繼續訓練模型\n"
     ]
    }
   ],
   "source": [
    "from keras.models import load_model\n",
    "\n",
    "try:\n",
    "    model = load_model('SaveModel/facerecognition.hd5')\n",
    "    print(\"載入模型成功!繼續訓練模型\")\n",
    "except :    \n",
    "    print(\"載入模型失敗!開始訓練一個新模型\")"
   ]
  },
  {
   "cell_type": "markdown",
   "metadata": {},
   "source": [
    "# 訓練模型"
   ]
  },
  {
   "cell_type": "code",
   "execution_count": 7,
   "metadata": {},
   "outputs": [
    {
     "name": "stdout",
     "output_type": "stream",
     "text": [
      "Epoch 1/100\n",
      "5/5 [==============================] - 5s 915ms/step - loss: 1.6840 - acc: 0.3800 - val_loss: 1.1067 - val_acc: 0.4000\n",
      "Epoch 2/100\n",
      "5/5 [==============================] - 4s 725ms/step - loss: 0.9568 - acc: 0.5600 - val_loss: 0.9938 - val_acc: 0.5000\n",
      "Epoch 3/100\n",
      "5/5 [==============================] - 4s 753ms/step - loss: 1.0949 - acc: 0.3600 - val_loss: 0.8682 - val_acc: 0.5600\n",
      "Epoch 4/100\n",
      "5/5 [==============================] - 4s 736ms/step - loss: 0.7275 - acc: 0.7600 - val_loss: 0.6344 - val_acc: 0.8600\n",
      "Epoch 5/100\n",
      "5/5 [==============================] - 4s 748ms/step - loss: 0.5661 - acc: 0.8200 - val_loss: 0.4689 - val_acc: 0.8400\n",
      "Epoch 6/100\n",
      "5/5 [==============================] - 4s 733ms/step - loss: 0.3329 - acc: 0.8800 - val_loss: 0.3122 - val_acc: 0.8600\n",
      "Epoch 7/100\n",
      "5/5 [==============================] - 4s 729ms/step - loss: 0.1765 - acc: 0.9400 - val_loss: 0.1238 - val_acc: 0.9600\n",
      "Epoch 8/100\n",
      "5/5 [==============================] - 4s 734ms/step - loss: 0.1519 - acc: 0.9800 - val_loss: 0.0653 - val_acc: 0.9800\n",
      "Epoch 9/100\n",
      "5/5 [==============================] - 4s 739ms/step - loss: 0.2913 - acc: 0.8800 - val_loss: 0.4448 - val_acc: 0.8400\n",
      "Epoch 10/100\n",
      "5/5 [==============================] - 4s 754ms/step - loss: 0.2644 - acc: 0.8600 - val_loss: 0.2384 - val_acc: 0.9200\n",
      "Epoch 11/100\n",
      "5/5 [==============================] - 4s 725ms/step - loss: 0.2798 - acc: 0.9000 - val_loss: 0.1134 - val_acc: 0.9800\n",
      "Epoch 12/100\n",
      "5/5 [==============================] - 4s 733ms/step - loss: 0.1876 - acc: 0.9400 - val_loss: 0.0550 - val_acc: 0.9800\n",
      "Epoch 13/100\n",
      "5/5 [==============================] - 4s 735ms/step - loss: 0.0444 - acc: 1.0000 - val_loss: 0.0713 - val_acc: 1.0000\n",
      "Epoch 14/100\n",
      "5/5 [==============================] - 4s 730ms/step - loss: 0.0869 - acc: 0.9600 - val_loss: 0.0465 - val_acc: 1.0000\n",
      "Epoch 15/100\n",
      "5/5 [==============================] - 4s 730ms/step - loss: 0.0728 - acc: 1.0000 - val_loss: 0.0100 - val_acc: 1.0000\n",
      "Epoch 16/100\n",
      "5/5 [==============================] - 4s 728ms/step - loss: 0.1405 - acc: 0.9800 - val_loss: 0.0133 - val_acc: 1.0000\n",
      "Epoch 17/100\n",
      "5/5 [==============================] - 4s 753ms/step - loss: 0.0280 - acc: 0.9800 - val_loss: 0.0044 - val_acc: 1.0000\n",
      "Epoch 18/100\n",
      "5/5 [==============================] - 4s 761ms/step - loss: 0.0258 - acc: 1.0000 - val_loss: 0.0193 - val_acc: 1.0000\n",
      "Epoch 19/100\n",
      "5/5 [==============================] - 4s 781ms/step - loss: 0.0135 - acc: 1.0000 - val_loss: 0.0264 - val_acc: 1.0000\n",
      "Epoch 20/100\n",
      "5/5 [==============================] - 4s 751ms/step - loss: 0.0492 - acc: 0.9800 - val_loss: 0.0052 - val_acc: 1.0000\n",
      "Epoch 21/100\n",
      "5/5 [==============================] - 4s 787ms/step - loss: 0.0816 - acc: 0.9600 - val_loss: 0.0424 - val_acc: 0.9800\n",
      "Epoch 22/100\n",
      "5/5 [==============================] - 4s 794ms/step - loss: 0.0233 - acc: 1.0000 - val_loss: 0.1337 - val_acc: 0.9600\n",
      "Epoch 23/100\n",
      "5/5 [==============================] - 4s 834ms/step - loss: 0.1806 - acc: 0.9600 - val_loss: 0.0143 - val_acc: 1.0000\n",
      "Epoch 24/100\n",
      "5/5 [==============================] - 4s 788ms/step - loss: 0.0485 - acc: 0.9800 - val_loss: 0.1117 - val_acc: 0.9800\n",
      "Epoch 25/100\n",
      "5/5 [==============================] - 4s 777ms/step - loss: 0.1404 - acc: 0.9400 - val_loss: 0.1335 - val_acc: 0.9400\n",
      "Epoch 26/100\n",
      "5/5 [==============================] - 4s 737ms/step - loss: 0.2272 - acc: 0.9200 - val_loss: 0.4268 - val_acc: 0.8800\n",
      "Epoch 27/100\n",
      "5/5 [==============================] - 4s 829ms/step - loss: 0.2081 - acc: 0.9000 - val_loss: 0.0207 - val_acc: 1.0000\n",
      "Epoch 28/100\n",
      "5/5 [==============================] - 4s 754ms/step - loss: 0.1507 - acc: 0.9600 - val_loss: 0.0731 - val_acc: 0.9800\n",
      "Epoch 29/100\n",
      "5/5 [==============================] - 4s 740ms/step - loss: 0.0281 - acc: 0.9800 - val_loss: 0.1063 - val_acc: 0.9600\n",
      "Epoch 30/100\n",
      "5/5 [==============================] - 4s 714ms/step - loss: 0.1055 - acc: 0.9600 - val_loss: 0.0569 - val_acc: 0.9800\n",
      "Epoch 31/100\n",
      "5/5 [==============================] - 4s 754ms/step - loss: 0.0293 - acc: 0.9800 - val_loss: 0.0441 - val_acc: 0.9800\n",
      "Epoch 32/100\n",
      "5/5 [==============================] - 4s 794ms/step - loss: 0.0537 - acc: 0.9800 - val_loss: 0.0628 - val_acc: 0.9800\n",
      "Epoch 33/100\n",
      "5/5 [==============================] - 4s 759ms/step - loss: 0.0307 - acc: 0.9800 - val_loss: 0.0063 - val_acc: 1.0000\n",
      "Epoch 34/100\n",
      "5/5 [==============================] - 4s 783ms/step - loss: 0.0096 - acc: 1.0000 - val_loss: 0.0130 - val_acc: 1.0000\n",
      "Epoch 35/100\n",
      "5/5 [==============================] - 4s 736ms/step - loss: 0.0063 - acc: 1.0000 - val_loss: 0.0043 - val_acc: 1.0000\n",
      "Epoch 36/100\n",
      "5/5 [==============================] - 4s 760ms/step - loss: 0.0053 - acc: 1.0000 - val_loss: 0.0047 - val_acc: 1.0000\n",
      "Epoch 37/100\n",
      "5/5 [==============================] - 4s 790ms/step - loss: 0.0023 - acc: 1.0000 - val_loss: 0.0094 - val_acc: 1.0000\n",
      "Epoch 38/100\n",
      "5/5 [==============================] - 4s 766ms/step - loss: 0.0014 - acc: 1.0000 - val_loss: 0.0077 - val_acc: 1.0000\n",
      "Epoch 39/100\n",
      "5/5 [==============================] - 4s 788ms/step - loss: 0.0011 - acc: 1.0000 - val_loss: 0.0131 - val_acc: 1.0000\n",
      "Epoch 40/100\n",
      "5/5 [==============================] - 4s 798ms/step - loss: 0.0024 - acc: 1.0000 - val_loss: 0.0231 - val_acc: 0.9800\n",
      "Epoch 41/100\n",
      "5/5 [==============================] - 4s 814ms/step - loss: 0.0265 - acc: 1.0000 - val_loss: 0.0301 - val_acc: 0.9800\n",
      "Epoch 42/100\n",
      "5/5 [==============================] - 4s 811ms/step - loss: 0.0065 - acc: 1.0000 - val_loss: 0.0017 - val_acc: 1.0000\n",
      "Epoch 43/100\n",
      "5/5 [==============================] - 4s 803ms/step - loss: 0.0076 - acc: 1.0000 - val_loss: 0.0098 - val_acc: 1.0000\n",
      "Epoch 44/100\n",
      "5/5 [==============================] - 4s 787ms/step - loss: 0.0118 - acc: 1.0000 - val_loss: 0.1180 - val_acc: 0.9600\n",
      "Epoch 45/100\n",
      "5/5 [==============================] - 4s 768ms/step - loss: 0.0954 - acc: 0.9600 - val_loss: 0.0920 - val_acc: 0.9400\n",
      "Epoch 46/100\n",
      "5/5 [==============================] - 4s 773ms/step - loss: 0.0866 - acc: 0.9600 - val_loss: 0.0328 - val_acc: 0.9800\n",
      "Epoch 47/100\n",
      "5/5 [==============================] - 4s 775ms/step - loss: 0.1396 - acc: 0.9600 - val_loss: 0.0099 - val_acc: 1.0000\n",
      "Epoch 48/100\n",
      "5/5 [==============================] - 4s 781ms/step - loss: 0.1061 - acc: 0.9800 - val_loss: 0.0019 - val_acc: 1.0000\n",
      "Epoch 49/100\n",
      "5/5 [==============================] - 4s 723ms/step - loss: 0.0024 - acc: 1.0000 - val_loss: 0.0060 - val_acc: 1.0000\n",
      "Epoch 50/100\n",
      "5/5 [==============================] - 4s 752ms/step - loss: 0.0172 - acc: 1.0000 - val_loss: 0.0044 - val_acc: 1.0000\n",
      "Epoch 51/100\n",
      "5/5 [==============================] - 4s 736ms/step - loss: 0.0805 - acc: 0.9600 - val_loss: 0.0841 - val_acc: 0.9600\n",
      "Epoch 52/100\n",
      "5/5 [==============================] - 4s 736ms/step - loss: 0.0589 - acc: 0.9800 - val_loss: 0.0702 - val_acc: 0.9800\n",
      "Epoch 53/100\n",
      "5/5 [==============================] - 4s 729ms/step - loss: 0.0348 - acc: 0.9800 - val_loss: 0.0079 - val_acc: 1.0000\n",
      "Epoch 54/100\n",
      "5/5 [==============================] - 4s 734ms/step - loss: 0.0285 - acc: 0.9800 - val_loss: 0.0101 - val_acc: 1.0000\n",
      "Epoch 55/100\n",
      "5/5 [==============================] - 4s 733ms/step - loss: 0.0099 - acc: 1.0000 - val_loss: 0.0486 - val_acc: 0.9800\n",
      "Epoch 56/100\n",
      "5/5 [==============================] - 4s 739ms/step - loss: 0.0127 - acc: 1.0000 - val_loss: 0.0011 - val_acc: 1.0000\n",
      "Epoch 57/100\n",
      "5/5 [==============================] - 4s 760ms/step - loss: 4.3252e-04 - acc: 1.0000 - val_loss: 0.0206 - val_acc: 0.9800\n",
      "Epoch 58/100\n",
      "5/5 [==============================] - 4s 786ms/step - loss: 0.0187 - acc: 1.0000 - val_loss: 0.0023 - val_acc: 1.0000\n",
      "Epoch 59/100\n",
      "5/5 [==============================] - 4s 736ms/step - loss: 0.0123 - acc: 1.0000 - val_loss: 0.0179 - val_acc: 1.0000\n",
      "Epoch 60/100\n",
      "5/5 [==============================] - 4s 764ms/step - loss: 0.0377 - acc: 0.9800 - val_loss: 0.0116 - val_acc: 1.0000\n",
      "Epoch 61/100\n",
      "5/5 [==============================] - 4s 757ms/step - loss: 0.0367 - acc: 0.9800 - val_loss: 0.2654 - val_acc: 0.9200\n",
      "Epoch 62/100\n",
      "5/5 [==============================] - 4s 731ms/step - loss: 0.0165 - acc: 0.9800 - val_loss: 0.0413 - val_acc: 0.9800\n",
      "Epoch 63/100\n"
     ]
    },
    {
     "name": "stdout",
     "output_type": "stream",
     "text": [
      "5/5 [==============================] - 4s 769ms/step - loss: 0.0311 - acc: 0.9800 - val_loss: 0.0344 - val_acc: 0.9800\n",
      "Epoch 64/100\n",
      "5/5 [==============================] - 4s 729ms/step - loss: 0.0607 - acc: 0.9600 - val_loss: 0.0019 - val_acc: 1.0000\n",
      "Epoch 65/100\n",
      "5/5 [==============================] - 4s 749ms/step - loss: 0.0038 - acc: 1.0000 - val_loss: 0.1504 - val_acc: 0.9600\n",
      "Epoch 66/100\n",
      "5/5 [==============================] - 4s 745ms/step - loss: 0.0090 - acc: 1.0000 - val_loss: 0.1317 - val_acc: 0.9800\n",
      "Epoch 67/100\n",
      "5/5 [==============================] - 4s 779ms/step - loss: 0.0043 - acc: 1.0000 - val_loss: 0.0057 - val_acc: 1.0000\n",
      "Epoch 68/100\n",
      "5/5 [==============================] - 4s 783ms/step - loss: 6.3599e-04 - acc: 1.0000 - val_loss: 0.0061 - val_acc: 1.0000\n",
      "Epoch 69/100\n",
      "5/5 [==============================] - 4s 753ms/step - loss: 0.0603 - acc: 0.9800 - val_loss: 5.1045e-04 - val_acc: 1.0000\n",
      "Epoch 70/100\n",
      "5/5 [==============================] - 4s 740ms/step - loss: 0.0540 - acc: 0.9800 - val_loss: 0.0223 - val_acc: 1.0000\n",
      "Epoch 71/100\n",
      "5/5 [==============================] - 4s 765ms/step - loss: 0.0020 - acc: 1.0000 - val_loss: 0.0020 - val_acc: 1.0000\n",
      "Epoch 72/100\n",
      "5/5 [==============================] - 4s 759ms/step - loss: 9.7282e-04 - acc: 1.0000 - val_loss: 7.9022e-04 - val_acc: 1.0000\n",
      "Epoch 73/100\n",
      "5/5 [==============================] - 4s 732ms/step - loss: 0.0014 - acc: 1.0000 - val_loss: 0.0011 - val_acc: 1.0000\n",
      "Epoch 74/100\n",
      "5/5 [==============================] - 4s 721ms/step - loss: 0.0028 - acc: 1.0000 - val_loss: 0.0013 - val_acc: 1.0000\n",
      "Epoch 75/100\n",
      "5/5 [==============================] - 4s 738ms/step - loss: 0.0788 - acc: 0.9800 - val_loss: 0.0027 - val_acc: 1.0000\n",
      "Epoch 76/100\n",
      "5/5 [==============================] - 4s 731ms/step - loss: 0.0287 - acc: 0.9800 - val_loss: 0.0017 - val_acc: 1.0000\n",
      "Epoch 77/100\n",
      "5/5 [==============================] - 4s 724ms/step - loss: 0.0729 - acc: 0.9800 - val_loss: 0.0186 - val_acc: 0.9800\n",
      "Epoch 78/100\n",
      "5/5 [==============================] - 4s 728ms/step - loss: 0.0282 - acc: 0.9800 - val_loss: 0.0502 - val_acc: 0.9800\n",
      "Epoch 79/100\n",
      "5/5 [==============================] - 4s 726ms/step - loss: 0.0351 - acc: 0.9800 - val_loss: 0.0024 - val_acc: 1.0000\n",
      "Epoch 80/100\n",
      "5/5 [==============================] - 4s 711ms/step - loss: 0.0343 - acc: 0.9800 - val_loss: 0.0048 - val_acc: 1.0000\n",
      "Epoch 81/100\n",
      "5/5 [==============================] - 4s 717ms/step - loss: 0.0064 - acc: 1.0000 - val_loss: 0.0033 - val_acc: 1.0000\n",
      "Epoch 82/100\n",
      "5/5 [==============================] - 4s 712ms/step - loss: 0.0024 - acc: 1.0000 - val_loss: 0.0209 - val_acc: 0.9800\n",
      "Epoch 83/100\n",
      "5/5 [==============================] - 4s 723ms/step - loss: 0.0110 - acc: 1.0000 - val_loss: 0.0036 - val_acc: 1.0000\n",
      "Epoch 84/100\n",
      "5/5 [==============================] - 4s 721ms/step - loss: 0.0011 - acc: 1.0000 - val_loss: 1.9495e-04 - val_acc: 1.0000\n",
      "Epoch 85/100\n",
      "5/5 [==============================] - 4s 724ms/step - loss: 5.4121e-04 - acc: 1.0000 - val_loss: 4.8363e-04 - val_acc: 1.0000\n",
      "Epoch 86/100\n",
      "5/5 [==============================] - 4s 716ms/step - loss: 0.0462 - acc: 0.9800 - val_loss: 0.0070 - val_acc: 1.0000\n",
      "Epoch 87/100\n",
      "5/5 [==============================] - 4s 748ms/step - loss: 0.0104 - acc: 1.0000 - val_loss: 0.0403 - val_acc: 0.9800\n",
      "Epoch 88/100\n",
      "5/5 [==============================] - 4s 735ms/step - loss: 0.0410 - acc: 0.9800 - val_loss: 0.0010 - val_acc: 1.0000\n",
      "Epoch 89/100\n",
      "5/5 [==============================] - 4s 718ms/step - loss: 0.0095 - acc: 1.0000 - val_loss: 0.0499 - val_acc: 0.9600\n",
      "Epoch 90/100\n",
      "5/5 [==============================] - 4s 733ms/step - loss: 0.1596 - acc: 0.9600 - val_loss: 0.0073 - val_acc: 1.0000\n",
      "Epoch 91/100\n",
      "5/5 [==============================] - 4s 741ms/step - loss: 0.0245 - acc: 1.0000 - val_loss: 0.0908 - val_acc: 0.9600\n",
      "Epoch 92/100\n",
      "5/5 [==============================] - 4s 704ms/step - loss: 0.0671 - acc: 0.9600 - val_loss: 0.0162 - val_acc: 1.0000\n",
      "Epoch 93/100\n",
      "5/5 [==============================] - 4s 714ms/step - loss: 0.0148 - acc: 1.0000 - val_loss: 0.0816 - val_acc: 0.9800\n",
      "Epoch 94/100\n",
      "5/5 [==============================] - 4s 709ms/step - loss: 0.0823 - acc: 0.9800 - val_loss: 0.0065 - val_acc: 1.0000\n",
      "Epoch 95/100\n",
      "5/5 [==============================] - 3s 690ms/step - loss: 0.0019 - acc: 1.0000 - val_loss: 0.0074 - val_acc: 1.0000\n",
      "Epoch 96/100\n",
      "5/5 [==============================] - 4s 702ms/step - loss: 0.0055 - acc: 1.0000 - val_loss: 0.0319 - val_acc: 0.9787\n",
      "Epoch 97/100\n",
      "5/5 [==============================] - 4s 705ms/step - loss: 0.0054 - acc: 1.0000 - val_loss: 5.5200e-04 - val_acc: 1.0000\n",
      "Epoch 98/100\n",
      "5/5 [==============================] - 4s 705ms/step - loss: 0.0054 - acc: 1.0000 - val_loss: 8.6972e-04 - val_acc: 1.0000\n",
      "Epoch 99/100\n",
      "5/5 [==============================] - 4s 706ms/step - loss: 0.0034 - acc: 1.0000 - val_loss: 1.0937e-04 - val_acc: 1.0000\n",
      "Epoch 100/100\n",
      "5/5 [==============================] - 4s 715ms/step - loss: 0.0370 - acc: 0.9800 - val_loss: 0.0011 - val_acc: 1.0000\n"
     ]
    }
   ],
   "source": [
    "history = model.fit_generator(training_set, validation_data=validation_set,\n",
    "                              epochs=100, steps_per_epoch=5,validation_steps=5,\n",
    "                              shuffle=True, verbose=1)"
   ]
  },
  {
   "cell_type": "code",
   "execution_count": 12,
   "metadata": {
    "collapsed": true
   },
   "outputs": [],
   "source": [
    "# https://keras-cn.readthedocs.io/en/latest/models/model/"
   ]
  },
  {
   "cell_type": "code",
   "execution_count": null,
   "metadata": {},
   "outputs": [
    {
     "name": "stdout",
     "output_type": "stream",
     "text": [
      "Epoch 1/5\n",
      "  64/1919 [>.............................] - ETA: 19:12 - loss: 0.9909 - acc: 0.6734"
     ]
    }
   ],
   "source": [
    "history = model.fit_generator(training_set,\n",
    "                              nb_epoch=5,\n",
    "#                               nb_val_samples=30,\n",
    "#                               steps_per_epoch = 30,\n",
    "                              shuffle=True,\n",
    "                              verbose = 1,\n",
    "                              validation_data = validation_set)"
   ]
  },
  {
   "cell_type": "markdown",
   "metadata": {},
   "source": [
    "# 驗證曲線"
   ]
  },
  {
   "cell_type": "code",
   "execution_count": 8,
   "metadata": {},
   "outputs": [
    {
     "data": {
      "image/png": "[encoded data removed]",
      "text/plain": [
       "<Figure size 432x288 with 1 Axes>"
      ]
     },
     "metadata": {},
     "output_type": "display_data"
    }
   ],
   "source": [
    "fr.show_acc_history(history=history)"
   ]
  },
  {
   "cell_type": "code",
   "execution_count": 9,
   "metadata": {},
   "outputs": [
    {
     "data": {
      "image/png": "[encoded data removed]",
      "text/plain": [
       "<Figure size 432x288 with 1 Axes>"
      ]
     },
     "metadata": {},
     "output_type": "display_data"
    }
   ],
   "source": [
    "fr.show_loss_history(history=history)"
   ]
  },
  {
   "cell_type": "markdown",
   "metadata": {},
   "source": [
    "# 評估模型"
   ]
  },
  {
   "cell_type": "code",
   "execution_count": 10,
   "metadata": {},
   "outputs": [
    {
     "name": "stdout",
     "output_type": "stream",
     "text": [
      "Found 5997 images belonging to 3 classes.\n"
     ]
    },
    {
     "data": {
      "text/plain": [
       "0.99516424879106224"
      ]
     },
     "execution_count": 10,
     "metadata": {},
     "output_type": "execute_result"
    }
   ],
   "source": [
    "fr.evaluation_model(model=model, target_size=224)"
   ]
  },
  {
   "cell_type": "markdown",
   "metadata": {},
   "source": [
    "# 混淆矩陣"
   ]
  },
  {
   "cell_type": "code",
   "execution_count": 11,
   "metadata": {},
   "outputs": [
    {
     "name": "stdout",
     "output_type": "stream",
     "text": [
      "Found 5997 images belonging to 3 classes.\n"
     ]
    },
    {
     "data": {
      "text/html": [
       "<div>\n",
       "<style>\n",
       "    .dataframe thead tr:only-child th {\n",
       "        text-align: right;\n",
       "    }\n",
       "\n",
       "    .dataframe thead th {\n",
       "        text-align: left;\n",
       "    }\n",
       "\n",
       "    .dataframe tbody tr th {\n",
       "        vertical-align: top;\n",
       "    }\n",
       "</style>\n",
       "<table border=\"1\" class=\"dataframe\">\n",
       "  <thead>\n",
       "    <tr style=\"text-align: right;\">\n",
       "      <th>predict</th>\n",
       "      <th>Chen Siy-uan</th>\n",
       "      <th>Rex</th>\n",
       "      <th>Wang Guan-gjing</th>\n",
       "    </tr>\n",
       "    <tr>\n",
       "      <th>label</th>\n",
       "      <th></th>\n",
       "      <th></th>\n",
       "      <th></th>\n",
       "    </tr>\n",
       "  </thead>\n",
       "  <tbody>\n",
       "    <tr>\n",
       "      <th>Chen Siy-uan</th>\n",
       "      <td>2000</td>\n",
       "      <td>0</td>\n",
       "      <td>0</td>\n",
       "    </tr>\n",
       "    <tr>\n",
       "      <th>Rex</th>\n",
       "      <td>1</td>\n",
       "      <td>1999</td>\n",
       "      <td>0</td>\n",
       "    </tr>\n",
       "    <tr>\n",
       "      <th>Wang Guan-gjing</th>\n",
       "      <td>6</td>\n",
       "      <td>22</td>\n",
       "      <td>1969</td>\n",
       "    </tr>\n",
       "  </tbody>\n",
       "</table>\n",
       "</div>"
      ],
      "text/plain": [
       "predict          Chen Siy-uan   Rex  Wang Guan-gjing\n",
       "label                                               \n",
       "Chen Siy-uan             2000     0                0\n",
       "Rex                         1  1999                0\n",
       "Wang Guan-gjing             6    22             1969"
      ]
     },
     "execution_count": 11,
     "metadata": {},
     "output_type": "execute_result"
    }
   ],
   "source": [
    "fr.crosstab(model=model, target_size=224)"
   ]
  },
  {
   "cell_type": "markdown",
   "metadata": {},
   "source": [
    "# 儲存模型"
   ]
  },
  {
   "cell_type": "code",
   "execution_count": 21,
   "metadata": {},
   "outputs": [
    {
     "name": "stdout",
     "output_type": "stream",
     "text": [
      "Saved model to disk\n"
     ]
    }
   ],
   "source": [
    "if not os.path.exists('SaveModel'):\n",
    "    os.mkdir('SaveModel')\n",
    "# classifier.save_weights(\"SaveModel/face.h5\")\n",
    "model.save('SaveModel/facerecognition.hd5')\n",
    "print(\"Saved model to disk\")"
   ]
  },
  {
   "cell_type": "markdown",
   "metadata": {},
   "source": [
    "# 模型預測"
   ]
  },
  {
   "cell_type": "code",
   "execution_count": 12,
   "metadata": {},
   "outputs": [
    {
     "data": {
      "image/png": "[encoded data removed]",
      "text/plain": [
       "<Figure size 432x288 with 1 Axes>"
      ]
     },
     "metadata": {},
     "output_type": "display_data"
    },
    {
     "name": "stdout",
     "output_type": "stream",
     "text": [
      "Rex            的機率為: 0.9997254014015198\n",
      "Wang Guan-gjing的機率為: 1.9201387146949855e-07\n",
      "Chen Siy-uan   的機率為: 0.00027432458591647446\n",
      "=========================================\n",
      "\n",
      "預測結果為: Rex(0.9997254014015198%)\n"
     ]
    }
   ],
   "source": [
    "fr.predict(model=model, img=r'temporarily.jpg', target_size=224)"
   ]
  },
  {
   "cell_type": "markdown",
   "metadata": {},
   "source": [
    "# 基於深度學習的人臉辨識"
   ]
  },
  {
   "cell_type": "code",
   "execution_count": 13,
   "metadata": {
    "collapsed": true
   },
   "outputs": [],
   "source": [
    "fr.face_recognition_everyone(model=model, threshold=0.5, film=0, target_size=224)"
   ]
  },
  {
   "cell_type": "code",
   "execution_count": 14,
   "metadata": {
    "collapsed": true
   },
   "outputs": [],
   "source": [
    "fr.face_recognition(model=model, threshold=0.5, film=0, target_size=224)"
   ]
  },
  {
   "cell_type": "code",
   "execution_count": 15,
   "metadata": {
    "collapsed": true
   },
   "outputs": [],
   "source": [
    "fr.face_recognition_system(model=model, threshold=0.5, film=0, target_size=224, catch_times=10)"
   ]
  },
  {
   "cell_type": "markdown",
   "metadata": {},
   "source": [
    "# 基於直方圖的人臉辨識"
   ]
  },
  {
   "cell_type": "code",
   "execution_count": 16,
   "metadata": {
    "collapsed": true
   },
   "outputs": [],
   "source": [
    "fr.histogram_face_recognition(threshold=100, film=0, txt='sample_name.txt')"
   ]
  },
  {
   "cell_type": "code",
   "execution_count": 17,
   "metadata": {
    "collapsed": true
   },
   "outputs": [],
   "source": [
    "fr.histogram_face_recognition_system(threshold=100, film=0, txt='sample_name.txt', catch_times=40)"
   ]
  },
  {
   "cell_type": "code",
   "execution_count": null,
   "metadata": {
    "collapsed": true
   },
   "outputs": [],
   "source": []
  }
 ],
 "metadata": {
  "kernelspec": {
   "display_name": "Python 3",
   "language": "python",
   "name": "python3"
  },
  "language_info": {
   "codemirror_mode": {
    "name": "ipython",
    "version": 3
   },
   "file_extension": ".py",
   "mimetype": "text/x-python",
   "name": "python",
   "nbconvert_exporter": "python",
   "pygments_lexer": "ipython3",
   "version": "3.6.3"
  }
 },
 "nbformat": 4,
 "nbformat_minor": 2
}

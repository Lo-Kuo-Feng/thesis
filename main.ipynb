{
 "cells": [
  {
   "cell_type": "markdown",
   "metadata": {},
   "source": [
    "# 套件版本"
   ]
  },
  {
   "cell_type": "code",
   "execution_count": 1,
   "metadata": {},
   "outputs": [
    {
     "name": "stderr",
     "output_type": "stream",
     "text": [
      "C:\\Users\\user\\Anaconda3\\lib\\site-packages\\h5py\\__init__.py:34: FutureWarning: Conversion of the second argument of issubdtype from `float` to `np.floating` is deprecated. In future, it will be treated as `np.float64 == np.dtype(float).type`.\n",
      "  from ._conv import register_converters as _register_converters\n",
      "Using TensorFlow backend.\n"
     ]
    }
   ],
   "source": [
    "import os     #使用操作系統相關功能的模塊\n",
    "import numpy as np          #Python進行科學計算的基礎包\n",
    "import pandas as pd\n",
    "from keras.utils import np_utils\n",
    "import warnings\n",
    "import facerecognition as fr\n",
    "\n",
    "warnings.filterwarnings('ignore')"
   ]
  },
  {
   "cell_type": "code",
   "execution_count": 2,
   "metadata": {},
   "outputs": [
    {
     "data": {
      "text/plain": [
       "'1.8.2'"
      ]
     },
     "execution_count": 2,
     "metadata": {},
     "output_type": "execute_result"
    }
   ],
   "source": [
    "fr.__version__"
   ]
  },
  {
   "cell_type": "code",
   "execution_count": 3,
   "metadata": {},
   "outputs": [
    {
     "name": "stdout",
     "output_type": "stream",
     "text": [
      "platform          : win32\n",
      "conda             : 4.5.5\n",
      "jupyter notebook  : 5.0.0\n",
      "Python            : 3.6.3 \n",
      "numpy             : 1.16.0\n",
      "pandas            : 0.20.3\n",
      "matplotlib        : 2.2.2\n",
      "sklearn           : 0.19.1\n",
      "tensorflow        : 1.12.0\n",
      "keras             : 2.1.3\n",
      "cv2               : 3.4.0\n",
      "dlib              : 19.6.1\n",
      "facerecognition   : 1.8.2\n"
     ]
    }
   ],
   "source": [
    "fr.version()"
   ]
  },
  {
   "cell_type": "markdown",
   "metadata": {},
   "source": [
    "# 人臉數據庫收集"
   ]
  },
  {
   "cell_type": "code",
   "execution_count": 4,
   "metadata": {
    "collapsed": true
   },
   "outputs": [],
   "source": [
    "# fr.photograph_face(sample_name='sample0_face', film=0, save_size=224)"
   ]
  },
  {
   "cell_type": "code",
   "execution_count": 5,
   "metadata": {
    "collapsed": true
   },
   "outputs": [],
   "source": [
    "# fr.photograph_face(sample_name='sample1_face', film=0, save_size=224)"
   ]
  },
  {
   "cell_type": "code",
   "execution_count": 6,
   "metadata": {
    "collapsed": true
   },
   "outputs": [],
   "source": [
    "# fr.photograph_face(sample_name='sample2_face', film=0, save_size=224)"
   ]
  },
  {
   "cell_type": "code",
   "execution_count": 7,
   "metadata": {
    "collapsed": true
   },
   "outputs": [],
   "source": [
    "# fr.photograph_face(sample_name='sample3_face', film=0, save_size=224)"
   ]
  },
  {
   "cell_type": "code",
   "execution_count": 8,
   "metadata": {
    "collapsed": true
   },
   "outputs": [],
   "source": [
    "# fr.photograph_face(sample_name='sample4_face', film=0, save_size=224)"
   ]
  },
  {
   "cell_type": "code",
   "execution_count": 9,
   "metadata": {
    "collapsed": true
   },
   "outputs": [],
   "source": [
    "# fr.photograph_face(sample_name='sample5_face', film=0, save_size=224)"
   ]
  },
  {
   "cell_type": "code",
   "execution_count": 10,
   "metadata": {
    "collapsed": true
   },
   "outputs": [],
   "source": [
    "# fr.photograph_face(sample_name='sample6_face', film=0, save_size=224)"
   ]
  },
  {
   "cell_type": "code",
   "execution_count": 11,
   "metadata": {
    "collapsed": true
   },
   "outputs": [],
   "source": [
    "# fr.photograph_face(sample_name='sample7_face', film=0, save_size=224)"
   ]
  },
  {
   "cell_type": "code",
   "execution_count": 12,
   "metadata": {},
   "outputs": [
    {
     "name": "stdout",
     "output_type": "stream",
     "text": [
      "已擷取1000張人臉圖片\n",
      "已擷取2000張人臉圖片\n",
      "已擷取3000張人臉圖片\n",
      "已擷取4000張人臉圖片\n",
      "已擷取5000張人臉圖片\n",
      "已擷取6000張人臉圖片\n",
      "已擷取7000張人臉圖片\n",
      "已擷取8000張人臉圖片\n",
      "已擷取9000張人臉圖片\n",
      "已擷取10000張人臉圖片\n",
      "已擷取10000張人臉樣本\n"
     ]
    }
   ],
   "source": [
    "fr.extract_face(sample='sample0_face', number=10000, film=0, view_number=1000, face_direction=0)"
   ]
  },
  {
   "cell_type": "code",
   "execution_count": 13,
   "metadata": {},
   "outputs": [
    {
     "name": "stdout",
     "output_type": "stream",
     "text": [
      "已擷取1000張人臉圖片\n",
      "已擷取2000張人臉圖片\n",
      "已擷取3000張人臉圖片\n",
      "已擷取4000張人臉圖片\n",
      "已擷取5000張人臉圖片\n",
      "已擷取6000張人臉圖片\n",
      "已擷取7000張人臉圖片\n",
      "已擷取8000張人臉圖片\n",
      "已擷取9000張人臉圖片\n",
      "已擷取10000張人臉圖片\n",
      "已擷取10000張人臉樣本\n"
     ]
    }
   ],
   "source": [
    "fr.extract_face(sample='sample1_face', number=10000, film=0, view_number=1000, face_direction=0)"
   ]
  },
  {
   "cell_type": "code",
   "execution_count": 4,
   "metadata": {},
   "outputs": [
    {
     "name": "stdout",
     "output_type": "stream",
     "text": [
      "已擷取1000張人臉圖片\n",
      "已擷取2000張人臉圖片\n",
      "已擷取3000張人臉圖片\n",
      "已擷取4000張人臉圖片\n",
      "已擷取5000張人臉圖片\n",
      "已擷取6000張人臉圖片\n",
      "已擷取7000張人臉圖片\n",
      "已擷取8000張人臉圖片\n",
      "已擷取9000張人臉圖片\n",
      "已擷取10000張人臉圖片\n",
      "已擷取10000張人臉樣本\n"
     ]
    }
   ],
   "source": [
    "fr.extract_face(sample='sample2_face', number=10000, film=0, view_number=1000, face_direction=0)"
   ]
  },
  {
   "cell_type": "code",
   "execution_count": 4,
   "metadata": {},
   "outputs": [
    {
     "name": "stdout",
     "output_type": "stream",
     "text": [
      "已擷取1000張人臉圖片\n",
      "已擷取2000張人臉圖片\n",
      "已擷取3000張人臉圖片\n",
      "已擷取4000張人臉圖片\n",
      "已擷取5000張人臉圖片\n",
      "已擷取6000張人臉圖片\n",
      "已擷取7000張人臉圖片\n",
      "已擷取8000張人臉圖片\n",
      "已擷取9000張人臉圖片\n",
      "已擷取10000張人臉圖片\n",
      "已擷取10000張人臉樣本\n"
     ]
    }
   ],
   "source": [
    "fr.extract_face(sample='sample3_face', number=10000, film=0, view_number=1000, face_direction=0)"
   ]
  },
  {
   "cell_type": "code",
   "execution_count": 4,
   "metadata": {},
   "outputs": [
    {
     "name": "stdout",
     "output_type": "stream",
     "text": [
      "已擷取1000張人臉圖片\n",
      "已擷取2000張人臉圖片\n",
      "已擷取3000張人臉圖片\n",
      "已擷取4000張人臉圖片\n",
      "已擷取5000張人臉圖片\n",
      "已擷取6000張人臉圖片\n",
      "已擷取7000張人臉圖片\n",
      "已擷取8000張人臉圖片\n",
      "已擷取9000張人臉圖片\n",
      "已擷取10000張人臉圖片\n",
      "已擷取10000張人臉樣本\n"
     ]
    }
   ],
   "source": [
    "fr.extract_face(sample='sample4_face', number=10000, film=0, view_number=1000, face_direction=0)"
   ]
  },
  {
   "cell_type": "code",
   "execution_count": null,
   "metadata": {
    "collapsed": true
   },
   "outputs": [],
   "source": [
    "fr.extract_face(sample='sample5_face', number=10000, film=0, view_number=1000, face_direction=0)"
   ]
  },
  {
   "cell_type": "code",
   "execution_count": null,
   "metadata": {
    "collapsed": true
   },
   "outputs": [],
   "source": [
    "fr.extract_face(sample='sample6_face', number=10000, film=0, view_number=1000, face_direction=0)"
   ]
  },
  {
   "cell_type": "code",
   "execution_count": 15,
   "metadata": {},
   "outputs": [
    {
     "name": "stdout",
     "output_type": "stream",
     "text": [
      "已擷取1000張人臉圖片\n",
      "已擷取2000張人臉圖片\n",
      "已擷取3000張人臉圖片\n",
      "已擷取4000張人臉圖片\n",
      "已擷取5000張人臉圖片\n",
      "已擷取6000張人臉圖片\n",
      "已擷取7000張人臉圖片\n",
      "已擷取8000張人臉圖片\n",
      "已擷取9000張人臉圖片\n",
      "已擷取10000張人臉圖片\n",
      "已擷取10000張人臉樣本\n"
     ]
    }
   ],
   "source": [
    "fr.extract_face(sample='sample7_face', number=10000, film=0, view_number=1000, face_direction=0)"
   ]
  },
  {
   "cell_type": "code",
   "execution_count": 18,
   "metadata": {
    "collapsed": true
   },
   "outputs": [],
   "source": [
    "# 檢查圖片"
   ]
  },
  {
   "cell_type": "markdown",
   "metadata": {},
   "source": [
    "# 資料預處理"
   ]
  },
  {
   "cell_type": "code",
   "execution_count": 4,
   "metadata": {
    "collapsed": true
   },
   "outputs": [],
   "source": [
    "# 寫入sample_name.txt"
   ]
  },
  {
   "cell_type": "code",
   "execution_count": 4,
   "metadata": {
    "collapsed": true
   },
   "outputs": [],
   "source": [
    "name_dict, number_of_samples=fr.get_name_dict()"
   ]
  },
  {
   "cell_type": "code",
   "execution_count": 5,
   "metadata": {},
   "outputs": [
    {
     "data": {
      "text/plain": [
       "{'sample0': 'Lo Kuo-Feng',\n",
       " 'sample1': 'Deng Jing-mao',\n",
       " 'sample2': 'Li Wei-yang',\n",
       " 'sample3': 'Chen Siy-uan',\n",
       " 'sample4': 'Wang Guan-gjing'}"
      ]
     },
     "execution_count": 5,
     "metadata": {},
     "output_type": "execute_result"
    }
   ],
   "source": [
    "name_dict"
   ]
  },
  {
   "cell_type": "markdown",
   "metadata": {},
   "source": [
    "### 分割數據"
   ]
  },
  {
   "cell_type": "code",
   "execution_count": 6,
   "metadata": {
    "scrolled": true
   },
   "outputs": [
    {
     "name": "stdout",
     "output_type": "stream",
     "text": [
      "--------------------------------------------------------------------------------\n",
      "|                                                              |               |\n",
      "|              sample_train_validation                         |  sample_test  |\n",
      "|                                                              |               |\n",
      "--------------------------------------------------------------------------------\n",
      "sample0_train_validation: 9800 \t\t\t\t\tsample0_test: 200\n",
      "sample1_train_validation: 9800 \t\t\t\t\tsample1_test: 200\n",
      "sample2_train_validation: 9800 \t\t\t\t\tsample2_test: 200\n",
      "sample3_train_validation: 9800 \t\t\t\t\tsample3_test: 200\n",
      "sample4_train_validation: 9800 \t\t\t\t\tsample4_test: 200\n",
      "\n",
      "--------------------------------------------------------------------------------\n",
      "|                                      |                       |               |\n",
      "|              sample_train            |  sample_validation    |  sample_test  |\n",
      "|                                      |                       |               |\n",
      "--------------------------------------------------------------------------------\n",
      "sample0_train: 8820 \t\t\tsample0_validation: 980 \tsample0_test: 200\n",
      "sample1_train: 8820 \t\t\tsample1_validation: 980 \tsample1_test: 200\n",
      "sample2_train: 8820 \t\t\tsample2_validation: 980 \tsample2_test: 200\n",
      "sample3_train: 8820 \t\t\tsample3_validation: 980 \tsample3_test: 200\n",
      "sample4_train: 8820 \t\t\tsample4_validation: 980 \tsample4_test: 200\n"
     ]
    }
   ],
   "source": [
    "fr.train_validation_test_split(tt_split_ratio=0.02, tv_split_ratio=0.1)"
   ]
  },
  {
   "cell_type": "markdown",
   "metadata": {},
   "source": [
    "### 資料增強"
   ]
  },
  {
   "cell_type": "code",
   "execution_count": 15,
   "metadata": {},
   "outputs": [
    {
     "name": "stdout",
     "output_type": "stream",
     "text": [
      "sample0_face共增加了128筆資料\n",
      "sample1_face共增加了128筆資料\n",
      "sample2_face共增加了128筆資料\n"
     ]
    }
   ],
   "source": [
    "fr.data_augmentation(numbers=2)"
   ]
  },
  {
   "cell_type": "code",
   "execution_count": 16,
   "metadata": {
    "collapsed": true
   },
   "outputs": [],
   "source": [
    "# 複製到sample0_face後刪除sample0_face+"
   ]
  },
  {
   "cell_type": "markdown",
   "metadata": {},
   "source": [
    "### 資料標準化"
   ]
  },
  {
   "cell_type": "code",
   "execution_count": 4,
   "metadata": {
    "collapsed": true
   },
   "outputs": [],
   "source": [
    "target_size = 224"
   ]
  },
  {
   "cell_type": "code",
   "execution_count": 5,
   "metadata": {},
   "outputs": [
    {
     "name": "stdout",
     "output_type": "stream",
     "text": [
      "Found 44100 images belonging to 5 classes.\n",
      "Found 4900 images belonging to 5 classes.\n",
      "Found 1000 images belonging to 5 classes.\n"
     ]
    }
   ],
   "source": [
    "from keras.preprocessing.image import ImageDataGenerator\n",
    "\n",
    "train_datagen = ImageDataGenerator(rescale = 1./255) \n",
    "validation_datagen = ImageDataGenerator(rescale = 1./255)\n",
    "test_datagen = ImageDataGenerator(rescale = 1./255)\n",
    "\n",
    "training_set = train_datagen.flow_from_directory('train/', target_size = (target_size, target_size), batch_size = 10, class_mode = 'categorical')\n",
    "validation_set = validation_datagen.flow_from_directory('validation/', target_size = (target_size, target_size), batch_size = 10, class_mode = 'categorical')\n",
    "test_set = test_datagen.flow_from_directory('test/', target_size = (target_size, target_size), batch_size = 10, class_mode = 'categorical')"
   ]
  },
  {
   "cell_type": "markdown",
   "metadata": {},
   "source": [
    "# 建立模型"
   ]
  },
  {
   "cell_type": "markdown",
   "metadata": {},
   "source": [
    "### 一般CNN"
   ]
  },
  {
   "cell_type": "code",
   "execution_count": 9,
   "metadata": {},
   "outputs": [
    {
     "name": "stdout",
     "output_type": "stream",
     "text": [
      "_________________________________________________________________\n",
      "Layer (type)                 Output Shape              Param #   \n",
      "=================================================================\n",
      "conv2d_3 (Conv2D)            (None, 224, 224, 32)      896       \n",
      "_________________________________________________________________\n",
      "max_pooling2d_3 (MaxPooling2 (None, 112, 112, 32)      0         \n",
      "_________________________________________________________________\n",
      "conv2d_4 (Conv2D)            (None, 112, 112, 64)      18496     \n",
      "_________________________________________________________________\n",
      "max_pooling2d_4 (MaxPooling2 (None, 56, 56, 64)        0         \n",
      "_________________________________________________________________\n",
      "flatten_2 (Flatten)          (None, 200704)            0         \n",
      "_________________________________________________________________\n",
      "dense_3 (Dense)              (None, 128)               25690240  \n",
      "_________________________________________________________________\n",
      "dense_4 (Dense)              (None, 128)               16512     \n",
      "_________________________________________________________________\n",
      "dense_5 (Dense)              (None, 5)                 645       \n",
      "=================================================================\n",
      "Total params: 25,726,789\n",
      "Trainable params: 25,726,789\n",
      "Non-trainable params: 0\n",
      "_________________________________________________________________\n"
     ]
    }
   ],
   "source": [
    "from keras.models import Sequential \n",
    "from keras.layers import Conv2D\n",
    "from keras.layers import MaxPooling2D \n",
    "from keras.layers import Flatten\n",
    "from keras.layers import Dense\n",
    "from keras.layers import Activation\n",
    "from keras.layers.normalization import BatchNormalization\n",
    "\n",
    "input_shape = (target_size, target_size, 3)\n",
    "\n",
    "model = Sequential() # Initialising the CNN\n",
    "model.add(Conv2D(32, (3, 3), input_shape = input_shape, activation = 'relu', padding='same')) # Convolution\n",
    "# model.add(Conv2D(32, (3, 3), input_shape = input_shape, activation = 'relu', padding='same'))\n",
    "model.add(MaxPooling2D(pool_size = (2, 2))) # Max Pooling\n",
    "# model.add(BatchNormalization())\n",
    "model.add(Conv2D(64, (3, 3), activation = 'relu', padding='same')) # Convolution\n",
    "# model.add(Conv2D(64, (3, 3), activation = 'relu', padding='same'))\n",
    "model.add(MaxPooling2D(pool_size = (2, 2))) # Max Pooling\n",
    "# model.add(BatchNormalization())\n",
    "model.add(Flatten()) # Flattening\n",
    "# model.add(BatchNormalization())\n",
    "\n",
    "# model.add(Dense(128))\n",
    "# # model.add(BatchNormalization())\n",
    "# model.add(Activation('relu'))\n",
    "\n",
    "# model.add(Dense(128))\n",
    "# # model.add(BatchNormalization())\n",
    "# model.add(Activation('relu'))\n",
    "\n",
    "# model.add(Dense(number_of_samples))\n",
    "# # model.add(BatchNormalization())\n",
    "# model.add(Activation('softmax'))\n",
    "\n",
    "model.add(Dense(units = 128, activation = 'relu')) # Fully Connected\n",
    "model.add(Dense(units = 128, activation = 'relu'))\n",
    "model.add(Dense(units = number_of_samples, activation = 'softmax'))\n",
    "model.compile(optimizer = 'adam', loss ='categorical_crossentropy', metrics = ['accuracy'])\n",
    "model.summary()"
   ]
  },
  {
   "cell_type": "markdown",
   "metadata": {},
   "source": [
    "### vgg16(自己寫)"
   ]
  },
  {
   "cell_type": "code",
   "execution_count": null,
   "metadata": {
    "collapsed": true
   },
   "outputs": [],
   "source": [
    "# from keras.models import Sequential\n",
    "# from keras.layers import Dense, Activation, Dropout, Flatten\n",
    "# from keras.layers import Conv2D\n",
    "# from keras.layers import MaxPooling2D\n",
    "\n",
    "# input_shape = (80, 80, 3)\n",
    "\n",
    "# model = Sequential([\n",
    "#                     Conv2D(64, (3, 3), input_shape=input_shape, padding='same',activation='relu'),\n",
    "#                     MaxPooling2D(pool_size=(2, 2), strides=(2, 2)),\n",
    "#                     Conv2D(128, (3, 3), activation='relu', padding='same',),\n",
    "#                     MaxPooling2D(pool_size=(2, 2), strides=(2, 2)),\n",
    "#                     Conv2D(256, (3, 3), activation='relu', padding='same',),\n",
    "#                     MaxPooling2D(pool_size=(2, 2), strides=(2, 2)),\n",
    "#                     Conv2D(512, (3, 3), activation='relu', padding='same',),\n",
    "#                     MaxPooling2D(pool_size=(2, 2), strides=(2, 2)),\n",
    "#                     Conv2D(512, (3, 3), activation='relu', padding='same',),\n",
    "#                     MaxPooling2D(pool_size=(2, 2), strides=(2, 2)),\n",
    "#                     Flatten(),\n",
    "#                     Dense(512, activation='relu'),\n",
    "#                     Dense(512, activation='relu'),\n",
    "#                     Dense(10, activation='softmax')\n",
    "#                     ])\n",
    "\n",
    "# model.summary()   "
   ]
  },
  {
   "cell_type": "markdown",
   "metadata": {},
   "source": [
    "### vgg16(keras.applications)"
   ]
  },
  {
   "cell_type": "code",
   "execution_count": null,
   "metadata": {
    "collapsed": true
   },
   "outputs": [],
   "source": [
    "# from keras.applications import VGG16\n",
    " \n",
    "# vgg_conv = VGG16(weights='imagenet',\n",
    "#                   include_top=False,\n",
    "#                   input_shape=(224, 224, 3))\n"
   ]
  },
  {
   "cell_type": "markdown",
   "metadata": {},
   "source": [
    "### vgg16遷移學習"
   ]
  },
  {
   "cell_type": "code",
   "execution_count": 5,
   "metadata": {
    "collapsed": true
   },
   "outputs": [],
   "source": [
    "import numpy as np\n",
    "import keras\n",
    "from keras import backend as K\n",
    "from keras.models import Sequential\n",
    "from keras.layers import Activation\n",
    "from keras.layers.core import Dense, Flatten\n",
    "from keras.optimizers import Adam\n",
    "from keras.metrics import categorical_crossentropy\n",
    "from keras.preprocessing.image import ImageDataGenerator\n",
    "from keras.layers.normalization import BatchNormalization\n",
    "from keras.layers.convolutional import *\n",
    "from sklearn.metrics import confusion_matrix\n",
    "from keras.models import load_model\n",
    "import itertools\n",
    "import matplotlib.pyplot as plt\n",
    "from PIL import Image"
   ]
  },
  {
   "cell_type": "code",
   "execution_count": 6,
   "metadata": {
    "collapsed": true
   },
   "outputs": [],
   "source": [
    "vgg16_model = keras.applications.vgg16.VGG16()"
   ]
  },
  {
   "cell_type": "code",
   "execution_count": 7,
   "metadata": {},
   "outputs": [
    {
     "name": "stdout",
     "output_type": "stream",
     "text": [
      "_________________________________________________________________\n",
      "Layer (type)                 Output Shape              Param #   \n",
      "=================================================================\n",
      "Total params: 0\n",
      "Trainable params: 0\n",
      "Non-trainable params: 0\n",
      "_________________________________________________________________\n"
     ]
    }
   ],
   "source": [
    "model = Sequential()\n",
    "model.summary()"
   ]
  },
  {
   "cell_type": "code",
   "execution_count": 10,
   "metadata": {},
   "outputs": [
    {
     "name": "stdout",
     "output_type": "stream",
     "text": [
      "_________________________________________________________________\n",
      "Layer (type)                 Output Shape              Param #   \n",
      "=================================================================\n",
      "input_1 (InputLayer)         (None, 224, 224, 3)       0         \n",
      "_________________________________________________________________\n",
      "block1_conv1 (Conv2D)        (None, 224, 224, 64)      1792      \n",
      "_________________________________________________________________\n",
      "block1_conv2 (Conv2D)        (None, 224, 224, 64)      36928     \n",
      "_________________________________________________________________\n",
      "block1_pool (MaxPooling2D)   (None, 112, 112, 64)      0         \n",
      "_________________________________________________________________\n",
      "block2_conv1 (Conv2D)        (None, 112, 112, 128)     73856     \n",
      "_________________________________________________________________\n",
      "block2_conv2 (Conv2D)        (None, 112, 112, 128)     147584    \n",
      "_________________________________________________________________\n",
      "block2_pool (MaxPooling2D)   (None, 56, 56, 128)       0         \n",
      "_________________________________________________________________\n",
      "block3_conv1 (Conv2D)        (None, 56, 56, 256)       295168    \n",
      "_________________________________________________________________\n",
      "block3_conv2 (Conv2D)        (None, 56, 56, 256)       590080    \n",
      "_________________________________________________________________\n",
      "block3_conv3 (Conv2D)        (None, 56, 56, 256)       590080    \n",
      "_________________________________________________________________\n",
      "block3_pool (MaxPooling2D)   (None, 28, 28, 256)       0         \n",
      "_________________________________________________________________\n",
      "block4_conv1 (Conv2D)        (None, 28, 28, 512)       1180160   \n",
      "_________________________________________________________________\n",
      "block4_conv2 (Conv2D)        (None, 28, 28, 512)       2359808   \n",
      "_________________________________________________________________\n",
      "block4_conv3 (Conv2D)        (None, 28, 28, 512)       2359808   \n",
      "_________________________________________________________________\n",
      "block4_pool (MaxPooling2D)   (None, 14, 14, 512)       0         \n",
      "_________________________________________________________________\n",
      "block5_conv1 (Conv2D)        (None, 14, 14, 512)       2359808   \n",
      "_________________________________________________________________\n",
      "block5_conv2 (Conv2D)        (None, 14, 14, 512)       2359808   \n",
      "_________________________________________________________________\n",
      "block5_conv3 (Conv2D)        (None, 14, 14, 512)       2359808   \n",
      "_________________________________________________________________\n",
      "block5_pool (MaxPooling2D)   (None, 7, 7, 512)         0         \n",
      "_________________________________________________________________\n",
      "flatten (Flatten)            (None, 25088)             0         \n",
      "_________________________________________________________________\n",
      "fc1 (Dense)                  (None, 4096)              102764544 \n",
      "_________________________________________________________________\n",
      "fc2 (Dense)                  (None, 4096)              16781312  \n",
      "_________________________________________________________________\n",
      "predictions (Dense)          (None, 1000)              4097000   \n",
      "=================================================================\n",
      "Total params: 138,357,544\n",
      "Trainable params: 138,357,544\n",
      "Non-trainable params: 0\n",
      "_________________________________________________________________\n"
     ]
    }
   ],
   "source": [
    "for layer in vgg16_model.layers:\n",
    "    model.add(layer)\n",
    "model.summary()"
   ]
  },
  {
   "cell_type": "code",
   "execution_count": 11,
   "metadata": {},
   "outputs": [
    {
     "data": {
      "text/plain": [
       "<keras.layers.core.Dense at 0x1e604d5a5f8>"
      ]
     },
     "execution_count": 11,
     "metadata": {},
     "output_type": "execute_result"
    }
   ],
   "source": [
    "model.layers.pop()"
   ]
  },
  {
   "cell_type": "code",
   "execution_count": 12,
   "metadata": {
    "collapsed": true
   },
   "outputs": [],
   "source": [
    "for layer in model.layers:\n",
    "    layer.trainable = False"
   ]
  },
  {
   "cell_type": "code",
   "execution_count": 13,
   "metadata": {
    "collapsed": true
   },
   "outputs": [],
   "source": [
    "model.add(Dense(number_of_samples, activation='softmax'))"
   ]
  },
  {
   "cell_type": "code",
   "execution_count": 14,
   "metadata": {},
   "outputs": [
    {
     "name": "stdout",
     "output_type": "stream",
     "text": [
      "_________________________________________________________________\n",
      "Layer (type)                 Output Shape              Param #   \n",
      "=================================================================\n",
      "input_1 (InputLayer)         (None, 224, 224, 3)       0         \n",
      "_________________________________________________________________\n",
      "block1_conv1 (Conv2D)        (None, 224, 224, 64)      1792      \n",
      "_________________________________________________________________\n",
      "block1_conv2 (Conv2D)        (None, 224, 224, 64)      36928     \n",
      "_________________________________________________________________\n",
      "block1_pool (MaxPooling2D)   (None, 112, 112, 64)      0         \n",
      "_________________________________________________________________\n",
      "block2_conv1 (Conv2D)        (None, 112, 112, 128)     73856     \n",
      "_________________________________________________________________\n",
      "block2_conv2 (Conv2D)        (None, 112, 112, 128)     147584    \n",
      "_________________________________________________________________\n",
      "block2_pool (MaxPooling2D)   (None, 56, 56, 128)       0         \n",
      "_________________________________________________________________\n",
      "block3_conv1 (Conv2D)        (None, 56, 56, 256)       295168    \n",
      "_________________________________________________________________\n",
      "block3_conv2 (Conv2D)        (None, 56, 56, 256)       590080    \n",
      "_________________________________________________________________\n",
      "block3_conv3 (Conv2D)        (None, 56, 56, 256)       590080    \n",
      "_________________________________________________________________\n",
      "block3_pool (MaxPooling2D)   (None, 28, 28, 256)       0         \n",
      "_________________________________________________________________\n",
      "block4_conv1 (Conv2D)        (None, 28, 28, 512)       1180160   \n",
      "_________________________________________________________________\n",
      "block4_conv2 (Conv2D)        (None, 28, 28, 512)       2359808   \n",
      "_________________________________________________________________\n",
      "block4_conv3 (Conv2D)        (None, 28, 28, 512)       2359808   \n",
      "_________________________________________________________________\n",
      "block4_pool (MaxPooling2D)   (None, 14, 14, 512)       0         \n",
      "_________________________________________________________________\n",
      "block5_conv1 (Conv2D)        (None, 14, 14, 512)       2359808   \n",
      "_________________________________________________________________\n",
      "block5_conv2 (Conv2D)        (None, 14, 14, 512)       2359808   \n",
      "_________________________________________________________________\n",
      "block5_conv3 (Conv2D)        (None, 14, 14, 512)       2359808   \n",
      "_________________________________________________________________\n",
      "block5_pool (MaxPooling2D)   (None, 7, 7, 512)         0         \n",
      "_________________________________________________________________\n",
      "flatten (Flatten)            (None, 25088)             0         \n",
      "_________________________________________________________________\n",
      "fc1 (Dense)                  (None, 4096)              102764544 \n",
      "_________________________________________________________________\n",
      "fc2 (Dense)                  (None, 4096)              16781312  \n",
      "_________________________________________________________________\n",
      "dense_1 (Dense)              (None, 3)                 3003      \n",
      "=================================================================\n",
      "Total params: 134,263,547\n",
      "Trainable params: 3,003\n",
      "Non-trainable params: 134,260,544\n",
      "_________________________________________________________________\n"
     ]
    }
   ],
   "source": [
    "model.summary()"
   ]
  },
  {
   "cell_type": "code",
   "execution_count": 15,
   "metadata": {
    "collapsed": true
   },
   "outputs": [],
   "source": [
    "model.compile(optimizer = 'adam', loss ='categorical_crossentropy', metrics = ['accuracy'])"
   ]
  },
  {
   "cell_type": "code",
   "execution_count": 14,
   "metadata": {
    "collapsed": true
   },
   "outputs": [],
   "source": [
    "# model.compile(Adam(lr=.00002122), loss='categorical_crossentropy', metrics=['accuracy'])"
   ]
  },
  {
   "cell_type": "markdown",
   "metadata": {},
   "source": [
    "# 載入模型"
   ]
  },
  {
   "cell_type": "code",
   "execution_count": 4,
   "metadata": {},
   "outputs": [
    {
     "name": "stdout",
     "output_type": "stream",
     "text": [
      "載入模型成功!繼續訓練模型\n"
     ]
    }
   ],
   "source": [
    "from keras.models import load_model\n",
    "\n",
    "try:\n",
    "    model = load_model('SaveModel/facerecognition.hd5')\n",
    "    print(\"載入模型成功!繼續訓練模型\")\n",
    "except :    \n",
    "    print(\"載入模型失敗!開始訓練一個新模型\")"
   ]
  },
  {
   "cell_type": "markdown",
   "metadata": {},
   "source": [
    "# 訓練模型"
   ]
  },
  {
   "cell_type": "code",
   "execution_count": 23,
   "metadata": {
    "collapsed": true
   },
   "outputs": [],
   "source": [
    "# https://keras.io/zh/models/sequential/\n",
    "# https://keras-cn.readthedocs.io/en/latest/models/model/"
   ]
  },
  {
   "cell_type": "code",
   "execution_count": 10,
   "metadata": {},
   "outputs": [
    {
     "name": "stdout",
     "output_type": "stream",
     "text": [
      "Epoch 1/20\n",
      "10/10 [==============================] - 11s 1s/step - loss: 4.4131 - acc: 0.2100 - val_loss: 1.5566 - val_acc: 0.4300\n",
      "Epoch 2/20\n",
      "10/10 [==============================] - 9s 931ms/step - loss: 1.5001 - acc: 0.3600 - val_loss: 1.3001 - val_acc: 0.4700\n",
      "Epoch 3/20\n",
      "10/10 [==============================] - 10s 1s/step - loss: 1.0231 - acc: 0.6200 - val_loss: 0.5810 - val_acc: 0.8200\n",
      "Epoch 4/20\n",
      "10/10 [==============================] - 10s 1s/step - loss: 0.3257 - acc: 0.9300 - val_loss: 0.0779 - val_acc: 0.9900\n",
      "Epoch 5/20\n",
      "10/10 [==============================] - 10s 1s/step - loss: 0.0945 - acc: 0.9600 - val_loss: 0.1312 - val_acc: 0.9400\n",
      "Epoch 6/20\n",
      "10/10 [==============================] - 10s 1s/step - loss: 0.1334 - acc: 0.9500 - val_loss: 0.0222 - val_acc: 1.0000\n",
      "Epoch 7/20\n",
      "10/10 [==============================] - 9s 941ms/step - loss: 0.0229 - acc: 1.0000 - val_loss: 0.1222 - val_acc: 0.9500\n",
      "Epoch 8/20\n",
      "10/10 [==============================] - 10s 1s/step - loss: 0.0151 - acc: 1.0000 - val_loss: 0.0270 - val_acc: 0.9900\n",
      "Epoch 9/20\n",
      "10/10 [==============================] - 10s 1s/step - loss: 0.0075 - acc: 1.0000 - val_loss: 0.0400 - val_acc: 0.9900\n",
      "Epoch 10/20\n",
      "10/10 [==============================] - 10s 969ms/step - loss: 0.0276 - acc: 0.9900 - val_loss: 0.0395 - val_acc: 0.9900\n",
      "Epoch 11/20\n",
      "10/10 [==============================] - 9s 948ms/step - loss: 0.0170 - acc: 1.0000 - val_loss: 0.0091 - val_acc: 1.0000\n",
      "Epoch 12/20\n",
      "10/10 [==============================] - 9s 946ms/step - loss: 0.0414 - acc: 0.9900 - val_loss: 0.2161 - val_acc: 0.9400\n",
      "Epoch 13/20\n",
      "10/10 [==============================] - 9s 949ms/step - loss: 0.1371 - acc: 0.9500 - val_loss: 0.0349 - val_acc: 1.0000\n",
      "Epoch 14/20\n",
      "10/10 [==============================] - 10s 954ms/step - loss: 0.0550 - acc: 0.9800 - val_loss: 0.0169 - val_acc: 1.0000\n",
      "Epoch 15/20\n",
      "10/10 [==============================] - 9s 927ms/step - loss: 0.0210 - acc: 1.0000 - val_loss: 0.0193 - val_acc: 0.9900\n",
      "Epoch 16/20\n",
      "10/10 [==============================] - 10s 954ms/step - loss: 0.0074 - acc: 1.0000 - val_loss: 0.0019 - val_acc: 1.0000\n",
      "Epoch 17/20\n",
      "10/10 [==============================] - 9s 945ms/step - loss: 0.0056 - acc: 1.0000 - val_loss: 3.1092e-04 - val_acc: 1.0000\n",
      "Epoch 18/20\n",
      "10/10 [==============================] - 10s 1s/step - loss: 0.0030 - acc: 1.0000 - val_loss: 0.0024 - val_acc: 1.0000\n",
      "Epoch 19/20\n",
      "10/10 [==============================] - 10s 991ms/step - loss: 0.0387 - acc: 0.9800 - val_loss: 0.0077 - val_acc: 1.0000\n",
      "Epoch 20/20\n",
      "10/10 [==============================] - 10s 950ms/step - loss: 0.0010 - acc: 1.0000 - val_loss: 0.0019 - val_acc: 1.0000\n"
     ]
    }
   ],
   "source": [
    "history = model.fit_generator(\n",
    "                              training_set, \n",
    "                              steps_per_epoch=10,\n",
    "                              epochs=20,\n",
    "                              verbose=1,\n",
    "                              validation_data=validation_set,\n",
    "                              validation_steps=10,\n",
    "                              shuffle=True\n",
    "                             )"
   ]
  },
  {
   "cell_type": "code",
   "execution_count": 10,
   "metadata": {
    "collapsed": true
   },
   "outputs": [],
   "source": [
    "# history = model.fit_generator(\n",
    "#                               training_set,\n",
    "#                               steps_per_epoch = 3,\n",
    "#                               nb_epoch=5,\n",
    "#                               verbose = 1,\n",
    "#                               validation_data = validation_set,\n",
    "#                               nb_val_samples=3,\n",
    "#                               shuffle=True,\n",
    "#                               )"
   ]
  },
  {
   "cell_type": "markdown",
   "metadata": {},
   "source": [
    "# 驗證曲線"
   ]
  },
  {
   "cell_type": "code",
   "execution_count": 14,
   "metadata": {},
   "outputs": [
    {
     "data": {
      "image/png": "[encoded data removed]",
      "text/plain": [
       "<Figure size 432x288 with 1 Axes>"
      ]
     },
     "metadata": {},
     "output_type": "display_data"
    }
   ],
   "source": [
    "fr.show_acc_history(history=history, save_name=\"acc.jpg\")"
   ]
  },
  {
   "cell_type": "code",
   "execution_count": 15,
   "metadata": {},
   "outputs": [
    {
     "data": {
      "image/png": "[encoded data removed]",
      "text/plain": [
       "<Figure size 432x288 with 1 Axes>"
      ]
     },
     "metadata": {},
     "output_type": "display_data"
    }
   ],
   "source": [
    "fr.show_loss_history(history=history, save_name=\"loss.jpg\")"
   ]
  },
  {
   "cell_type": "markdown",
   "metadata": {},
   "source": [
    "# 評估模型"
   ]
  },
  {
   "cell_type": "code",
   "execution_count": 23,
   "metadata": {},
   "outputs": [
    {
     "name": "stdout",
     "output_type": "stream",
     "text": [
      "Found 1000 images belonging to 5 classes.\n"
     ]
    },
    {
     "data": {
      "text/plain": [
       "0.99399999999999999"
      ]
     },
     "execution_count": 23,
     "metadata": {},
     "output_type": "execute_result"
    }
   ],
   "source": [
    "fr.evaluation_model(model=model, target_size=224)"
   ]
  },
  {
   "cell_type": "markdown",
   "metadata": {},
   "source": [
    "# 混淆矩陣"
   ]
  },
  {
   "cell_type": "code",
   "execution_count": 24,
   "metadata": {},
   "outputs": [
    {
     "name": "stdout",
     "output_type": "stream",
     "text": [
      "Found 1000 images belonging to 5 classes.\n"
     ]
    },
    {
     "data": {
      "text/html": [
       "<div>\n",
       "<style>\n",
       "    .dataframe thead tr:only-child th {\n",
       "        text-align: right;\n",
       "    }\n",
       "\n",
       "    .dataframe thead th {\n",
       "        text-align: left;\n",
       "    }\n",
       "\n",
       "    .dataframe tbody tr th {\n",
       "        vertical-align: top;\n",
       "    }\n",
       "</style>\n",
       "<table border=\"1\" class=\"dataframe\">\n",
       "  <thead>\n",
       "    <tr style=\"text-align: right;\">\n",
       "      <th>predict</th>\n",
       "      <th>Chen Siy-uan</th>\n",
       "      <th>Deng Jing-mao</th>\n",
       "      <th>Li Wei-yang</th>\n",
       "      <th>Lo Kuo-Feng</th>\n",
       "      <th>Wang Guan-gjing</th>\n",
       "    </tr>\n",
       "    <tr>\n",
       "      <th>label</th>\n",
       "      <th></th>\n",
       "      <th></th>\n",
       "      <th></th>\n",
       "      <th></th>\n",
       "      <th></th>\n",
       "    </tr>\n",
       "  </thead>\n",
       "  <tbody>\n",
       "    <tr>\n",
       "      <th>Chen Siy-uan</th>\n",
       "      <td>200</td>\n",
       "      <td>0</td>\n",
       "      <td>0</td>\n",
       "      <td>0</td>\n",
       "      <td>0</td>\n",
       "    </tr>\n",
       "    <tr>\n",
       "      <th>Deng Jing-mao</th>\n",
       "      <td>2</td>\n",
       "      <td>194</td>\n",
       "      <td>0</td>\n",
       "      <td>4</td>\n",
       "      <td>0</td>\n",
       "    </tr>\n",
       "    <tr>\n",
       "      <th>Li Wei-yang</th>\n",
       "      <td>0</td>\n",
       "      <td>0</td>\n",
       "      <td>200</td>\n",
       "      <td>0</td>\n",
       "      <td>0</td>\n",
       "    </tr>\n",
       "    <tr>\n",
       "      <th>Lo Kuo-Feng</th>\n",
       "      <td>0</td>\n",
       "      <td>0</td>\n",
       "      <td>0</td>\n",
       "      <td>200</td>\n",
       "      <td>0</td>\n",
       "    </tr>\n",
       "    <tr>\n",
       "      <th>Wang Guan-gjing</th>\n",
       "      <td>0</td>\n",
       "      <td>0</td>\n",
       "      <td>0</td>\n",
       "      <td>0</td>\n",
       "      <td>200</td>\n",
       "    </tr>\n",
       "  </tbody>\n",
       "</table>\n",
       "</div>"
      ],
      "text/plain": [
       "predict          Chen Siy-uan  Deng Jing-mao  Li Wei-yang  Lo Kuo-Feng  \\\n",
       "label                                                                    \n",
       "Chen Siy-uan              200              0            0            0   \n",
       "Deng Jing-mao               2            194            0            4   \n",
       "Li Wei-yang                 0              0          200            0   \n",
       "Lo Kuo-Feng                 0              0            0          200   \n",
       "Wang Guan-gjing             0              0            0            0   \n",
       "\n",
       "predict          Wang Guan-gjing  \n",
       "label                             \n",
       "Chen Siy-uan                   0  \n",
       "Deng Jing-mao                  0  \n",
       "Li Wei-yang                    0  \n",
       "Lo Kuo-Feng                    0  \n",
       "Wang Guan-gjing              200  "
      ]
     },
     "execution_count": 24,
     "metadata": {},
     "output_type": "execute_result"
    }
   ],
   "source": [
    "fr.crosstab(model=model, target_size=224)"
   ]
  },
  {
   "cell_type": "markdown",
   "metadata": {},
   "source": [
    "# 儲存模型"
   ]
  },
  {
   "cell_type": "code",
   "execution_count": 16,
   "metadata": {},
   "outputs": [
    {
     "name": "stdout",
     "output_type": "stream",
     "text": [
      "Saved model to disk\n"
     ]
    }
   ],
   "source": [
    "if not os.path.exists('SaveModel'):\n",
    "    os.mkdir('SaveModel')\n",
    "# classifier.save_weights(\"SaveModel/face.h5\")\n",
    "model.save('SaveModel/facerecognition.hd5')\n",
    "print(\"Saved model to disk\")"
   ]
  },
  {
   "cell_type": "markdown",
   "metadata": {},
   "source": [
    "# 模型預測"
   ]
  },
  {
   "cell_type": "code",
   "execution_count": 6,
   "metadata": {},
   "outputs": [
    {
     "data": {
      "image/png": "[encoded data removed]",
      "text/plain": [
       "<Figure size 432x288 with 1 Axes>"
      ]
     },
     "metadata": {},
     "output_type": "display_data"
    },
    {
     "name": "stdout",
     "output_type": "stream",
     "text": [
      "羅國峰            的機率為: 0.04495092108845711\n",
      "鄧景懋            的機率為: 0.000735158275347203\n",
      "李維揚            的機率為: 2.522532627224905e-09\n",
      "陳思源            的機率為: 4.8614769099231125e-08\n",
      "王廣靖            的機率為: 0.9543138742446899\n",
      "=========================================\n",
      "\n",
      "預測結果為: 王廣靖(0.9543138742446899%)\n"
     ]
    }
   ],
   "source": [
    "fr.predict(model=model, img=r'temporarily.jpg', target_size=224)"
   ]
  },
  {
   "cell_type": "markdown",
   "metadata": {},
   "source": [
    "# 人臉辨識系統"
   ]
  },
  {
   "cell_type": "markdown",
   "metadata": {},
   "source": [
    "### 載入模型"
   ]
  },
  {
   "cell_type": "code",
   "execution_count": 7,
   "metadata": {},
   "outputs": [
    {
     "name": "stdout",
     "output_type": "stream",
     "text": [
      "載入模型成功!繼續訓練模型\n"
     ]
    }
   ],
   "source": [
    "name_dict, number_of_samples=fr.get_name_dict()\n",
    "from keras.models import load_model\n",
    "\n",
    "try:\n",
    "    model = load_model('SaveModel/facerecognition.hd5')\n",
    "    print(\"載入模型成功!繼續訓練模型\")\n",
    "except :    \n",
    "    print(\"載入模型失敗!\")"
   ]
  },
  {
   "cell_type": "markdown",
   "metadata": {},
   "source": [
    "### 基於深度學習的人臉辨識"
   ]
  },
  {
   "cell_type": "code",
   "execution_count": 35,
   "metadata": {
    "collapsed": true
   },
   "outputs": [],
   "source": [
    "fr.cnn_face_recognition_everyone(model=model, pro_threshold=0.9, film=0, target_size=224, face_direction=0)"
   ]
  },
  {
   "cell_type": "code",
   "execution_count": 6,
   "metadata": {
    "collapsed": true
   },
   "outputs": [],
   "source": [
    "fr.cnn_face_recognition(model=model, pro_threshold=0.9, film=0, target_size=224, face_direction=0)"
   ]
  },
  {
   "cell_type": "code",
   "execution_count": 7,
   "metadata": {
    "collapsed": true
   },
   "outputs": [],
   "source": [
    "fr.cnn_face_recognition_system(model=model, pro_threshold=0.9, film=0, target_size=224, face_direction=0, catch_times=10)"
   ]
  },
  {
   "cell_type": "markdown",
   "metadata": {},
   "source": [
    "### 基於直方圖的人臉辨識"
   ]
  },
  {
   "cell_type": "code",
   "execution_count": 4,
   "metadata": {
    "collapsed": true
   },
   "outputs": [],
   "source": [
    "fr.histogram_face_recognition(rms_threshold=100, film=0, txt='sample_name.txt', face_direction=0)"
   ]
  },
  {
   "cell_type": "code",
   "execution_count": 9,
   "metadata": {
    "collapsed": true
   },
   "outputs": [],
   "source": [
    "fr.histogram_face_recognition_system(rms_threshold=100, film=0, txt='sample_name.txt', face_direction=0, catch_times=10)"
   ]
  },
  {
   "cell_type": "markdown",
   "metadata": {},
   "source": [
    "### 深度學習結合直方圖的人臉辨識"
   ]
  },
  {
   "cell_type": "code",
   "execution_count": 13,
   "metadata": {
    "collapsed": true
   },
   "outputs": [],
   "source": [
    "# BGR顏色\n",
    "# Cyan-Blue Azure ( 75, 139, 190)\n",
    "# Lapis Lazuli    ( 48, 105, 152)\n",
    "# Shandy          (255, 232, 115)\n",
    "# Sunglow         (255, 212,  59)\n",
    "# Granite Gray    (100, 100, 100)\n",
    "# Ggreen          (  0, 255,   0)\n",
    "# Red             (  0,   0, 255)\n",
    "# White           (255, 255, 255)"
   ]
  },
  {
   "cell_type": "markdown",
   "metadata": {},
   "source": [
    "###### 深度學習與直方圖預測相同時"
   ]
  },
  {
   "cell_type": "code",
   "execution_count": 6,
   "metadata": {
    "collapsed": true
   },
   "outputs": [],
   "source": [
    "fr.face_recognition_system_0(model=model, pro_threshold=0.9, rms_threshold = 150,film=0,\n",
    "                          txt='sample_name.txt', target_size=224,catch_times=1000, \n",
    "                          face_direction=0, box=True, other_show=True,\n",
    "                          true_rectangle_BGR=(115, 232, 255),true_putText_BGR=(115, 232, 255),\n",
    "                          false_rectangle_BGR=(190, 139, 75),false_putText_BGR=(190, 139, 75))"
   ]
  },
  {
   "cell_type": "code",
   "execution_count": 12,
   "metadata": {
    "collapsed": true
   },
   "outputs": [],
   "source": [
    "fr.face_recognition_system_0(model=model, pro_threshold=0.9, rms_threshold = 100,film=0,\n",
    "                             txt='sample_name.txt', target_size=224,catch_times=10, \n",
    "                             face_direction=0, box=True, other_show=False,\n",
    "                          true_rectangle_BGR=(115, 232, 255),true_putText_BGR=(115, 232, 255),\n",
    "                          false_rectangle_BGR=(190, 139, 75),false_putText_BGR=(190, 139, 75))"
   ]
  },
  {
   "cell_type": "markdown",
   "metadata": {},
   "source": [
    "###### 深度學習預測直方圖塞選"
   ]
  },
  {
   "cell_type": "code",
   "execution_count": 22,
   "metadata": {
    "collapsed": true
   },
   "outputs": [],
   "source": [
    "fr.face_recognition_system_1(model=model, pro_threshold=0.8, rms_threshold=150, film=0,\n",
    "                             txt='sample_name.txt', target_size=224, catch_times=3, show_message_time_ms=3000,\n",
    "                             face_direction=0, box=True, other_show=True, show_localtime=True,\n",
    "                             true_rectangle_BGR=(115, 232, 255), true_putText_BGR=(115, 232, 255),\n",
    "                             false_rectangle_BGR=(190, 139, 75), false_putText_BGR=(190, 139, 75),\n",
    "                             show_localtime_BGR=(190, 139, 75))"
   ]
  },
  {
   "cell_type": "code",
   "execution_count": 24,
   "metadata": {
    "collapsed": true
   },
   "outputs": [],
   "source": [
    "fr.face_recognition_system_1(model=model, pro_threshold=0.8, rms_threshold=150, film=0,\n",
    "                             txt='sample_name.txt', target_size=224, catch_times=5, show_message_time_ms=3000,\n",
    "                             face_direction=0, box=False, other_show=True, show_localtime=True,\n",
    "                             true_rectangle_BGR=(115, 232, 255), true_putText_BGR=(115, 232, 255),\n",
    "                             false_rectangle_BGR=(190, 139, 75), false_putText_BGR=(190, 139, 75),\n",
    "                             show_localtime_BGR=(190, 139, 75))"
   ]
  },
  {
   "cell_type": "markdown",
   "metadata": {},
   "source": [
    "###### 直方圖預測深度學習塞選"
   ]
  },
  {
   "cell_type": "code",
   "execution_count": null,
   "metadata": {
    "collapsed": true
   },
   "outputs": [],
   "source": [
    "# fr.face_recognition_system_2(model=model, pro_threshold=0.9, rms_threshold = 100, \n",
    "#                                         film=0, txt='sample_name.txt', target_size=224, \n",
    "#                                         catch_times=10, face_direction=0, box=True)"
   ]
  },
  {
   "cell_type": "markdown",
   "metadata": {
    "collapsed": true
   },
   "source": [
    "### 準確率"
   ]
  },
  {
   "cell_type": "code",
   "execution_count": 41,
   "metadata": {},
   "outputs": [
    {
     "name": "stdout",
     "output_type": "stream",
     "text": [
      "已處理   \t:10%\n",
      "\n",
      "<<演算法一>>\n",
      "已偵測出  \t:41張人臉\n",
      "已正確辨識出\t:41張人臉\n",
      "達到門檻值數據所得的準確率為:1.0\n",
      "所有數據所得的準確率為   \t:0.5061728395061729\n",
      "\n",
      "<<演算法二>>\n",
      "已偵測出  \t:79張人臉\n",
      "已正確辨識出\t:78張人臉\n",
      "達到門檻值數據所得的準確率為:0.9873417721518988\n",
      "所有數據所得的準確率為   \t:0.9629629629629629\n",
      "\n",
      "<<演算法三>>\n",
      "已偵測出  \t:41張人臉\n",
      "已正確辨識出\t:41張人臉\n",
      "達到門檻值數據所得的準確率為:1.0\n",
      "所有數據所得的準確率為   \t:0.5061728395061729\n",
      "\n",
      "=================================================\n",
      "已處理   \t:20%\n",
      "\n",
      "<<演算法一>>\n",
      "已偵測出  \t:77張人臉\n",
      "已正確辨識出\t:77張人臉\n",
      "達到門檻值數據所得的準確率為:1.0\n",
      "所有數據所得的準確率為   \t:0.47530864197530864\n",
      "\n",
      "<<演算法二>>\n",
      "已偵測出  \t:158張人臉\n",
      "已正確辨識出\t:151張人臉\n",
      "達到門檻值數據所得的準確率為:0.9556962025316456\n",
      "所有數據所得的準確率為   \t:0.9320987654320988\n",
      "\n",
      "<<演算法三>>\n",
      "已偵測出  \t:77張人臉\n",
      "已正確辨識出\t:77張人臉\n",
      "達到門檻值數據所得的準確率為:1.0\n",
      "所有數據所得的準確率為   \t:0.47530864197530864\n",
      "\n",
      "=================================================\n",
      "已處理   \t:30%\n",
      "\n",
      "<<演算法一>>\n",
      "已偵測出  \t:143張人臉\n",
      "已正確辨識出\t:143張人臉\n",
      "達到門檻值數據所得的準確率為:1.0\n",
      "所有數據所得的準確率為   \t:0.588477366255144\n",
      "\n",
      "<<演算法二>>\n",
      "已偵測出  \t:239張人臉\n",
      "已正確辨識出\t:232張人臉\n",
      "達到門檻值數據所得的準確率為:0.9707112970711297\n",
      "所有數據所得的準確率為   \t:0.9547325102880658\n",
      "\n",
      "<<演算法三>>\n",
      "已偵測出  \t:143張人臉\n",
      "已正確辨識出\t:143張人臉\n",
      "達到門檻值數據所得的準確率為:1.0\n",
      "所有數據所得的準確率為   \t:0.588477366255144\n",
      "\n",
      "=================================================\n",
      "已處理   \t:40%\n",
      "\n",
      "<<演算法一>>\n",
      "已偵測出  \t:222張人臉\n",
      "已正確辨識出\t:222張人臉\n",
      "達到門檻值數據所得的準確率為:1.0\n",
      "所有數據所得的準確率為   \t:0.6851851851851852\n",
      "\n",
      "<<演算法二>>\n",
      "已偵測出  \t:320張人臉\n",
      "已正確辨識出\t:313張人臉\n",
      "達到門檻值數據所得的準確率為:0.978125\n",
      "所有數據所得的準確率為   \t:0.9660493827160493\n",
      "\n",
      "<<演算法三>>\n",
      "已偵測出  \t:222張人臉\n",
      "已正確辨識出\t:222張人臉\n",
      "達到門檻值數據所得的準確率為:1.0\n",
      "所有數據所得的準確率為   \t:0.6851851851851852\n",
      "\n",
      "=================================================\n",
      "已處理   \t:50%\n",
      "\n",
      "<<演算法一>>\n",
      "已偵測出  \t:300張人臉\n",
      "已正確辨識出\t:300張人臉\n",
      "達到門檻值數據所得的準確率為:1.0\n",
      "所有數據所得的準確率為   \t:0.7407407407407407\n",
      "\n",
      "<<演算法二>>\n",
      "已偵測出  \t:401張人臉\n",
      "已正確辨識出\t:394張人臉\n",
      "達到門檻值數據所得的準確率為:0.9825436408977556\n",
      "所有數據所得的準確率為   \t:0.9728395061728395\n",
      "\n",
      "<<演算法三>>\n",
      "已偵測出  \t:300張人臉\n",
      "已正確辨識出\t:300張人臉\n",
      "達到門檻值數據所得的準確率為:1.0\n",
      "所有數據所得的準確率為   \t:0.7407407407407407\n",
      "\n",
      "=================================================\n",
      "已處理   \t:60%\n",
      "\n",
      "<<演算法一>>\n",
      "已偵測出  \t:374張人臉\n",
      "已正確辨識出\t:374張人臉\n",
      "達到門檻值數據所得的準確率為:1.0\n",
      "所有數據所得的準確率為   \t:0.7695473251028807\n",
      "\n",
      "<<演算法二>>\n",
      "已偵測出  \t:482張人臉\n",
      "已正確辨識出\t:475張人臉\n",
      "達到門檻值數據所得的準確率為:0.9854771784232366\n",
      "所有數據所得的準確率為   \t:0.977366255144033\n",
      "\n",
      "<<演算法三>>\n",
      "已偵測出  \t:374張人臉\n",
      "已正確辨識出\t:374張人臉\n",
      "達到門檻值數據所得的準確率為:1.0\n",
      "所有數據所得的準確率為   \t:0.7695473251028807\n",
      "\n",
      "=================================================\n",
      "已處理   \t:70%\n",
      "\n",
      "<<演算法一>>\n",
      "已偵測出  \t:448張人臉\n",
      "已正確辨識出\t:448張人臉\n",
      "達到門檻值數據所得的準確率為:1.0\n",
      "所有數據所得的準確率為   \t:0.7901234567901234\n",
      "\n",
      "<<演算法二>>\n",
      "已偵測出  \t:563張人臉\n",
      "已正確辨識出\t:556張人臉\n",
      "達到門檻值數據所得的準確率為:0.9875666074600356\n",
      "所有數據所得的準確率為   \t:0.9805996472663139\n",
      "\n",
      "<<演算法三>>\n",
      "已偵測出  \t:448張人臉\n",
      "已正確辨識出\t:448張人臉\n",
      "達到門檻值數據所得的準確率為:1.0\n",
      "所有數據所得的準確率為   \t:0.7901234567901234\n",
      "\n",
      "=================================================\n",
      "已處理   \t:81%\n",
      "\n",
      "<<演算法一>>\n",
      "已偵測出  \t:516張人臉\n",
      "已正確辨識出\t:516張人臉\n",
      "達到門檻值數據所得的準確率為:1.0\n",
      "所有數據所得的準確率為   \t:0.7962962962962963\n",
      "\n",
      "<<演算法二>>\n",
      "已偵測出  \t:644張人臉\n",
      "已正確辨識出\t:637張人臉\n",
      "達到門檻值數據所得的準確率為:0.9891304347826086\n",
      "所有數據所得的準確率為   \t:0.9830246913580247\n",
      "\n",
      "<<演算法三>>\n",
      "已偵測出  \t:516張人臉\n",
      "已正確辨識出\t:516張人臉\n",
      "達到門檻值數據所得的準確率為:1.0\n",
      "所有數據所得的準確率為   \t:0.7962962962962963\n",
      "\n",
      "=================================================\n",
      "已處理   \t:91%\n",
      "\n",
      "<<演算法一>>\n",
      "已偵測出  \t:568張人臉\n",
      "已正確辨識出\t:568張人臉\n",
      "達到門檻值數據所得的準確率為:1.0\n",
      "所有數據所得的準確率為   \t:0.7791495198902606\n",
      "\n",
      "<<演算法二>>\n",
      "已偵測出  \t:725張人臉\n",
      "已正確辨識出\t:718張人臉\n",
      "達到門檻值數據所得的準確率為:0.9903448275862069\n",
      "所有數據所得的準確率為   \t:0.9849108367626886\n",
      "\n",
      "<<演算法三>>\n",
      "已偵測出  \t:568張人臉\n",
      "已正確辨識出\t:568張人臉\n",
      "達到門檻值數據所得的準確率為:1.0\n",
      "所有數據所得的準確率為   \t:0.7791495198902606\n",
      "\n",
      "=================================================\n",
      "演算法一達到門檻值數據所得的準確率為:1.0\n",
      "演算法一所有數據所得的準確率為      :0.7525\n",
      "演算法二達到門檻值數據所得的準確率為:0.9912060301507538\n",
      "演算法二所有數據所得的準確率為      :0.98625\n",
      "演算法三達到門檻值數據所得的準確率為:1.0\n",
      "演算法三所有數據所得的準確率為      :0.7525\n"
     ]
    },
    {
     "data": {
      "text/plain": [
       "(1.0, 0.7525, 0.9912060301507538, 0.98625, 1.0, 0.7525)"
      ]
     },
     "execution_count": 41,
     "metadata": {},
     "output_type": "execute_result"
    }
   ],
   "source": [
    "fr.face_recognition_accuracy(model=model, pro_threshold=0.6, rms_threshold = 150, target_size=224)"
   ]
  },
  {
   "cell_type": "code",
   "execution_count": 42,
   "metadata": {},
   "outputs": [
    {
     "name": "stdout",
     "output_type": "stream",
     "text": [
      "已處理   \t:10%\n",
      "\n",
      "<<演算法一>>\n",
      "已偵測出  \t:59張人臉\n",
      "已正確辨識出\t:59張人臉\n",
      "達到門檻值數據所得的準確率為:1.0\n",
      "所有數據所得的準確率為   \t:0.7283950617283951\n",
      "\n",
      "<<演算法二>>\n",
      "已偵測出  \t:80張人臉\n",
      "已正確辨識出\t:80張人臉\n",
      "達到門檻值數據所得的準確率為:1.0\n",
      "所有數據所得的準確率為   \t:0.9876543209876543\n",
      "\n",
      "<<演算法三>>\n",
      "已偵測出  \t:59張人臉\n",
      "已正確辨識出\t:59張人臉\n",
      "達到門檻值數據所得的準確率為:1.0\n",
      "所有數據所得的準確率為   \t:0.7283950617283951\n",
      "\n",
      "=================================================\n",
      "已處理   \t:20%\n",
      "\n",
      "<<演算法一>>\n",
      "已偵測出  \t:103張人臉\n",
      "已正確辨識出\t:103張人臉\n",
      "達到門檻值數據所得的準確率為:1.0\n",
      "所有數據所得的準確率為   \t:0.6358024691358025\n",
      "\n",
      "<<演算法二>>\n",
      "已偵測出  \t:158張人臉\n",
      "已正確辨識出\t:154張人臉\n",
      "達到門檻值數據所得的準確率為:0.9746835443037974\n",
      "所有數據所得的準確率為   \t:0.9506172839506173\n",
      "\n",
      "<<演算法三>>\n",
      "已偵測出  \t:103張人臉\n",
      "已正確辨識出\t:103張人臉\n",
      "達到門檻值數據所得的準確率為:1.0\n",
      "所有數據所得的準確率為   \t:0.6358024691358025\n",
      "\n",
      "=================================================\n",
      "已處理   \t:30%\n",
      "\n",
      "<<演算法一>>\n",
      "已偵測出  \t:173張人臉\n",
      "已正確辨識出\t:173張人臉\n",
      "達到門檻值數據所得的準確率為:1.0\n",
      "所有數據所得的準確率為   \t:0.7119341563786008\n",
      "\n",
      "<<演算法二>>\n",
      "已偵測出  \t:239張人臉\n",
      "已正確辨識出\t:235張人臉\n",
      "達到門檻值數據所得的準確率為:0.9832635983263598\n",
      "所有數據所得的準確率為   \t:0.9670781893004116\n",
      "\n",
      "<<演算法三>>\n",
      "已偵測出  \t:173張人臉\n",
      "已正確辨識出\t:173張人臉\n",
      "達到門檻值數據所得的準確率為:1.0\n",
      "所有數據所得的準確率為   \t:0.7119341563786008\n",
      "\n",
      "=================================================\n",
      "已處理   \t:40%\n",
      "\n",
      "<<演算法一>>\n",
      "已偵測出  \t:252張人臉\n",
      "已正確辨識出\t:252張人臉\n",
      "達到門檻值數據所得的準確率為:1.0\n",
      "所有數據所得的準確率為   \t:0.7777777777777778\n",
      "\n",
      "<<演算法二>>\n",
      "已偵測出  \t:320張人臉\n",
      "已正確辨識出\t:316張人臉\n",
      "達到門檻值數據所得的準確率為:0.9875\n",
      "所有數據所得的準確率為   \t:0.9753086419753086\n",
      "\n",
      "<<演算法三>>\n",
      "已偵測出  \t:252張人臉\n",
      "已正確辨識出\t:252張人臉\n",
      "達到門檻值數據所得的準確率為:1.0\n",
      "所有數據所得的準確率為   \t:0.7777777777777778\n",
      "\n",
      "=================================================\n",
      "已處理   \t:50%\n",
      "\n",
      "<<演算法一>>\n",
      "已偵測出  \t:329張人臉\n",
      "已正確辨識出\t:329張人臉\n",
      "達到門檻值數據所得的準確率為:1.0\n",
      "所有數據所得的準確率為   \t:0.8123456790123457\n",
      "\n",
      "<<演算法二>>\n",
      "已偵測出  \t:400張人臉\n",
      "已正確辨識出\t:396張人臉\n",
      "達到門檻值數據所得的準確率為:0.99\n",
      "所有數據所得的準確率為   \t:0.9777777777777777\n",
      "\n",
      "<<演算法三>>\n",
      "已偵測出  \t:329張人臉\n",
      "已正確辨識出\t:329張人臉\n",
      "達到門檻值數據所得的準確率為:1.0\n",
      "所有數據所得的準確率為   \t:0.8123456790123457\n",
      "\n",
      "=================================================\n",
      "已處理   \t:60%\n",
      "\n",
      "<<演算法一>>\n",
      "已偵測出  \t:403張人臉\n",
      "已正確辨識出\t:403張人臉\n",
      "達到門檻值數據所得的準確率為:1.0\n",
      "所有數據所得的準確率為   \t:0.8292181069958847\n",
      "\n",
      "<<演算法二>>\n",
      "已偵測出  \t:481張人臉\n",
      "已正確辨識出\t:477張人臉\n",
      "達到門檻值數據所得的準確率為:0.9916839916839917\n",
      "所有數據所得的準確率為   \t:0.9814814814814815\n",
      "\n",
      "<<演算法三>>\n",
      "已偵測出  \t:403張人臉\n",
      "已正確辨識出\t:403張人臉\n",
      "達到門檻值數據所得的準確率為:1.0\n",
      "所有數據所得的準確率為   \t:0.8292181069958847\n",
      "\n",
      "=================================================\n",
      "已處理   \t:70%\n",
      "\n",
      "<<演算法一>>\n",
      "已偵測出  \t:477張人臉\n",
      "已正確辨識出\t:477張人臉\n",
      "達到門檻值數據所得的準確率為:1.0\n",
      "所有數據所得的準確率為   \t:0.8412698412698413\n",
      "\n",
      "<<演算法二>>\n",
      "已偵測出  \t:562張人臉\n",
      "已正確辨識出\t:558張人臉\n",
      "達到門檻值數據所得的準確率為:0.9928825622775801\n",
      "所有數據所得的準確率為   \t:0.9841269841269841\n",
      "\n",
      "<<演算法三>>\n",
      "已偵測出  \t:477張人臉\n",
      "已正確辨識出\t:477張人臉\n",
      "達到門檻值數據所得的準確率為:1.0\n",
      "所有數據所得的準確率為   \t:0.8412698412698413\n",
      "\n",
      "=================================================\n",
      "已處理   \t:81%\n",
      "\n",
      "<<演算法一>>\n",
      "已偵測出  \t:545張人臉\n",
      "已正確辨識出\t:545張人臉\n",
      "達到門檻值數據所得的準確率為:1.0\n",
      "所有數據所得的準確率為   \t:0.8410493827160493\n",
      "\n",
      "<<演算法二>>\n",
      "已偵測出  \t:643張人臉\n",
      "已正確辨識出\t:639張人臉\n",
      "達到門檻值數據所得的準確率為:0.9937791601866252\n",
      "所有數據所得的準確率為   \t:0.9861111111111112\n",
      "\n",
      "<<演算法三>>\n",
      "已偵測出  \t:545張人臉\n",
      "已正確辨識出\t:545張人臉\n",
      "達到門檻值數據所得的準確率為:1.0\n",
      "所有數據所得的準確率為   \t:0.8410493827160493\n",
      "\n",
      "=================================================\n",
      "已處理   \t:91%\n",
      "\n",
      "<<演算法一>>\n",
      "已偵測出  \t:597張人臉\n",
      "已正確辨識出\t:597張人臉\n",
      "達到門檻值數據所得的準確率為:1.0\n",
      "所有數據所得的準確率為   \t:0.8189300411522634\n",
      "\n",
      "<<演算法二>>\n",
      "已偵測出  \t:724張人臉\n",
      "已正確辨識出\t:720張人臉\n",
      "達到門檻值數據所得的準確率為:0.994475138121547\n",
      "所有數據所得的準確率為   \t:0.9876543209876543\n",
      "\n",
      "<<演算法三>>\n",
      "已偵測出  \t:597張人臉\n",
      "已正確辨識出\t:597張人臉\n",
      "達到門檻值數據所得的準確率為:1.0\n",
      "所有數據所得的準確率為   \t:0.8189300411522634\n",
      "\n",
      "=================================================\n",
      "演算法一達到門檻值數據所得的準確率為:1.0\n",
      "演算法一所有數據所得的準確率為      :0.78875\n",
      "演算法二達到門檻值數據所得的準確率為:0.9949685534591195\n",
      "演算法二所有數據所得的準確率為      :0.98875\n",
      "演算法三達到門檻值數據所得的準確率為:1.0\n",
      "演算法三所有數據所得的準確率為      :0.78875\n"
     ]
    },
    {
     "data": {
      "text/plain": [
       "(1.0, 0.78875, 0.9949685534591195, 0.98875, 1.0, 0.78875)"
      ]
     },
     "execution_count": 42,
     "metadata": {},
     "output_type": "execute_result"
    }
   ],
   "source": [
    "fr.face_recognition_accuracy(model=model, pro_threshold=0.9, target_size=224)"
   ]
  },
  {
   "cell_type": "code",
   "execution_count": 43,
   "metadata": {},
   "outputs": [
    {
     "name": "stdout",
     "output_type": "stream",
     "text": [
      "已處理   \t:10%\n",
      "\n",
      "<<演算法一>>\n",
      "已偵測出  \t:59張人臉\n",
      "已正確辨識出\t:59張人臉\n",
      "達到門檻值數據所得的準確率為:1.0\n",
      "所有數據所得的準確率為   \t:0.7283950617283951\n",
      "\n",
      "<<演算法二>>\n",
      "已偵測出  \t:81張人臉\n",
      "已正確辨識出\t:80張人臉\n",
      "達到門檻值數據所得的準確率為:0.9876543209876543\n",
      "所有數據所得的準確率為   \t:0.9876543209876543\n",
      "\n",
      "<<演算法三>>\n",
      "已偵測出  \t:81張人臉\n",
      "已正確辨識出\t:60張人臉\n",
      "達到門檻值數據所得的準確率為:0.7407407407407407\n",
      "所有數據所得的準確率為   \t:0.7407407407407407\n",
      "\n",
      "=================================================\n",
      "已處理   \t:20%\n",
      "\n",
      "<<演算法一>>\n",
      "已偵測出  \t:103張人臉\n",
      "已正確辨識出\t:103張人臉\n",
      "達到門檻值數據所得的準確率為:1.0\n",
      "所有數據所得的準確率為   \t:0.6358024691358025\n",
      "\n",
      "<<演算法二>>\n",
      "已偵測出  \t:162張人臉\n",
      "已正確辨識出\t:155張人臉\n",
      "達到門檻值數據所得的準確率為:0.9567901234567902\n",
      "所有數據所得的準確率為   \t:0.9567901234567902\n",
      "\n",
      "<<演算法三>>\n",
      "已偵測出  \t:162張人臉\n",
      "已正確辨識出\t:104張人臉\n",
      "達到門檻值數據所得的準確率為:0.6419753086419753\n",
      "所有數據所得的準確率為   \t:0.6419753086419753\n",
      "\n",
      "=================================================\n",
      "已處理   \t:30%\n",
      "\n",
      "<<演算法一>>\n",
      "已偵測出  \t:173張人臉\n",
      "已正確辨識出\t:173張人臉\n",
      "達到門檻值數據所得的準確率為:1.0\n",
      "所有數據所得的準確率為   \t:0.7119341563786008\n",
      "\n",
      "<<演算法二>>\n",
      "已偵測出  \t:243張人臉\n",
      "已正確辨識出\t:236張人臉\n",
      "達到門檻值數據所得的準確率為:0.9711934156378601\n",
      "所有數據所得的準確率為   \t:0.9711934156378601\n",
      "\n",
      "<<演算法三>>\n",
      "已偵測出  \t:243張人臉\n",
      "已正確辨識出\t:174張人臉\n",
      "達到門檻值數據所得的準確率為:0.7160493827160493\n",
      "所有數據所得的準確率為   \t:0.7160493827160493\n",
      "\n",
      "=================================================\n",
      "已處理   \t:40%\n",
      "\n",
      "<<演算法一>>\n",
      "已偵測出  \t:252張人臉\n",
      "已正確辨識出\t:252張人臉\n",
      "達到門檻值數據所得的準確率為:1.0\n",
      "所有數據所得的準確率為   \t:0.7777777777777778\n",
      "\n",
      "<<演算法二>>\n",
      "已偵測出  \t:324張人臉\n",
      "已正確辨識出\t:317張人臉\n",
      "達到門檻值數據所得的準確率為:0.9783950617283951\n",
      "所有數據所得的準確率為   \t:0.9783950617283951\n",
      "\n",
      "<<演算法三>>\n",
      "已偵測出  \t:324張人臉\n",
      "已正確辨識出\t:253張人臉\n",
      "達到門檻值數據所得的準確率為:0.7808641975308642\n",
      "所有數據所得的準確率為   \t:0.7808641975308642\n",
      "\n",
      "=================================================\n",
      "已處理   \t:50%\n",
      "\n",
      "<<演算法一>>\n",
      "已偵測出  \t:330張人臉\n",
      "已正確辨識出\t:330張人臉\n",
      "達到門檻值數據所得的準確率為:1.0\n",
      "所有數據所得的準確率為   \t:0.8148148148148148\n",
      "\n",
      "<<演算法二>>\n",
      "已偵測出  \t:405張人臉\n",
      "已正確辨識出\t:398張人臉\n",
      "達到門檻值數據所得的準確率為:0.9827160493827161\n",
      "所有數據所得的準確率為   \t:0.9827160493827161\n",
      "\n",
      "<<演算法三>>\n",
      "已偵測出  \t:405張人臉\n",
      "已正確辨識出\t:331張人臉\n",
      "達到門檻值數據所得的準確率為:0.817283950617284\n",
      "所有數據所得的準確率為   \t:0.817283950617284\n",
      "\n",
      "=================================================\n",
      "已處理   \t:60%\n",
      "\n",
      "<<演算法一>>\n",
      "已偵測出  \t:404張人臉\n",
      "已正確辨識出\t:404張人臉\n",
      "達到門檻值數據所得的準確率為:1.0\n",
      "所有數據所得的準確率為   \t:0.831275720164609\n",
      "\n",
      "<<演算法二>>\n",
      "已偵測出  \t:486張人臉\n",
      "已正確辨識出\t:479張人臉\n",
      "達到門檻值數據所得的準確率為:0.98559670781893\n",
      "所有數據所得的準確率為   \t:0.98559670781893\n",
      "\n",
      "<<演算法三>>\n",
      "已偵測出  \t:486張人臉\n",
      "已正確辨識出\t:405張人臉\n",
      "達到門檻值數據所得的準確率為:0.8333333333333334\n",
      "所有數據所得的準確率為   \t:0.8333333333333334\n",
      "\n",
      "=================================================\n",
      "已處理   \t:70%\n",
      "\n",
      "<<演算法一>>\n",
      "已偵測出  \t:478張人臉\n",
      "已正確辨識出\t:478張人臉\n",
      "達到門檻值數據所得的準確率為:1.0\n",
      "所有數據所得的準確率為   \t:0.8430335097001763\n",
      "\n",
      "<<演算法二>>\n",
      "已偵測出  \t:567張人臉\n",
      "已正確辨識出\t:560張人臉\n",
      "達到門檻值數據所得的準確率為:0.9876543209876543\n",
      "所有數據所得的準確率為   \t:0.9876543209876543\n",
      "\n",
      "<<演算法三>>\n",
      "已偵測出  \t:567張人臉\n",
      "已正確辨識出\t:479張人臉\n",
      "達到門檻值數據所得的準確率為:0.8447971781305115\n",
      "所有數據所得的準確率為   \t:0.8447971781305115\n",
      "\n",
      "=================================================\n",
      "已處理   \t:81%\n",
      "\n",
      "<<演算法一>>\n",
      "已偵測出  \t:546張人臉\n",
      "已正確辨識出\t:546張人臉\n",
      "達到門檻值數據所得的準確率為:1.0\n",
      "所有數據所得的準確率為   \t:0.8425925925925926\n",
      "\n",
      "<<演算法二>>\n",
      "已偵測出  \t:648張人臉\n",
      "已正確辨識出\t:641張人臉\n",
      "達到門檻值數據所得的準確率為:0.9891975308641975\n",
      "所有數據所得的準確率為   \t:0.9891975308641975\n",
      "\n",
      "<<演算法三>>\n",
      "已偵測出  \t:648張人臉\n",
      "已正確辨識出\t:547張人臉\n",
      "達到門檻值數據所得的準確率為:0.8441358024691358\n",
      "所有數據所得的準確率為   \t:0.8441358024691358\n",
      "\n",
      "=================================================\n",
      "已處理   \t:91%\n",
      "\n",
      "<<演算法一>>\n",
      "已偵測出  \t:598張人臉\n",
      "已正確辨識出\t:598張人臉\n",
      "達到門檻值數據所得的準確率為:1.0\n",
      "所有數據所得的準確率為   \t:0.8203017832647462\n",
      "\n",
      "<<演算法二>>\n",
      "已偵測出  \t:729張人臉\n",
      "已正確辨識出\t:722張人臉\n",
      "達到門檻值數據所得的準確率為:0.99039780521262\n",
      "所有數據所得的準確率為   \t:0.99039780521262\n",
      "\n",
      "<<演算法三>>\n",
      "已偵測出  \t:729張人臉\n",
      "已正確辨識出\t:599張人臉\n",
      "達到門檻值數據所得的準確率為:0.821673525377229\n",
      "所有數據所得的準確率為   \t:0.821673525377229\n",
      "\n",
      "=================================================\n",
      "演算法一達到門檻值數據所得的準確率為:1.0\n",
      "演算法一所有數據所得的準確率為      :0.79\n",
      "演算法二達到門檻值數據所得的準確率為:0.99125\n",
      "演算法二所有數據所得的準確率為      :0.99125\n",
      "演算法三達到門檻值數據所得的準確率為:0.79125\n",
      "演算法三所有數據所得的準確率為      :0.79125\n"
     ]
    },
    {
     "data": {
      "text/plain": [
       "(1.0, 0.79, 0.99125, 0.99125, 0.79125, 0.79125)"
      ]
     },
     "execution_count": 43,
     "metadata": {},
     "output_type": "execute_result"
    }
   ],
   "source": [
    "fr.face_recognition_accuracy(model=model, target_size=224)"
   ]
  },
  {
   "cell_type": "code",
   "execution_count": 6,
   "metadata": {},
   "outputs": [
    {
     "name": "stdout",
     "output_type": "stream",
     "text": [
      "已擷取100張人臉圖片\n",
      "已擷取200張人臉圖片\n",
      "已擷取300張人臉圖片\n",
      "已擷取400張人臉圖片\n",
      "已擷取500張人臉圖片\n",
      "已擷取600張人臉圖片\n",
      "已擷取700張人臉圖片\n",
      "已擷取800張人臉圖片\n",
      "已擷取900張人臉圖片\n",
      "已擷取1000張人臉圖片\n",
      "已擷取1000張人臉樣本\n"
     ]
    }
   ],
   "source": [
    "fr.supplement_extract_face(model=model, supplement_sample=\"supplement_sample0_face\", film=0, txt='sample_name.txt', \n",
    "                           target_size=224, face_direction=0, save_format=\"jpg\", \n",
    "                           start_n=10000, number=1000, view_number=100,\n",
    "                           true_rectangle_BGR=(0, 255, 0) , true_putText_BGR=(255, 255, 255),\n",
    "                           false_rectangle_BGR=(0, 0, 255), false_putText_BGR=(255, 255, 255))"
   ]
  },
  {
   "cell_type": "code",
   "execution_count": null,
   "metadata": {
    "collapsed": true
   },
   "outputs": [],
   "source": [
    "fr.supplement_extract_face(model=model, supplement_sample=\"supplement_sample1_face\", film=0, txt='sample_name.txt', \n",
    "                           target_size=224, face_direction=0, save_format=\"jpg\", \n",
    "                           start_n=10000, number=1000, view_number=100,\n",
    "                           true_rectangle_BGR=(0, 255, 0) , true_putText_BGR=(255, 255, 255),\n",
    "                           false_rectangle_BGR=(0, 0, 255), false_putText_BGR=(255, 255, 255))"
   ]
  },
  {
   "cell_type": "code",
   "execution_count": 5,
   "metadata": {},
   "outputs": [
    {
     "name": "stdout",
     "output_type": "stream",
     "text": [
      "已擷取100張人臉圖片\n",
      "已擷取200張人臉圖片\n",
      "已擷取300張人臉圖片\n",
      "已擷取400張人臉圖片\n",
      "已擷取500張人臉圖片\n",
      "已擷取600張人臉圖片\n",
      "已擷取700張人臉圖片\n",
      "已擷取800張人臉圖片\n",
      "已擷取900張人臉圖片\n",
      "已擷取1000張人臉圖片\n",
      "已擷取1000張人臉樣本\n"
     ]
    }
   ],
   "source": [
    "fr.supplement_extract_face(model=model, supplement_sample=\"supplement_sample2_face\", film=0, txt='sample_name.txt', \n",
    "                           target_size=224, face_direction=0, save_format=\"jpg\", \n",
    "                           start_n=10000, number=1000, view_number=100,\n",
    "                           true_rectangle_BGR=(0, 255, 0) , true_putText_BGR=(255, 255, 255),\n",
    "                           false_rectangle_BGR=(0, 0, 255), false_putText_BGR=(255, 255, 255))"
   ]
  },
  {
   "cell_type": "code",
   "execution_count": 10,
   "metadata": {},
   "outputs": [
    {
     "name": "stdout",
     "output_type": "stream",
     "text": [
      "已擷取9張人臉樣本\n"
     ]
    }
   ],
   "source": [
    "fr.supplement_extract_face(model=model, supplement_sample=\"supplement_sample3_face\", film=0, txt='sample_name.txt', \n",
    "                           target_size=224, face_direction=0, save_format=\"jpg\", \n",
    "                           start_n=10000, number=1000, view_number=100,\n",
    "                           true_rectangle_BGR=(0, 255, 0) , true_putText_BGR=(255, 255, 255),\n",
    "                           false_rectangle_BGR=(0, 0, 255), false_putText_BGR=(255, 255, 255))"
   ]
  },
  {
   "cell_type": "code",
   "execution_count": 6,
   "metadata": {},
   "outputs": [
    {
     "name": "stdout",
     "output_type": "stream",
     "text": [
      "已擷取100張人臉圖片\n",
      "已擷取200張人臉圖片\n",
      "已擷取300張人臉圖片\n",
      "已擷取400張人臉圖片\n",
      "已擷取500張人臉圖片\n",
      "已擷取600張人臉圖片\n",
      "已擷取700張人臉圖片\n",
      "已擷取800張人臉圖片\n",
      "已擷取900張人臉圖片\n",
      "已擷取1000張人臉圖片\n",
      "已擷取1000張人臉樣本\n"
     ]
    }
   ],
   "source": [
    "fr.supplement_extract_face(model=model, supplement_sample=\"supplement_sample4_face\", film=0, txt='sample_name.txt', \n",
    "                           target_size=224, face_direction=0, save_format=\"jpg\", \n",
    "                           start_n=10000, number=1000, view_number=100,\n",
    "                           true_rectangle_BGR=(0, 255, 0) , true_putText_BGR=(255, 255, 255),\n",
    "                           false_rectangle_BGR=(0, 0, 255), false_putText_BGR=(255, 255, 255))"
   ]
  },
  {
   "cell_type": "code",
   "execution_count": null,
   "metadata": {
    "collapsed": true
   },
   "outputs": [],
   "source": []
  }
 ],
 "metadata": {
  "kernelspec": {
   "display_name": "Python 3",
   "language": "python",
   "name": "python3"
  },
  "language_info": {
   "codemirror_mode": {
    "name": "ipython",
    "version": 3
   },
   "file_extension": ".py",
   "mimetype": "text/x-python",
   "name": "python",
   "nbconvert_exporter": "python",
   "pygments_lexer": "ipython3",
   "version": "3.6.3"
  }
 },
 "nbformat": 4,
 "nbformat_minor": 2
}

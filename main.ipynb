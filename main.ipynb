{
 "cells": [
  {
   "cell_type": "code",
   "execution_count": 1,
   "metadata": {},
   "outputs": [
    {
     "name": "stderr",
     "output_type": "stream",
     "text": [
      "Using TensorFlow backend.\n"
     ]
    }
   ],
   "source": [
    "import os     #使用操作系統相關功能的模塊\n",
    "import numpy as np          #Python進行科學計算的基礎包\n",
    "import pandas as pd\n",
    "from keras.utils import np_utils\n",
    "import warnings\n",
    "import facerecognition as fr\n",
    "\n",
    "warnings.filterwarnings('ignore')"
   ]
  },
  {
   "cell_type": "code",
   "execution_count": 2,
   "metadata": {},
   "outputs": [
    {
     "data": {
      "text/plain": [
       "'1.1.1'"
      ]
     },
     "execution_count": 2,
     "metadata": {},
     "output_type": "execute_result"
    }
   ],
   "source": [
    "fr.__version__"
   ]
  },
  {
   "cell_type": "code",
   "execution_count": 3,
   "metadata": {},
   "outputs": [
    {
     "name": "stdout",
     "output_type": "stream",
     "text": [
      "platform          : win32\n",
      "conda             : 4.5.5\n",
      "jupyter notebook  : 5.0.0\n",
      "Python            : 3.6.3 \n",
      "numpy             : 1.13.3\n",
      "pandas            : 0.20.3\n",
      "matplotlib        : 2.2.2\n",
      "sklearn           : 0.19.1\n",
      "tensorflow        : 1.2.1\n",
      "keras             : 2.1.3\n",
      "cv2               : 3.4.0\n",
      "dlib              : 19.6.1\n",
      "facerecognition   : 1.1.1\n"
     ]
    }
   ],
   "source": [
    "fr.version()"
   ]
  },
  {
   "cell_type": "code",
   "execution_count": 5,
   "metadata": {
    "collapsed": true
   },
   "outputs": [],
   "source": [
    "fr.photograph_face(sample_name='sample0_face', film=1)"
   ]
  },
  {
   "cell_type": "code",
   "execution_count": 6,
   "metadata": {
    "collapsed": true
   },
   "outputs": [],
   "source": [
    "fr.photograph_face(sample_name='sample1_face', film=1)"
   ]
  },
  {
   "cell_type": "code",
   "execution_count": 7,
   "metadata": {
    "collapsed": true
   },
   "outputs": [],
   "source": [
    "fr.photograph_face(sample_name='sample2_face', film=1)"
   ]
  },
  {
   "cell_type": "code",
   "execution_count": 8,
   "metadata": {},
   "outputs": [
    {
     "name": "stdout",
     "output_type": "stream",
     "text": [
      "已擷取100張人臉圖片\n",
      "已擷取100張人臉樣本\n"
     ]
    }
   ],
   "source": [
    "fr.extract_face(sample='sample0_face', number=100, film=1)"
   ]
  },
  {
   "cell_type": "code",
   "execution_count": 9,
   "metadata": {},
   "outputs": [
    {
     "name": "stdout",
     "output_type": "stream",
     "text": [
      "已擷取100張人臉圖片\n",
      "已擷取100張人臉樣本\n"
     ]
    }
   ],
   "source": [
    "fr.extract_face(sample='sample1_face', number=100, film=1)"
   ]
  },
  {
   "cell_type": "code",
   "execution_count": 10,
   "metadata": {},
   "outputs": [
    {
     "name": "stdout",
     "output_type": "stream",
     "text": [
      "已擷取100張人臉圖片\n",
      "已擷取100張人臉樣本\n"
     ]
    }
   ],
   "source": [
    "fr.extract_face(sample='sample2_face', number=100, film=1)"
   ]
  },
  {
   "cell_type": "code",
   "execution_count": 11,
   "metadata": {
    "collapsed": true
   },
   "outputs": [],
   "source": [
    "# 寫入sample_name.txt"
   ]
  },
  {
   "cell_type": "code",
   "execution_count": 12,
   "metadata": {
    "collapsed": true
   },
   "outputs": [],
   "source": [
    "name_dict, number_of_samples=fr.get_name_dict()"
   ]
  },
  {
   "cell_type": "code",
   "execution_count": 13,
   "metadata": {},
   "outputs": [
    {
     "name": "stdout",
     "output_type": "stream",
     "text": [
      "--------------------------------------------------------------------------------\n",
      "|                                                              |               |\n",
      "|              sample_train_validation                         |  sample_test  |\n",
      "|                                                              |               |\n",
      "--------------------------------------------------------------------------------\n",
      "sample0_train_validation: 80 \t\t\t\t\tsample0_test: 20\n",
      "sample1_train_validation: 80 \t\t\t\t\tsample1_test: 20\n",
      "sample2_train_validation: 80 \t\t\t\t\tsample2_test: 20\n",
      "\n",
      "--------------------------------------------------------------------------------\n",
      "|                                      |                       |               |\n",
      "|              sample_train            |  sample_validation    |  sample_test  |\n",
      "|                                      |                       |               |\n",
      "--------------------------------------------------------------------------------\n",
      "sample0_train: 64 \t\t\tsample0_validation: 16 \tsample0_test: 20\n",
      "sample1_train: 64 \t\t\tsample1_validation: 16 \tsample1_test: 20\n",
      "sample2_train: 64 \t\t\tsample2_validation: 16 \tsample2_test: 20\n"
     ]
    }
   ],
   "source": [
    "fr.train_validation_test_split(tt_split_ratio=0.2, tv_split_ratio=0.2)"
   ]
  },
  {
   "cell_type": "code",
   "execution_count": 14,
   "metadata": {
    "collapsed": true
   },
   "outputs": [],
   "source": [
    "# 檢查圖片"
   ]
  },
  {
   "cell_type": "markdown",
   "metadata": {},
   "source": [
    "# 資料增強"
   ]
  },
  {
   "cell_type": "code",
   "execution_count": 15,
   "metadata": {},
   "outputs": [
    {
     "name": "stdout",
     "output_type": "stream",
     "text": [
      "sample0_face共增加了128筆資料\n",
      "sample1_face共增加了128筆資料\n",
      "sample2_face共增加了128筆資料\n"
     ]
    }
   ],
   "source": [
    "fr.data_augmentation(numbers=2)"
   ]
  },
  {
   "cell_type": "code",
   "execution_count": 16,
   "metadata": {
    "collapsed": true
   },
   "outputs": [],
   "source": [
    "# 複製到sample0_face後刪除sample0_face+"
   ]
  },
  {
   "cell_type": "markdown",
   "metadata": {},
   "source": [
    "# 資料預處理"
   ]
  },
  {
   "cell_type": "code",
   "execution_count": 17,
   "metadata": {
    "collapsed": true
   },
   "outputs": [],
   "source": [
    "target_size = 64"
   ]
  },
  {
   "cell_type": "code",
   "execution_count": 18,
   "metadata": {},
   "outputs": [
    {
     "name": "stdout",
     "output_type": "stream",
     "text": [
      "Found 384 images belonging to 3 classes.\n",
      "Found 48 images belonging to 3 classes.\n",
      "Found 60 images belonging to 3 classes.\n"
     ]
    }
   ],
   "source": [
    "from keras.preprocessing.image import ImageDataGenerator\n",
    "\n",
    "train_datagen = ImageDataGenerator(rescale = 1./255) \n",
    "validation_datagen = ImageDataGenerator(rescale = 1./255)\n",
    "test_datagen = ImageDataGenerator(rescale = 1./255)\n",
    "\n",
    "training_set = train_datagen.flow_from_directory('train/', target_size = (target_size, target_size), batch_size = 10, class_mode = 'categorical')\n",
    "validation_set = validation_datagen.flow_from_directory('validation/', target_size = (target_size, target_size), batch_size = 10, class_mode = 'categorical')\n",
    "test_set = test_datagen.flow_from_directory('test/', target_size = (target_size, target_size), batch_size = 10, class_mode = 'categorical')"
   ]
  },
  {
   "cell_type": "markdown",
   "metadata": {},
   "source": [
    "# 建立模型"
   ]
  },
  {
   "cell_type": "code",
   "execution_count": 19,
   "metadata": {},
   "outputs": [
    {
     "name": "stdout",
     "output_type": "stream",
     "text": [
      "_________________________________________________________________\n",
      "Layer (type)                 Output Shape              Param #   \n",
      "=================================================================\n",
      "conv2d_1 (Conv2D)            (None, 62, 62, 32)        896       \n",
      "_________________________________________________________________\n",
      "max_pooling2d_1 (MaxPooling2 (None, 31, 31, 32)        0         \n",
      "_________________________________________________________________\n",
      "conv2d_2 (Conv2D)            (None, 29, 29, 32)        9248      \n",
      "_________________________________________________________________\n",
      "max_pooling2d_2 (MaxPooling2 (None, 14, 14, 32)        0         \n",
      "_________________________________________________________________\n",
      "flatten_1 (Flatten)          (None, 6272)              0         \n",
      "_________________________________________________________________\n",
      "dense_1 (Dense)              (None, 128)               802944    \n",
      "_________________________________________________________________\n",
      "dense_2 (Dense)              (None, 128)               16512     \n",
      "_________________________________________________________________\n",
      "dense_3 (Dense)              (None, 3)                 387       \n",
      "=================================================================\n",
      "Total params: 829,987\n",
      "Trainable params: 829,987\n",
      "Non-trainable params: 0\n",
      "_________________________________________________________________\n"
     ]
    }
   ],
   "source": [
    "from keras.models import Sequential \n",
    "from keras.layers import Conv2D\n",
    "from keras.layers import MaxPooling2D \n",
    "from keras.layers import Flatten\n",
    "from keras.layers import Dense\n",
    "\n",
    "model = Sequential() # Initialising the CNN\n",
    "model.add(Conv2D(32, (3, 3), input_shape = (target_size, target_size, 3), activation = 'relu')) # Convolution\n",
    "model.add(MaxPooling2D(pool_size = (2, 2))) # Max Pooling\n",
    "model.add(Conv2D(32, (3, 3), activation = 'relu')) # Convolution\n",
    "model.add(MaxPooling2D(pool_size = (2, 2))) # Max Pooling\n",
    "model.add(Flatten()) # Flattening\n",
    "model.add(Dense(units = 128, activation = 'relu')) # Fully Connected\n",
    "model.add(Dense(units = 128, activation = 'relu'))\n",
    "model.add(Dense(units = number_of_samples, activation = 'softmax'))\n",
    "model.compile(optimizer = 'adam', loss ='categorical_crossentropy', metrics = ['accuracy'])\n",
    "model.summary()"
   ]
  },
  {
   "cell_type": "markdown",
   "metadata": {},
   "source": [
    "# 訓練模型"
   ]
  },
  {
   "cell_type": "code",
   "execution_count": 20,
   "metadata": {},
   "outputs": [
    {
     "name": "stdout",
     "output_type": "stream",
     "text": [
      "載入模型失敗!開始訓練一個新模型\n"
     ]
    }
   ],
   "source": [
    "from keras.models import load_model\n",
    "\n",
    "try:\n",
    "    model = load_model('SaveModel/facerecognition.hd5')\n",
    "    print(\"載入模型成功!繼續訓練模型\")\n",
    "except :    \n",
    "    print(\"載入模型失敗!開始訓練一個新模型\")"
   ]
  },
  {
   "cell_type": "code",
   "execution_count": 21,
   "metadata": {
    "collapsed": true
   },
   "outputs": [],
   "source": [
    "# https://keras-cn.readthedocs.io/en/latest/models/model/"
   ]
  },
  {
   "cell_type": "code",
   "execution_count": 22,
   "metadata": {},
   "outputs": [
    {
     "name": "stdout",
     "output_type": "stream",
     "text": [
      "Epoch 1/20\n",
      "39/39 [==============================] - 2s 55ms/step - loss: 1.1182 - acc: 0.3475 - val_loss: 1.0875 - val_acc: 0.3333\n",
      "Epoch 2/20\n",
      "39/39 [==============================] - 2s 43ms/step - loss: 1.0837 - acc: 0.4077 - val_loss: 1.0518 - val_acc: 0.3750\n",
      "Epoch 3/20\n",
      "39/39 [==============================] - 2s 43ms/step - loss: 1.0178 - acc: 0.5193 - val_loss: 1.0346 - val_acc: 0.5625\n",
      "Epoch 4/20\n",
      "39/39 [==============================] - 2s 43ms/step - loss: 0.9160 - acc: 0.5770 - val_loss: 1.1643 - val_acc: 0.5417\n",
      "Epoch 5/20\n",
      "39/39 [==============================] - 2s 43ms/step - loss: 0.7712 - acc: 0.6936 - val_loss: 0.6518 - val_acc: 0.8333\n",
      "Epoch 6/20\n",
      "39/39 [==============================] - 2s 43ms/step - loss: 0.4406 - acc: 0.8346 - val_loss: 0.6558 - val_acc: 0.6667\n",
      "Epoch 7/20\n",
      "39/39 [==============================] - 2s 43ms/step - loss: 0.3490 - acc: 0.8745 - val_loss: 1.2071 - val_acc: 0.5208\n",
      "Epoch 8/20\n",
      "39/39 [==============================] - 2s 44ms/step - loss: 0.1980 - acc: 0.9256 - val_loss: 1.0692 - val_acc: 0.5208\n",
      "Epoch 9/20\n",
      "39/39 [==============================] - 2s 45ms/step - loss: 0.1017 - acc: 0.9718 - val_loss: 0.6589 - val_acc: 0.7292\n",
      "Epoch 10/20\n",
      "39/39 [==============================] - 2s 44ms/step - loss: 0.0271 - acc: 1.0000 - val_loss: 0.8133 - val_acc: 0.7500\n",
      "Epoch 11/20\n",
      "39/39 [==============================] - 2s 44ms/step - loss: 0.0186 - acc: 0.9949 - val_loss: 1.0938 - val_acc: 0.6875\n",
      "Epoch 12/20\n",
      "39/39 [==============================] - 2s 44ms/step - loss: 0.0076 - acc: 1.0000 - val_loss: 1.1341 - val_acc: 0.7083\n",
      "Epoch 13/20\n",
      "39/39 [==============================] - 2s 44ms/step - loss: 0.0032 - acc: 1.0000 - val_loss: 1.0796 - val_acc: 0.7083\n",
      "Epoch 14/20\n",
      "39/39 [==============================] - 2s 45ms/step - loss: 0.0013 - acc: 1.0000 - val_loss: 1.3779 - val_acc: 0.7083\n",
      "Epoch 15/20\n",
      "39/39 [==============================] - 2s 44ms/step - loss: 7.8533e-04 - acc: 1.0000 - val_loss: 1.4927 - val_acc: 0.7083\n",
      "Epoch 16/20\n",
      "39/39 [==============================] - 2s 44ms/step - loss: 6.2549e-04 - acc: 1.0000 - val_loss: 1.5870 - val_acc: 0.7083\n",
      "Epoch 17/20\n",
      "39/39 [==============================] - 2s 44ms/step - loss: 5.0283e-04 - acc: 1.0000 - val_loss: 1.6312 - val_acc: 0.7083\n",
      "Epoch 18/20\n",
      "39/39 [==============================] - 2s 44ms/step - loss: 4.2078e-04 - acc: 1.0000 - val_loss: 1.6509 - val_acc: 0.7083\n",
      "Epoch 19/20\n",
      "39/39 [==============================] - 2s 44ms/step - loss: 3.7616e-04 - acc: 1.0000 - val_loss: 1.7156 - val_acc: 0.7083\n",
      "Epoch 20/20\n",
      "39/39 [==============================] - 2s 45ms/step - loss: 3.1196e-04 - acc: 1.0000 - val_loss: 1.7916 - val_acc: 0.7083\n"
     ]
    }
   ],
   "source": [
    "history = model.fit_generator(training_set,\n",
    "                              nb_epoch=20,\n",
    "#                               nb_val_samples=30,\n",
    "#                               steps_per_epoch = 30,\n",
    "                              shuffle=True,\n",
    "                              verbose = 1,\n",
    "                              validation_data = validation_set)"
   ]
  },
  {
   "cell_type": "markdown",
   "metadata": {},
   "source": [
    "# 驗證曲線"
   ]
  },
  {
   "cell_type": "code",
   "execution_count": 23,
   "metadata": {},
   "outputs": [
    {
     "data": {
      "image/png": "[encoded data removed]",
      "text/plain": [
       "<Figure size 432x288 with 1 Axes>"
      ]
     },
     "metadata": {},
     "output_type": "display_data"
    }
   ],
   "source": [
    "fr.show_acc_history(history=history)"
   ]
  },
  {
   "cell_type": "code",
   "execution_count": 24,
   "metadata": {},
   "outputs": [
    {
     "data": {
      "image/png": "[encoded data removed]",
      "text/plain": [
       "<Figure size 432x288 with 1 Axes>"
      ]
     },
     "metadata": {},
     "output_type": "display_data"
    }
   ],
   "source": [
    "fr.show_loss_history(history=history)"
   ]
  },
  {
   "cell_type": "markdown",
   "metadata": {},
   "source": [
    "# 評估模型"
   ]
  },
  {
   "cell_type": "code",
   "execution_count": 25,
   "metadata": {},
   "outputs": [
    {
     "name": "stdout",
     "output_type": "stream",
     "text": [
      "Found 60 images belonging to 3 classes.\n"
     ]
    },
    {
     "data": {
      "text/plain": [
       "0.70000000397364304"
      ]
     },
     "execution_count": 25,
     "metadata": {},
     "output_type": "execute_result"
    }
   ],
   "source": [
    "fr.evaluation_model(model=model)"
   ]
  },
  {
   "cell_type": "markdown",
   "metadata": {},
   "source": [
    "# 混淆矩陣"
   ]
  },
  {
   "cell_type": "code",
   "execution_count": 26,
   "metadata": {},
   "outputs": [
    {
     "name": "stdout",
     "output_type": "stream",
     "text": [
      "Found 60 images belonging to 3 classes.\n"
     ]
    },
    {
     "data": {
      "text/html": [
       "<div>\n",
       "<style>\n",
       "    .dataframe thead tr:only-child th {\n",
       "        text-align: right;\n",
       "    }\n",
       "\n",
       "    .dataframe thead th {\n",
       "        text-align: left;\n",
       "    }\n",
       "\n",
       "    .dataframe tbody tr th {\n",
       "        vertical-align: top;\n",
       "    }\n",
       "</style>\n",
       "<table border=\"1\" class=\"dataframe\">\n",
       "  <thead>\n",
       "    <tr style=\"text-align: right;\">\n",
       "      <th>predict</th>\n",
       "      <th>angry</th>\n",
       "      <th>normal</th>\n",
       "      <th>smile</th>\n",
       "    </tr>\n",
       "    <tr>\n",
       "      <th>label</th>\n",
       "      <th></th>\n",
       "      <th></th>\n",
       "      <th></th>\n",
       "    </tr>\n",
       "  </thead>\n",
       "  <tbody>\n",
       "    <tr>\n",
       "      <th>angry</th>\n",
       "      <td>17</td>\n",
       "      <td>3</td>\n",
       "      <td>0</td>\n",
       "    </tr>\n",
       "    <tr>\n",
       "      <th>normal</th>\n",
       "      <td>8</td>\n",
       "      <td>6</td>\n",
       "      <td>6</td>\n",
       "    </tr>\n",
       "    <tr>\n",
       "      <th>smile</th>\n",
       "      <td>1</td>\n",
       "      <td>0</td>\n",
       "      <td>19</td>\n",
       "    </tr>\n",
       "  </tbody>\n",
       "</table>\n",
       "</div>"
      ],
      "text/plain": [
       "predict  angry  normal  smile\n",
       "label                        \n",
       "angry       17       3      0\n",
       "normal       8       6      6\n",
       "smile        1       0     19"
      ]
     },
     "execution_count": 26,
     "metadata": {},
     "output_type": "execute_result"
    }
   ],
   "source": [
    "fr.crosstab(model=model)"
   ]
  },
  {
   "cell_type": "markdown",
   "metadata": {},
   "source": [
    "# 儲存模型"
   ]
  },
  {
   "cell_type": "code",
   "execution_count": 27,
   "metadata": {},
   "outputs": [
    {
     "name": "stdout",
     "output_type": "stream",
     "text": [
      "Saved model to disk\n"
     ]
    }
   ],
   "source": [
    "if not os.path.exists('SaveModel'):\n",
    "    os.mkdir('SaveModel')\n",
    "# classifier.save_weights(\"SaveModel/face.h5\")\n",
    "model.save('SaveModel/facerecognition.hd5')\n",
    "print(\"Saved model to disk\")"
   ]
  },
  {
   "cell_type": "markdown",
   "metadata": {},
   "source": [
    "# 模型預測"
   ]
  },
  {
   "cell_type": "code",
   "execution_count": 28,
   "metadata": {},
   "outputs": [
    {
     "data": {
      "image/png": "[encoded data removed]",
      "text/plain": [
       "<Figure size 432x288 with 1 Axes>"
      ]
     },
     "metadata": {},
     "output_type": "display_data"
    },
    {
     "name": "stdout",
     "output_type": "stream",
     "text": [
      "normal      的機率為: 9.419921980224899e-07\n",
      "smile       的機率為: 0.9999734163284302\n",
      "angry       的機率為: 2.5634382836869918e-05\n",
      "=========================================\n",
      "\n",
      "預測結果為: smile(0.9999734163284302%)\n"
     ]
    }
   ],
   "source": [
    "fr.predict(model=model, img=r'sample0_face\\sample0_0.jpg')"
   ]
  },
  {
   "cell_type": "markdown",
   "metadata": {},
   "source": [
    "# 人臉辨識"
   ]
  },
  {
   "cell_type": "code",
   "execution_count": 30,
   "metadata": {
    "collapsed": true
   },
   "outputs": [],
   "source": [
    "fr.face_recognition_everyone(model=model, threshold=0.5, film=1)"
   ]
  },
  {
   "cell_type": "code",
   "execution_count": 31,
   "metadata": {
    "collapsed": true
   },
   "outputs": [],
   "source": [
    "fr.face_recognition(model=model, threshold=0.5, film=1)"
   ]
  },
  {
   "cell_type": "code",
   "execution_count": null,
   "metadata": {
    "collapsed": true
   },
   "outputs": [],
   "source": []
  }
 ],
 "metadata": {
  "kernelspec": {
   "display_name": "Python 3",
   "language": "python",
   "name": "python3"
  },
  "language_info": {
   "codemirror_mode": {
    "name": "ipython",
    "version": 3
   },
   "file_extension": ".py",
   "mimetype": "text/x-python",
   "name": "python",
   "nbconvert_exporter": "python",
   "pygments_lexer": "ipython3",
   "version": "3.6.3"
  }
 },
 "nbformat": 4,
 "nbformat_minor": 2
}

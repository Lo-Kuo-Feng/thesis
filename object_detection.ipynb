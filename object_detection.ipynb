{
 "cells": [
  {
   "cell_type": "markdown",
   "metadata": {},
   "source": [
    "[OpenCV – Contour輪廓](https://chtseng.wordpress.com/2016/12/05/opencv-contour%E8%BC%AA%E5%BB%93/)\n",
    "\n",
    "[OpenCV-Python教程（11、輪廓檢測）](https://blog.csdn.net/sunny2038/article/details/12889059)"
   ]
  },
  {
   "cell_type": "markdown",
   "metadata": {},
   "source": [
    "### image"
   ]
  },
  {
   "cell_type": "code",
   "execution_count": 3,
   "metadata": {},
   "outputs": [],
   "source": [
    "import numpy as np\n",
    "import cv2\n",
    "\n",
    "image = cv2.imread(\"A.jpg\")\n",
    "\n",
    "gray = cv2.cvtColor(image, cv2.COLOR_BGR2GRAY)\n",
    "\n",
    "blurred = cv2.GaussianBlur(gray, (11, 11), 0)\n",
    "\n",
    "binaryIMG = cv2.Canny(blurred, 20, 160)\n",
    "\n",
    "(_, cnts, _) = cv2.findContours(binaryIMG.copy(), cv2.RETR_EXTERNAL, cv2.CHAIN_APPROX_SIMPLE)\n",
    "\n",
    "clone = image.copy()\n",
    "\n",
    "for c in cnts:  \n",
    "    \n",
    "#     cv2.drawContours(clone, [c], -1, 255, -1)\n",
    "    \n",
    "    (x, y, w, h) = cv2.boundingRect(c)\n",
    "\n",
    "    cv2.rectangle(clone, (x, y), (x + w, y + h), (0, 255, 0), 2)\n",
    "\n",
    "cv2.imshow('My Image', clone)\n",
    "cv2.waitKey(0)\n",
    "cv2.destroyAllWindows()"
   ]
  },
  {
   "cell_type": "markdown",
   "metadata": {},
   "source": [
    "### Video"
   ]
  },
  {
   "cell_type": "code",
   "execution_count": 1,
   "metadata": {
    "collapsed": true
   },
   "outputs": [],
   "source": [
    "import numpy as np        \n",
    "import dlib                 \n",
    "import cv2               \n",
    "\n",
    "\n",
    "cap = cv2.VideoCapture(0)                              \n",
    "\n",
    "while(cap.isOpened()):       \n",
    "    ret, frame = cap.read() \n",
    "    \n",
    "    image = frame\n",
    "\n",
    "    gray = cv2.cvtColor(image, cv2.COLOR_BGR2GRAY)\n",
    "\n",
    "    blurred = cv2.GaussianBlur(gray, (11, 11), 0)\n",
    "\n",
    "    binaryIMG = cv2.Canny(blurred, 20, 160)\n",
    "\n",
    "    (_, cnts, _) = cv2.findContours(binaryIMG.copy(), cv2.RETR_EXTERNAL, cv2.CHAIN_APPROX_SIMPLE)\n",
    "\n",
    "    clone = image.copy()\n",
    "\n",
    "    for c in cnts:  \n",
    "\n",
    "#         cv2.drawContours(clone, [c], -1, 255, -1)\n",
    "\n",
    "        (x, y, w, h) = cv2.boundingRect(c)\n",
    "\n",
    "        cv2.rectangle(clone, (x, y), (x + w, y + h), (0, 255, 0), 2)\n",
    "\n",
    "    cv2.imshow('My Image', clone)\n",
    "    if cv2.waitKey(1) & 0xFF == ord('q'):                \n",
    "        break   \n",
    "\n",
    "cap.release()                                           \n",
    "cv2.destroyAllWindows()                                  "
   ]
  },
  {
   "cell_type": "code",
   "execution_count": null,
   "metadata": {
    "collapsed": true
   },
   "outputs": [],
   "source": []
  }
 ],
 "metadata": {
  "kernelspec": {
   "display_name": "Python 3",
   "language": "python",
   "name": "python3"
  },
  "language_info": {
   "codemirror_mode": {
    "name": "ipython",
    "version": 3
   },
   "file_extension": ".py",
   "mimetype": "text/x-python",
   "name": "python",
   "nbconvert_exporter": "python",
   "pygments_lexer": "ipython3",
   "version": "3.6.3"
  }
 },
 "nbformat": 4,
 "nbformat_minor": 2
}

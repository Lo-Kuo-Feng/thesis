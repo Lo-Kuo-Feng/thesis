{
 "cells": [
  {
   "cell_type": "markdown",
   "metadata": {},
   "source": [
    "# 計算樣本類別數"
   ]
  },
  {
   "cell_type": "code",
   "execution_count": 1,
   "metadata": {
    "collapsed": true
   },
   "outputs": [],
   "source": [
    "with open('sample_name.txt','r') as f:\n",
    "    name = f.read().split(\"\\n\")\n",
    "    name_dict = {}\n",
    "    for i in name:\n",
    "        key, value = i.split(\":\")\n",
    "        name_dict[key] = value\n",
    "    number_of_samples = len(name_dict)"
   ]
  },
  {
   "cell_type": "markdown",
   "metadata": {},
   "source": [
    "# 建立train、validation、 test資料夾"
   ]
  },
  {
   "cell_type": "code",
   "execution_count": 2,
   "metadata": {
    "collapsed": true
   },
   "outputs": [],
   "source": [
    "datasets = ['train', 'validation', 'test']\n",
    "sample_face = []\n",
    "for i in range(number_of_samples):\n",
    "    sample_face.append('sample%s'%i+'_face/')"
   ]
  },
  {
   "cell_type": "code",
   "execution_count": 3,
   "metadata": {
    "collapsed": true
   },
   "outputs": [],
   "source": [
    "import os\n",
    "\n",
    "for dataset in datasets:\n",
    "    if not os.path.exists(dataset):\n",
    "        os.mkdir(dataset)\n",
    "    for i in range(number_of_samples):\n",
    "        if not os.path.exists(os.path.join(dataset,sample_face[i])):\n",
    "            os.mkdir(os.path.join(dataset,sample_face[i]))"
   ]
  },
  {
   "cell_type": "markdown",
   "metadata": {},
   "source": [
    "# 將sample_face的數據分割成train, validation, test"
   ]
  },
  {
   "cell_type": "code",
   "execution_count": 4,
   "metadata": {
    "collapsed": true
   },
   "outputs": [],
   "source": [
    "for i in range(number_of_samples):\n",
    "    locals()['sample%s'%i] = os.listdir(sample_face[i])"
   ]
  },
  {
   "cell_type": "code",
   "execution_count": 5,
   "metadata": {},
   "outputs": [
    {
     "name": "stdout",
     "output_type": "stream",
     "text": [
      "sample0_train_validation: 183 \tsample0_test: 46\n",
      "sample1_train_validation: 284 \tsample1_test: 71\n"
     ]
    }
   ],
   "source": [
    "from sklearn.model_selection import train_test_split\n",
    "\n",
    "for i in range(number_of_samples):\n",
    "    locals()['sample%s'%i+'_train_validation'], locals()['sample%s'%i+'_test'] = \\\n",
    "    train_test_split(locals()['sample%s'%i], test_size = 0.2, random_state = 42)\n",
    "    print('sample%s'%i+'_train_validation:',len(locals()['sample%s'%i+'_train_validation']),\n",
    "          '\\tsample%s'%i+'_test:',len(locals()['sample%s'%i+'_test']))"
   ]
  },
  {
   "cell_type": "code",
   "execution_count": 6,
   "metadata": {},
   "outputs": [
    {
     "name": "stdout",
     "output_type": "stream",
     "text": [
      "sample0_train: 146 \tsample0_validation: 37\n",
      "sample1_train: 227 \tsample1_validation: 57\n"
     ]
    }
   ],
   "source": [
    "for i in range(number_of_samples):\n",
    "    locals()['sample%s'%i+'_train'], locals()['sample%s'%i+'_validation'] = \\\n",
    "    train_test_split(locals()['sample%s'%i+'_train_validation'], test_size = 0.2, random_state = 42)\n",
    "    print('sample%s'%i+'_train:',len(locals()['sample%s'%i+'_train']),\n",
    "          '\\tsample%s'%i+'_validation:',len(locals()['sample%s'%i+'_validation']))"
   ]
  },
  {
   "cell_type": "markdown",
   "metadata": {},
   "source": [
    "# 複製分割好的圖檔複製到train、validation、 test"
   ]
  },
  {
   "cell_type": "code",
   "execution_count": 7,
   "metadata": {
    "collapsed": true
   },
   "outputs": [],
   "source": [
    "from shutil import copyfile\n",
    "\n",
    "def copyFileToDst(dataset, datafolder, srcfolder):\n",
    "    for f in dataset:\n",
    "        src = os.path.join(srcfolder, f)\n",
    "        dst = os.path.join(datafolder, srcfolder, f)\n",
    "        copyfile(src, dst)"
   ]
  },
  {
   "cell_type": "code",
   "execution_count": 8,
   "metadata": {
    "collapsed": true
   },
   "outputs": [],
   "source": [
    "for dataset in datasets:\n",
    "    for i in range(number_of_samples):\n",
    "        copyFileToDst(locals()['sample%s_'%i+dataset], dataset, sample_face[i])"
   ]
  }
 ],
 "metadata": {
  "kernelspec": {
   "display_name": "Python 3",
   "language": "python",
   "name": "python3"
  },
  "language_info": {
   "codemirror_mode": {
    "name": "ipython",
    "version": 3
   },
   "file_extension": ".py",
   "mimetype": "text/x-python",
   "name": "python",
   "nbconvert_exporter": "python",
   "pygments_lexer": "ipython3",
   "version": "3.6.3"
  }
 },
 "nbformat": 4,
 "nbformat_minor": 2
}

{
 "cells": [
  {
   "cell_type": "code",
   "execution_count": 1,
   "metadata": {},
   "outputs": [
    {
     "data": {
      "text/plain": [
       "{'0': 'luokuofeng', '1': 'MM', '2': 'leeweiwang'}"
      ]
     },
     "execution_count": 1,
     "metadata": {},
     "output_type": "execute_result"
    }
   ],
   "source": [
    "f = open('name.txt','r')\n",
    "name = f.read().split(\"\\n\")\n",
    "\n",
    "name_dict = {}\n",
    "for i in name:\n",
    "    key, value = i.split(\":\")\n",
    "    name_dict[key] = value\n",
    "\n",
    "name_dict"
   ]
  },
  {
   "cell_type": "code",
   "execution_count": 2,
   "metadata": {},
   "outputs": [
    {
     "name": "stderr",
     "output_type": "stream",
     "text": [
      "Using TensorFlow backend.\n"
     ]
    }
   ],
   "source": [
    "#即時串流影像人臉偵測\n",
    "import dlib\n",
    "import cv2\n",
    "import imutils\n",
    "\n",
    "import numpy as np\n",
    "from keras.models import Sequential \n",
    "from keras.layers import Conv2D\n",
    "from keras.layers import MaxPooling2D \n",
    "from keras.layers import Flatten\n",
    "from keras.layers import Dense\n",
    "\n",
    "# Initialising the CNN\n",
    "classifier = Sequential()\n",
    "\n",
    "# Convolution\n",
    "classifier.add(Conv2D(32, (3, 3), input_shape = (64, 64,\n",
    "3), activation = 'relu'))\n",
    "\n",
    "# Max Pooling\n",
    "classifier.add(MaxPooling2D(pool_size = (2, 2)))\n",
    "\n",
    "# Convolution\n",
    "classifier.add(Conv2D(32, (3, 3), activation = 'relu'))\n",
    "\n",
    "# Max Pooling\n",
    "classifier.add(MaxPooling2D(pool_size = (2, 2)))\n",
    "\n",
    "# Flattening\n",
    "classifier.add(Flatten())\n",
    "\n",
    "# Fully Connected\n",
    "classifier.add(Dense(units = 128, activation = 'relu')) \n",
    "classifier.add(Dense(units = 128, activation = 'relu'))\n",
    "classifier.add(Dense(units = 3, activation = 'softmax'))\n",
    "\n",
    "classifier.compile(optimizer = 'adam', \n",
    "                        loss ='categorical_crossentropy', \n",
    "                     metrics = ['accuracy'])\n",
    "classifier.load_weights(\"SaveModel/face.h5\")\n",
    "\n",
    "\n",
    "\n",
    "# 開啟影片檔案\n",
    "cap = cv2.VideoCapture(0)\n",
    "# cap = cv2.VideoCapture(r'C:\\Users\\user\\Desktop\\thesis\\Data_enhancement\\1.film\\风小筝 别丢下我不管 MV 原创.mp4')\n",
    "# cap = cv2.VideoCapture(r'C:\\Users\\user\\Desktop\\thesis\\Data_enhancement\\1.film\\超神奇臉部識別App之3D版的小伶！小伶玩具  Xiaoling toys.mp4')  \n",
    "\n",
    "\n",
    "# Dlib 的人臉偵測器\n",
    "detector = dlib.get_frontal_face_detector()\n",
    "\n",
    "\n",
    "\n",
    "# 以迴圈從影片檔案讀取影格，並顯示出來\n",
    "while(cap.isOpened()):\n",
    "    ret, frame = cap.read()\n",
    "\n",
    "  # 偵測人臉\n",
    "    face_rects, scores, idx = detector.run(frame, 0)\n",
    "\n",
    "  # 取出所有偵測的結果\n",
    "    for i, d in enumerate(face_rects):\n",
    "        x1 = d.left()\n",
    "        y1 = d.top()\n",
    "        x2 = d.right()\n",
    "        y2 = d.bottom()\n",
    "        #text = \"%2.2f(%d)\" % (scores[i], idx[i])\n",
    "\n",
    "        cropped = frame[int(y1):int(y2),int(x1):int(x2)]\n",
    "        image=cv2.resize(cropped,(64, 64),interpolation=cv2.INTER_CUBIC)\n",
    "        image = np.expand_dims(image, axis = 0)\n",
    "        \n",
    "        label = str(classifier.predict_classes(image)[0])\n",
    "        \n",
    "        label = name_dict[label]\n",
    "        \n",
    "        \n",
    "        # 以方框標示偵測的人臉\n",
    "        cv2.rectangle(frame, (x1, y1), (x2, y2), (0, 255, 0), 4, cv2.LINE_AA)\n",
    "\n",
    "        # 標示類別\n",
    "        cv2.putText(frame, label, (x1, y1), cv2.FONT_HERSHEY_DUPLEX,\n",
    "                0.7, (255, 255, 255), 1, cv2.LINE_AA)\n",
    "\n",
    "      # 顯示結果\n",
    "    cv2.imshow(\"Face Detection\", frame)\n",
    "\n",
    "    if cv2.waitKey(1) & 0xFF == ord('q'):\n",
    "        break\n",
    "\n",
    "cap.release()\n",
    "cv2.destroyAllWindows()"
   ]
  },
  {
   "cell_type": "code",
   "execution_count": null,
   "metadata": {
    "collapsed": true
   },
   "outputs": [],
   "source": []
  }
 ],
 "metadata": {
  "kernelspec": {
   "display_name": "Python 3",
   "language": "python",
   "name": "python3"
  },
  "language_info": {
   "codemirror_mode": {
    "name": "ipython",
    "version": 3
   },
   "file_extension": ".py",
   "mimetype": "text/x-python",
   "name": "python",
   "nbconvert_exporter": "python",
   "pygments_lexer": "ipython3",
   "version": "3.6.3"
  }
 },
 "nbformat": 4,
 "nbformat_minor": 2
}

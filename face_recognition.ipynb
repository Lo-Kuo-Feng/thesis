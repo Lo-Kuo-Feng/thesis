{
 "cells": [
  {
   "cell_type": "markdown",
   "metadata": {},
   "source": [
    "# 建立sample:name字典"
   ]
  },
  {
   "cell_type": "code",
   "execution_count": 1,
   "metadata": {
    "collapsed": true
   },
   "outputs": [],
   "source": [
    "def getnamedict(txt='sample_name.txt'):\n",
    "    with open(txt,'r') as f:\n",
    "        name = f.read().split(\"\\n\")\n",
    "        name_dict = {}\n",
    "        for i in name:\n",
    "            key, value = i.split(\":\")\n",
    "            name_dict[key] = value\n",
    "    return name_dict"
   ]
  },
  {
   "cell_type": "code",
   "execution_count": 2,
   "metadata": {
    "collapsed": true
   },
   "outputs": [],
   "source": [
    "name_dict = getnamedict(txt='sample_name.txt')\n",
    "number_of_samples = len(name_dict)"
   ]
  },
  {
   "cell_type": "markdown",
   "metadata": {},
   "source": [
    "# 載入訓練好的模型"
   ]
  },
  {
   "cell_type": "code",
   "execution_count": 3,
   "metadata": {},
   "outputs": [
    {
     "name": "stderr",
     "output_type": "stream",
     "text": [
      "Using TensorFlow backend.\n"
     ]
    }
   ],
   "source": [
    "from keras.models import load_model\n",
    "classifier = load_model('SaveModel/face.hd5')"
   ]
  },
  {
   "cell_type": "markdown",
   "metadata": {},
   "source": [
    "# 人臉辨識"
   ]
  },
  {
   "cell_type": "code",
   "execution_count": 4,
   "metadata": {
    "collapsed": true
   },
   "outputs": [],
   "source": [
    "import numpy as np          #Python進行科學計算的基礎包\n",
    "import dlib                 #dlib是一套包含了機器學習、計算機視覺、圖像處理等的函式庫\n",
    "import cv2                  #OpenCV\n",
    "\n",
    "def facerecognition(film):  #人臉辨識的函數，參數為(VideoCapture參數)\n",
    "    cap = cv2.VideoCapture(film)                                #開啟影片檔案\n",
    "    detector = dlib.get_frontal_face_detector()              #Dlib的人臉偵測器\n",
    "\n",
    "    while(cap.isOpened()):       #使用cap.isOpened()，來檢查是否成功初始化，以迴圈從影片檔案讀取影格，並顯示出來\n",
    "        ret, frame = cap.read()  #第一個參數ret的值為True或False，代表有沒有讀到圖片;第二個參數是frame，是當前截取一幀的圖片。\n",
    "        face_rects, scores, idx = detector.run(frame, 0)     #偵測人臉\n",
    "        for i, d in enumerate(face_rects):                   #取出所有偵測的結果\n",
    "            x1 = d.left()\n",
    "            y1 = d.top()\n",
    "            x2 = d.right()\n",
    "            y2 = d.bottom()\n",
    "            cropped = frame[int(y1):int(y2),int(x1):int(x2)] #裁剪偵測到的人臉\n",
    "            image=cv2.resize(cropped,(64, 64),interpolation=cv2.INTER_CUBIC) #將人臉圖片大小調整為(64, 64)\n",
    "            image = np.expand_dims(image, axis = 0)          #增加一個維度\n",
    "            label = str(classifier.predict_classes(image)[0])#將預測類別的型態轉為字串\n",
    "            label = name_dict['sample'+label]                #利用字典找姓名\n",
    "            text = label\n",
    "            cv2.rectangle(frame, (x1, y1), (x2, y2), (0, 255, 0), 4, cv2.LINE_AA) #以方框標示偵測的人臉，cv2.LINE_AA為反鋸齒效果\n",
    "            cv2.putText(frame, text, (x1, y1), cv2.FONT_HERSHEY_DUPLEX, 0.7, (255, 255, 255), 1, cv2.LINE_AA)  #標示姓名\n",
    "        cv2.imshow(\"face recognition\", frame)                  #顯示結果\n",
    "        if cv2.waitKey(1) & 0xFF == ord('q'):                #按Q停止\n",
    "            break\n",
    "\n",
    "    cap.release()                                            #釋放資源\n",
    "    cv2.destroyAllWindows()                                  #刪除任何我們建立的窗口"
   ]
  },
  {
   "cell_type": "code",
   "execution_count": 5,
   "metadata": {
    "collapsed": true
   },
   "outputs": [],
   "source": [
    "facerecognition(film=0)  #人臉辨識的函數，參數為(VideoCapture參數)"
   ]
  },
  {
   "cell_type": "code",
   "execution_count": null,
   "metadata": {
    "collapsed": true
   },
   "outputs": [],
   "source": []
  }
 ],
 "metadata": {
  "kernelspec": {
   "display_name": "Python 3",
   "language": "python",
   "name": "python3"
  },
  "language_info": {
   "codemirror_mode": {
    "name": "ipython",
    "version": 3
   },
   "file_extension": ".py",
   "mimetype": "text/x-python",
   "name": "python",
   "nbconvert_exporter": "python",
   "pygments_lexer": "ipython3",
   "version": "3.6.3"
  }
 },
 "nbformat": 4,
 "nbformat_minor": 2
}

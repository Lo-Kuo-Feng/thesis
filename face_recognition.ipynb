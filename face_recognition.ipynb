{
 "cells": [
  {
   "cell_type": "markdown",
   "metadata": {},
   "source": [
    "# 建立sample:name字典"
   ]
  },
  {
   "cell_type": "code",
   "execution_count": 1,
   "metadata": {
    "collapsed": true
   },
   "outputs": [],
   "source": [
    "with open('sample_name.txt','r') as f:\n",
    "    name = f.read().split(\"\\n\")\n",
    "    name_dict = {}\n",
    "    for i in name:\n",
    "        key, value = i.split(\":\")\n",
    "        name_dict[key] = value\n",
    "    number_of_samples = len(name_dict)"
   ]
  },
  {
   "cell_type": "markdown",
   "metadata": {},
   "source": [
    "# 載入訓練好的模型"
   ]
  },
  {
   "cell_type": "code",
   "execution_count": 2,
   "metadata": {},
   "outputs": [
    {
     "name": "stderr",
     "output_type": "stream",
     "text": [
      "Using TensorFlow backend.\n"
     ]
    }
   ],
   "source": [
    "from keras.models import load_model\n",
    "classifier = load_model('SaveModel/face.hd5')"
   ]
  },
  {
   "cell_type": "markdown",
   "metadata": {},
   "source": [
    "# 人臉辨識"
   ]
  },
  {
   "cell_type": "code",
   "execution_count": 3,
   "metadata": {
    "collapsed": true
   },
   "outputs": [],
   "source": [
    "import numpy as np          \n",
    "import dlib                \n",
    "import cv2             \n",
    "\n",
    "def facerecognition(film): \n",
    "    cap = cv2.VideoCapture(film)                               \n",
    "    detector = dlib.get_frontal_face_detector()             \n",
    "\n",
    "    while(cap.isOpened()):     \n",
    "        ret, frame = cap.read()  \n",
    "        face_rects, scores, idx = detector.run(frame, 0)    \n",
    "        for i, d in enumerate(face_rects):                  \n",
    "            x1 = d.left()\n",
    "            y1 = d.top()\n",
    "            x2 = d.right()\n",
    "            y2 = d.bottom()\n",
    "            cropped = frame[int(y1):int(y2),int(x1):int(x2)] \n",
    "            image=cv2.resize(cropped,(64, 64),interpolation=cv2.INTER_CUBIC)\n",
    "            image = np.expand_dims(image, axis = 0)        \n",
    "            label = str(classifier.predict_classes(image)[0])\n",
    "            label = name_dict['sample'+label]               \n",
    "            cv2.rectangle(frame, (x1, y1), (x2, y2), (0, 255, 0), 4, cv2.LINE_AA) \n",
    "            cv2.putText(frame, label, (x1, y1), cv2.FONT_HERSHEY_DUPLEX, 0.7, (255, 255, 255), 1, cv2.LINE_AA)  \n",
    "        cv2.imshow(\"face recognition\", frame)                  \n",
    "        if cv2.waitKey(1) & 0xFF == ord('q'):              \n",
    "            break\n",
    "\n",
    "    cap.release()                                           \n",
    "    cv2.destroyAllWindows()                                 "
   ]
  },
  {
   "cell_type": "code",
   "execution_count": 7,
   "metadata": {
    "collapsed": true
   },
   "outputs": [],
   "source": [
    "facerecognition('lo.mp4')  "
   ]
  }
 ],
 "metadata": {
  "kernelspec": {
   "display_name": "Python 3",
   "language": "python",
   "name": "python3"
  },
  "language_info": {
   "codemirror_mode": {
    "name": "ipython",
    "version": 3
   },
   "file_extension": ".py",
   "mimetype": "text/x-python",
   "name": "python",
   "nbconvert_exporter": "python",
   "pygments_lexer": "ipython3",
   "version": "3.6.3"
  }
 },
 "nbformat": 4,
 "nbformat_minor": 2
}

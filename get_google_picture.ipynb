{
 "cells": [
  {
   "cell_type": "markdown",
   "metadata": {},
   "source": [
    "# 從google圖片建立sample資料集"
   ]
  },
  {
   "cell_type": "code",
   "execution_count": 1,
   "metadata": {
    "collapsed": true
   },
   "outputs": [],
   "source": [
    "import os\n",
    "import requests\n",
    "from bs4 import BeautifulSoup\n",
    "\n",
    "def getGooglePicture(sample, idol, number):\n",
    "    if not os.path.exists(sample):     \n",
    "        os.mkdir(sample)\n",
    "    for n in range(0,number//100+1):\n",
    "        res = requests.get('https://www.google.com.tw/search?ei=lqfnW4axMZLI8wX1o7T4Cw&yv=3&q={}&tbm=isch&vet=10ahUKEwiG1NOnuMveAhUS5LwKHfURDb8QuT0IgQEoAQ.lqfnW4axMZLI8wX1o7T4Cw.i&ved=0ahUKEwiG1NOnuMveAhUS5LwKHfURDb8QuT0IgQEoAQ&ijn=2&start={}&asearch=ichunk&async=_id:rg_s,_pms:s,_fmt:pc'.format(idol, n * 100))\n",
    "        soup = BeautifulSoup(res.text, 'lxml')\n",
    "        for link in soup.select('img'):\n",
    "            res = requests.get(link.get('src'))\n",
    "            fname = sample + '//'+link.get('src').split('tbn:')[1] +'.jpg'\n",
    "            with open(fname, 'wb') as f: \n",
    "                f.write(res.content)"
   ]
  },
  {
   "cell_type": "code",
   "execution_count": 4,
   "metadata": {
    "collapsed": true
   },
   "outputs": [],
   "source": [
    "getGooglePicture('sample0/', '庾澄慶', 1000)  "
   ]
  },
  {
   "cell_type": "code",
   "execution_count": 3,
   "metadata": {
    "collapsed": true
   },
   "outputs": [],
   "source": [
    "getGooglePicture('sample1/', '林志玲', 1000)"
   ]
  },
  {
   "cell_type": "markdown",
   "metadata": {},
   "source": [
    "# 從sample資料集建立sample_face資料集"
   ]
  },
  {
   "cell_type": "code",
   "execution_count": 1,
   "metadata": {
    "collapsed": true
   },
   "outputs": [],
   "source": [
    "# https://raw.githubusercontent.com/opencv/opencv/master/data/haarcascades/haarcascade_frontalface_default.xml"
   ]
  },
  {
   "cell_type": "code",
   "execution_count": 5,
   "metadata": {
    "collapsed": true
   },
   "outputs": [],
   "source": [
    "import os\n",
    "from PIL import Image\n",
    "import cv2\n",
    "\n",
    "def extractFace(src_dir, dest_dir):   \n",
    "    if not os.path.exists(dest_dir):\n",
    "        os.mkdir(dest_dir)  \n",
    "    face_cascade = cv2.CascadeClassifier('haarcascade_frontalface_default.xml') \n",
    "    for f in os.listdir(src_dir):\n",
    "        filename = src_dir + f\n",
    "        img = Image.open(filename)\n",
    "        imgary = cv2.imread(filename)\n",
    "        faces = face_cascade.detectMultiScale(imgary, 1.3, 5)\n",
    "        if len(faces) == 1:\n",
    "            x,y,w,h = faces[0]\n",
    "            crpim = img.crop((x,y, x + w, y + h)).resize((64,64))\n",
    "            crpim.save(dest_dir + f)"
   ]
  },
  {
   "cell_type": "code",
   "execution_count": 6,
   "metadata": {
    "collapsed": true
   },
   "outputs": [],
   "source": [
    "extractFace('sample0/', 'sample0_face/')"
   ]
  },
  {
   "cell_type": "code",
   "execution_count": 7,
   "metadata": {
    "collapsed": true
   },
   "outputs": [],
   "source": [
    "extractFace('sample1/', 'sample1_face/')"
   ]
  }
 ],
 "metadata": {
  "kernelspec": {
   "display_name": "Python 3",
   "language": "python",
   "name": "python3"
  },
  "language_info": {
   "codemirror_mode": {
    "name": "ipython",
    "version": 3
   },
   "file_extension": ".py",
   "mimetype": "text/x-python",
   "name": "python",
   "nbconvert_exporter": "python",
   "pygments_lexer": "ipython3",
   "version": "3.6.3"
  }
 },
 "nbformat": 4,
 "nbformat_minor": 2
}

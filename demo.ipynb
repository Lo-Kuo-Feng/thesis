{
 "cells": [
  {
   "cell_type": "markdown",
   "metadata": {},
   "source": [
    "# 套件版本"
   ]
  },
  {
   "cell_type": "code",
   "execution_count": 1,
   "metadata": {},
   "outputs": [
    {
     "name": "stderr",
     "output_type": "stream",
     "text": [
      "C:\\Users\\user\\Anaconda3\\lib\\site-packages\\h5py\\__init__.py:34: FutureWarning: Conversion of the second argument of issubdtype from `float` to `np.floating` is deprecated. In future, it will be treated as `np.float64 == np.dtype(float).type`.\n",
      "  from ._conv import register_converters as _register_converters\n",
      "Using TensorFlow backend.\n"
     ]
    }
   ],
   "source": [
    "import os     #使用操作系統相關功能的模塊\n",
    "import numpy as np          #Python進行科學計算的基礎包\n",
    "import pandas as pd\n",
    "from keras.utils import np_utils\n",
    "import warnings\n",
    "import facerecognition as fr\n",
    "\n",
    "warnings.filterwarnings('ignore')"
   ]
  },
  {
   "cell_type": "code",
   "execution_count": 2,
   "metadata": {},
   "outputs": [
    {
     "data": {
      "text/plain": [
       "'1.9.8'"
      ]
     },
     "execution_count": 2,
     "metadata": {},
     "output_type": "execute_result"
    }
   ],
   "source": [
    "fr.__version__"
   ]
  },
  {
   "cell_type": "markdown",
   "metadata": {},
   "source": [
    "# 人臉辨識系統"
   ]
  },
  {
   "cell_type": "markdown",
   "metadata": {},
   "source": [
    "### 載入模型"
   ]
  },
  {
   "cell_type": "code",
   "execution_count": 3,
   "metadata": {},
   "outputs": [
    {
     "name": "stdout",
     "output_type": "stream",
     "text": [
      "載入模型成功!\n"
     ]
    }
   ],
   "source": [
    "name_dict, number_of_samples=fr.get_name_dict()\n",
    "from keras.models import load_model\n",
    "\n",
    "try:\n",
    "    model = load_model('SaveModel/experiment10000+1000_9.hd5')\n",
    "    print(\"載入模型成功!\")\n",
    "except :    \n",
    "    print(\"載入模型失敗!\")"
   ]
  },
  {
   "cell_type": "markdown",
   "metadata": {},
   "source": [
    "### 深度學習結合直方圖的人臉辨識"
   ]
  },
  {
   "cell_type": "code",
   "execution_count": 4,
   "metadata": {
    "collapsed": true
   },
   "outputs": [],
   "source": [
    "# BGR顏色\n",
    "# Cyan-Blue Azure ( 75, 139, 190)\n",
    "# Lapis Lazuli    ( 48, 105, 152)\n",
    "# Shandy          (255, 232, 115)\n",
    "# Sunglow         (255, 212,  59)\n",
    "# Granite Gray    (100, 100, 100)\n",
    "# Ggreen          (  0, 255,   0)\n",
    "# Red             (  0,   0, 255)\n",
    "# White           (255, 255, 255)"
   ]
  },
  {
   "cell_type": "markdown",
   "metadata": {},
   "source": [
    "#### box=True"
   ]
  },
  {
   "cell_type": "code",
   "execution_count": 5,
   "metadata": {
    "collapsed": true
   },
   "outputs": [],
   "source": [
    "fr.face_recognition_system_1(model=model, pro_threshold=0.8, rms_threshold=250, film=0,\n",
    "                             txt='sample_name.txt', target_size=224, catch_times=3, \n",
    "                             show_message_time_ms=3000, face_direction=0, box=True, other_show=True, \n",
    "                             show_localtime=True,\n",
    "                             true_rectangle_BGR=(115, 232, 255), true_putText_BGR=(115, 232, 255),\n",
    "                             false_rectangle_BGR=(190, 139, 75), false_putText_BGR=(190, 139, 75),\n",
    "                             show_localtime_BGR=(115, 232, 255))"
   ]
  },
  {
   "cell_type": "markdown",
   "metadata": {},
   "source": [
    "#### box=False"
   ]
  },
  {
   "cell_type": "code",
   "execution_count": 6,
   "metadata": {
    "collapsed": true
   },
   "outputs": [],
   "source": [
    "fr.face_recognition_system_1(model=model, pro_threshold=0.8, rms_threshold=250, film=0,\n",
    "                             txt='sample_name.txt', target_size=224, catch_times=3, \n",
    "                             show_message_time_ms=3000, face_direction=0, box=False, other_show=True, \n",
    "                             show_localtime=True,\n",
    "                             true_rectangle_BGR=(115, 232, 255), true_putText_BGR=(115, 232, 255),\n",
    "                             false_rectangle_BGR=(190, 139, 75), false_putText_BGR=(190, 139, 75),\n",
    "                             show_localtime_BGR=(115, 232, 255))"
   ]
  },
  {
   "cell_type": "markdown",
   "metadata": {},
   "source": [
    "#### demo"
   ]
  },
  {
   "cell_type": "code",
   "execution_count": 7,
   "metadata": {
    "collapsed": true
   },
   "outputs": [],
   "source": [
    "fr.face_recognition_system_1_demo(model=model, pro_threshold=0.8, rms_threshold = 250, film=0, \n",
    "                                  txt='sample_name.txt', target_size=224,\n",
    "                                  show_message_time_ms=3000, face_direction=0, box=True, other_show=True,\n",
    "                                  show_localtime=True,\n",
    "                                  true_rectangle_BGR=(115, 232, 255), true_putText_BGR=(115, 232, 255),\n",
    "                                  false_rectangle_BGR=(190, 139, 75), false_putText_BGR=(190, 139, 75),\n",
    "                                  show_localtime_BGR=(115, 232, 255))"
   ]
  }
 ],
 "metadata": {
  "kernelspec": {
   "display_name": "Python 3",
   "language": "python",
   "name": "python3"
  },
  "language_info": {
   "codemirror_mode": {
    "name": "ipython",
    "version": 3
   },
   "file_extension": ".py",
   "mimetype": "text/x-python",
   "name": "python",
   "nbconvert_exporter": "python",
   "pygments_lexer": "ipython3",
   "version": "3.6.3"
  }
 },
 "nbformat": 4,
 "nbformat_minor": 2
}

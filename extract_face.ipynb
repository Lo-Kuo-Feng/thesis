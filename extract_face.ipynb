{
 "cells": [
  {
   "cell_type": "code",
   "execution_count": 1,
   "metadata": {
    "collapsed": true
   },
   "outputs": [],
   "source": [
    "import os     #使用操作系統相關功能的模塊\n",
    "import dlib   #dlib是一套包含了機器學習、計算機視覺、圖像處理等的函式庫\n",
    "import cv2    #OpenCV\n",
    "\n",
    "def extractface(film, sample, number=-1):       #擷取人臉的函數，參數為(VideoCapture參數，樣本編號資料夾,樣本數量)\n",
    "    if not os.path.exists(sample):              #如果不存在sample的資料夾就創建它\n",
    "        os.mkdir(sample)\n",
    "    cap = cv2.VideoCapture(film)                #開啟影片檔案，影片路徑，筆電鏡頭打0\n",
    "    detector = dlib.get_frontal_face_detector() #Dlib的人臉偵測器\n",
    "    \n",
    "    n = 0                                       #人臉圖片編號\n",
    "    while(cap.isOpened()):                      #使用cap.isOpened()，來檢查是否成功初始化，以迴圈從影片檔案讀取影格，並顯示出來\n",
    "        ret, frame = cap.read()  #第一個參數ret的值為True或False，代表有沒有讀到圖片;第二個參數是frame，是當前截取一幀的圖片。\n",
    "        face_rects, scores, idx = detector.run(frame, 0)        #偵測人臉\n",
    "        for i, d in enumerate(face_rects):      #取出所有偵測的結果\n",
    "            x1 = d.left()\n",
    "            y1 = d.top()\n",
    "            x2 = d.right()\n",
    "            y2 = d.bottom()\n",
    "            text = \"%2.2f(%d)\" % (scores[i], idx[i])            #標示分數，方向\n",
    "            cropped = frame[int(y1):int(y2),int(x1):int(x2)]    #裁剪偵測到的人臉\n",
    "            cv2.imwrite(os.getcwd()+\"\\\\{}\\\\{}_{}.png\".format(sample,sample[:-4],n), cropped)#儲存裁剪到的人臉\n",
    "            cv2.rectangle(frame, (x1, y1), (x2, y2), (0, 255, 0), 4, cv2.LINE_AA) #以方框標示偵測的人臉，cv2.LINE_AA為反鋸齒效果\n",
    "            cv2.putText(frame, text, (x1, y1), cv2.FONT_HERSHEY_DUPLEX, 0.7, (255, 255, 255), 1, cv2.LINE_AA) #標示分數\n",
    "            n += 1                              #更新人臉圖片編號\n",
    "            if n%100 == 0:                      #每擷取100張人臉圖片時顯示一次擷取數量\n",
    "                print('已擷取%d張人臉圖片'%n) \n",
    "            if n == number:\n",
    "                break\n",
    "        cv2.imshow(\"Face Detection\", frame)     #顯示結果\n",
    "        if cv2.waitKey(1) & 0xFF == ord('q'):   #按Q停止\n",
    "            break\n",
    "        elif n == number:\n",
    "            break\n",
    "    print('已擷取{}張人臉樣本'.format(n))\n",
    "    cap.release()           #釋放資源\n",
    "    cv2.destroyAllWindows() #刪除任何我們建立的窗口 "
   ]
  },
  {
   "cell_type": "code",
   "execution_count": 2,
   "metadata": {},
   "outputs": [
    {
     "name": "stdout",
     "output_type": "stream",
     "text": [
      "已擷取100張人臉圖片\n",
      "已擷取200張人臉圖片\n",
      "已擷取300張人臉圖片\n",
      "已擷取324張人臉樣本\n"
     ]
    }
   ],
   "source": [
    "extractface(0, 'sample0_face')   #sample0"
   ]
  },
  {
   "cell_type": "code",
   "execution_count": 3,
   "metadata": {},
   "outputs": [
    {
     "name": "stdout",
     "output_type": "stream",
     "text": [
      "已擷取20張人臉樣本\n"
     ]
    }
   ],
   "source": [
    "extractface(0, 'sample1_face', 20)   #sample1"
   ]
  },
  {
   "cell_type": "code",
   "execution_count": null,
   "metadata": {
    "collapsed": true
   },
   "outputs": [],
   "source": [
    "extractface(0, 'sample2_face', 100)   #sample2"
   ]
  },
  {
   "cell_type": "code",
   "execution_count": null,
   "metadata": {
    "collapsed": true
   },
   "outputs": [],
   "source": [
    "extractface(0, 'sample2_face', 100)   #sample3"
   ]
  },
  {
   "cell_type": "code",
   "execution_count": null,
   "metadata": {
    "collapsed": true
   },
   "outputs": [],
   "source": [
    "extractface(0, 'sample2_face', 100)   #sample4"
   ]
  },
  {
   "cell_type": "code",
   "execution_count": null,
   "metadata": {
    "collapsed": true
   },
   "outputs": [],
   "source": [
    "extractface(0, 'sample2_face', 100)   #sample5"
   ]
  },
  {
   "cell_type": "code",
   "execution_count": null,
   "metadata": {
    "collapsed": true
   },
   "outputs": [],
   "source": [
    "extractface(0, 'sample2_face', 100)   #sample6"
   ]
  },
  {
   "cell_type": "code",
   "execution_count": null,
   "metadata": {
    "collapsed": true
   },
   "outputs": [],
   "source": [
    "extractface(0, 'sample2_face', 100)   #sample7"
   ]
  },
  {
   "cell_type": "code",
   "execution_count": null,
   "metadata": {
    "collapsed": true
   },
   "outputs": [],
   "source": [
    "extractface(0, 'sample2_face', 100)   #sample8"
   ]
  },
  {
   "cell_type": "code",
   "execution_count": null,
   "metadata": {
    "collapsed": true
   },
   "outputs": [],
   "source": [
    "extractface(0, 'sample2_face', 100)   #sample9"
   ]
  }
 ],
 "metadata": {
  "kernelspec": {
   "display_name": "Python 3",
   "language": "python",
   "name": "python3"
  },
  "language_info": {
   "codemirror_mode": {
    "name": "ipython",
    "version": 3
   },
   "file_extension": ".py",
   "mimetype": "text/x-python",
   "name": "python",
   "nbconvert_exporter": "python",
   "pygments_lexer": "ipython3",
   "version": "3.6.3"
  }
 },
 "nbformat": 4,
 "nbformat_minor": 2
}

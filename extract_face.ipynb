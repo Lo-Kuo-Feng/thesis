{
 "cells": [
  {
   "cell_type": "code",
   "execution_count": 1,
   "metadata": {
    "collapsed": true
   },
   "outputs": [],
   "source": [
    "import os     \n",
    "import dlib   \n",
    "import cv2    \n",
    "\n",
    "def extractface(film, sample):                \n",
    "    if not os.path.exists(sample+'_face'):     \n",
    "        os.mkdir(sample+'_face')\n",
    "    cap = cv2.VideoCapture(film)               \n",
    "    detector = dlib.get_frontal_face_detector()\n",
    "    \n",
    "    n = 0                                     \n",
    "    while(cap.isOpened()):                     \n",
    "        ret, frame = cap.read()  \n",
    "        face_rects, scores, idx = detector.run(frame, 0)       \n",
    "        for i, d in enumerate(face_rects):      \n",
    "            x1 = d.left()\n",
    "            y1 = d.top()\n",
    "            x2 = d.right()\n",
    "            y2 = d.bottom()\n",
    "            text = \"%2.2f(%d)\" % (scores[i], idx[i])           \n",
    "            cropped = frame[int(y1):int(y2),int(x1):int(x2)]    \n",
    "            cv2.imwrite(os.getcwd()+\"\\\\{}_face\\\\{}_{}.png\".format(sample,sample,n), cropped)\n",
    "            cv2.rectangle(frame, (x1, y1), (x2, y2), (0, 255, 0), 4, cv2.LINE_AA) \n",
    "            cv2.putText(frame, text, (x1, y1), cv2.FONT_HERSHEY_DUPLEX, 0.7, (255, 255, 255), 1, cv2.LINE_AA) \n",
    "            n += 1                             \n",
    "            if n%100 == 0:                     \n",
    "                print('已擷取%d張人臉圖片'%n)  \n",
    "        cv2.imshow(\"Face Detection\", frame)    \n",
    "        if cv2.waitKey(1) & 0xFF == ord('q'):   \n",
    "            break\n",
    "            \n",
    "    cap.release()          \n",
    "    cv2.destroyAllWindows() "
   ]
  },
  {
   "cell_type": "code",
   "execution_count": 2,
   "metadata": {
    "collapsed": true
   },
   "outputs": [],
   "source": [
    "film = 0            \n",
    "sample = 'sample0'  \n",
    "\n",
    "extractface(film, sample)"
   ]
  }
 ],
 "metadata": {
  "kernelspec": {
   "display_name": "Python 3",
   "language": "python",
   "name": "python3"
  },
  "language_info": {
   "codemirror_mode": {
    "name": "ipython",
    "version": 3
   },
   "file_extension": ".py",
   "mimetype": "text/x-python",
   "name": "python",
   "nbconvert_exporter": "python",
   "pygments_lexer": "ipython3",
   "version": "3.6.3"
  }
 },
 "nbformat": 4,
 "nbformat_minor": 2
}

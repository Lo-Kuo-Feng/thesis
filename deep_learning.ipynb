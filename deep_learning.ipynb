{
 "cells": [
  {
   "cell_type": "markdown",
   "metadata": {},
   "source": [
    "# 計算樣本類別數"
   ]
  },
  {
   "cell_type": "code",
   "execution_count": 1,
   "metadata": {
    "collapsed": true
   },
   "outputs": [],
   "source": [
    "with open('sample_name.txt','r') as f:\n",
    "    name = f.read().split(\"\\n\")\n",
    "    name_dict = {}\n",
    "    for i in name:\n",
    "        key, value = i.split(\":\")\n",
    "        name_dict[key] = value\n",
    "    number_of_samples = len(name_dict)"
   ]
  },
  {
   "cell_type": "code",
   "execution_count": 2,
   "metadata": {},
   "outputs": [],
   "source": [
    "sample_face = []\n",
    "for i in range(number_of_samples):\n",
    "    sample_face.append('sample%s'%i+'_face/')"
   ]
  },
  {
   "cell_type": "markdown",
   "metadata": {},
   "source": [
    "# 建立trainset, validationset,testset 資料夾"
   ]
  },
  {
   "cell_type": "code",
   "execution_count": 3,
   "metadata": {},
   "outputs": [],
   "source": [
    "import os\n",
    "\n",
    "if not os.path.exists('trainset'):\n",
    "    os.mkdir('trainset')\n",
    "for i in range(number_of_samples):\n",
    "    if not os.path.exists('trainset/'+sample_face[i]):\n",
    "        os.mkdir('trainset/'+sample_face[i])"
   ]
  },
  {
   "cell_type": "code",
   "execution_count": 4,
   "metadata": {
    "collapsed": true
   },
   "outputs": [],
   "source": [
    "if not os.path.exists('validationset'):\n",
    "    os.mkdir('validationset')\n",
    "for i in range(number_of_samples):\n",
    "    if not os.path.exists('validationset/'+sample_face[i]):\n",
    "        os.mkdir('validationset/'+sample_face[i])"
   ]
  },
  {
   "cell_type": "code",
   "execution_count": 5,
   "metadata": {
    "collapsed": true
   },
   "outputs": [],
   "source": [
    " if not os.path.exists('testset'):\n",
    "        os.mkdir('testset')\n",
    "for i in range(number_of_samples):\n",
    "    if not os.path.exists('testset/'+sample_face[i]):\n",
    "        os.mkdir('testset/'+sample_face[i])"
   ]
  },
  {
   "cell_type": "markdown",
   "metadata": {},
   "source": [
    "# 將數據分割成train, validation, test"
   ]
  },
  {
   "cell_type": "code",
   "execution_count": 6,
   "metadata": {},
   "outputs": [],
   "source": [
    "for i in range(number_of_samples):\n",
    "    locals()['sample%s'%i] = os.listdir(sample_face[i])"
   ]
  },
  {
   "cell_type": "code",
   "execution_count": 7,
   "metadata": {},
   "outputs": [
    {
     "name": "stdout",
     "output_type": "stream",
     "text": [
      "sample0_train_validation: 60 \tsample0_test: 15\n",
      "sample1_train_validation: 88 \tsample1_test: 23\n",
      "sample2_train_validation: 108 \tsample2_test: 28\n"
     ]
    }
   ],
   "source": [
    "from sklearn.model_selection import train_test_split\n",
    "\n",
    "for i in range(number_of_samples):\n",
    "    locals()['sample%s'%i+'_train_validation'], locals()['sample%s'%i+'_test'] = \\\n",
    "    train_test_split(locals()['sample%s'%i], test_size = 0.2, random_state = 42)\n",
    "    print('sample%s'%i+'_train_validation:',len(locals()['sample%s'%i+'_train_validation']),\n",
    "          '\\tsample%s'%i+'_test:',len(locals()['sample%s'%i+'_test']))"
   ]
  },
  {
   "cell_type": "code",
   "execution_count": 8,
   "metadata": {},
   "outputs": [
    {
     "name": "stdout",
     "output_type": "stream",
     "text": [
      "sample0_train: 48 \tsample0_validation: 12\n",
      "sample1_train: 70 \tsample1_validation: 18\n",
      "sample2_train: 86 \tsample2_validation: 22\n"
     ]
    }
   ],
   "source": [
    "for i in range(number_of_samples):\n",
    "    locals()['sample%s'%i+'_train'], locals()['sample%s'%i+'_validation'] = \\\n",
    "    train_test_split(locals()['sample%s'%i+'_train_validation'], test_size = 0.2, random_state = 42)\n",
    "    print('sample%s'%i+'_train:',len(locals()['sample%s'%i+'_train']),\n",
    "          '\\tsample%s'%i+'_validation:',len(locals()['sample%s'%i+'_validation']))"
   ]
  },
  {
   "cell_type": "markdown",
   "metadata": {},
   "source": [
    "# 複製分割好的圖檔到trainset"
   ]
  },
  {
   "cell_type": "code",
   "execution_count": 9,
   "metadata": {
    "collapsed": true
   },
   "outputs": [],
   "source": [
    "from shutil import copyfile\n",
    "\n",
    "def copyFileToDst(dataset, datafolder, srcfolder):\n",
    "    for f in dataset:\n",
    "        src = srcfolder+ f\n",
    "        dst = datafolder+srcfolder+f\n",
    "        copyfile(src, dst)"
   ]
  },
  {
   "cell_type": "code",
   "execution_count": 10,
   "metadata": {
    "collapsed": true
   },
   "outputs": [],
   "source": [
    "for i in range(number_of_samples):\n",
    "    copyFileToDst(locals()['sample%s'%i+'_train'], 'trainset/', sample_face[i])\n",
    "    copyFileToDst(locals()['sample%s'%i+'_validation'], 'validationset/', sample_face[i])\n",
    "    copyFileToDst(locals()['sample%s'%i+'_test'], 'testset/', sample_face[i])"
   ]
  },
  {
   "cell_type": "code",
   "execution_count": 11,
   "metadata": {},
   "outputs": [
    {
     "name": "stderr",
     "output_type": "stream",
     "text": [
      "Using TensorFlow backend.\n"
     ]
    }
   ],
   "source": [
    "from keras.preprocessing.image import ImageDataGenerator\n",
    "\n",
    "train_datagen = ImageDataGenerator(rescale = 1./255,\n",
    "                                   shear_range = 0.2,      #x坐标保持不变，而对应的y坐标按比例发生平移\n",
    "                                   zoom_range = 0.2,       #可以让图片在长或宽的方向进行放大\n",
    "                                   horizontal_flip = True) #水平翻转操作\n",
    "validation_datagen = ImageDataGenerator(rescale = 1./255)\n",
    "test_datagen = ImageDataGenerator(rescale = 1./255)"
   ]
  },
  {
   "cell_type": "code",
   "execution_count": 12,
   "metadata": {},
   "outputs": [
    {
     "name": "stdout",
     "output_type": "stream",
     "text": [
      "Found 204 images belonging to 3 classes.\n",
      "Found 52 images belonging to 3 classes.\n",
      "Found 66 images belonging to 3 classes.\n"
     ]
    }
   ],
   "source": [
    "training_set = train_datagen.flow_from_directory('trainset/', target_size = (64, 64), batch_size = 10,\n",
    "                                                 class_mode = 'categorical')\n",
    "validation_set = validation_datagen.flow_from_directory('validationset/', target_size = (64, 64), batch_size = 10, \n",
    "                                                        class_mode = 'categorical')\n",
    "test_set = test_datagen.flow_from_directory('testset/', target_size = (64, 64), batch_size = 10, \n",
    "                                            class_mode = 'categorical')"
   ]
  },
  {
   "cell_type": "code",
   "execution_count": 13,
   "metadata": {
    "collapsed": true
   },
   "outputs": [],
   "source": [
    "from keras.models import Sequential \n",
    "from keras.layers import Conv2D\n",
    "from keras.layers import MaxPooling2D \n",
    "from keras.layers import Flatten\n",
    "from keras.layers import Dense\n",
    "\n",
    "classifier = Sequential() # Initialising the CNN\n",
    "classifier.add(Conv2D(32, (3, 3), input_shape = (64, 64, 3), activation = 'relu')) # Convolution\n",
    "classifier.add(MaxPooling2D(pool_size = (2, 2))) # Max Pooling\n",
    "classifier.add(Conv2D(32, (3, 3), activation = 'relu')) # Convolution\n",
    "classifier.add(MaxPooling2D(pool_size = (2, 2))) # Max Pooling\n",
    "classifier.add(Flatten()) # Flattening\n",
    "classifier.add(Dense(units = 128, activation = 'relu')) # Fully Connected\n",
    "classifier.add(Dense(units = 128, activation = 'relu'))\n",
    "classifier.add(Dense(units = number_of_samples, activation = 'softmax'))\n",
    "classifier.compile(optimizer = 'adam', loss ='categorical_crossentropy', metrics = ['accuracy'])"
   ]
  },
  {
   "cell_type": "code",
   "execution_count": 14,
   "metadata": {
    "collapsed": true
   },
   "outputs": [],
   "source": [
    "# try:\n",
    "#     classifier.load_weights(\"SaveModel/face.h5\")\n",
    "#     print(\"載入模型成功!繼續訓練模型\")\n",
    "# except :    \n",
    "#     print(\"載入模型失敗!開始訓練一個新模型\")"
   ]
  },
  {
   "cell_type": "code",
   "execution_count": 15,
   "metadata": {},
   "outputs": [
    {
     "name": "stderr",
     "output_type": "stream",
     "text": [
      "C:\\Users\\user\\Anaconda3\\lib\\site-packages\\ipykernel_launcher.py:6: UserWarning: The semantics of the Keras 2 argument `steps_per_epoch` is not the same as the Keras 1 argument `samples_per_epoch`. `steps_per_epoch` is the number of batches to draw from the generator at each epoch. Basically steps_per_epoch = samples_per_epoch/batch_size. Similarly `nb_val_samples`->`validation_steps` and `val_samples`->`steps` arguments have changed. Update your method calls accordingly.\n",
      "  \n",
      "C:\\Users\\user\\Anaconda3\\lib\\site-packages\\ipykernel_launcher.py:6: UserWarning: Update your `fit_generator` call to the Keras 2 API: `fit_generator(<keras.pre..., steps_per_epoch=30, verbose=1, validation_data=<keras.pre..., epochs=10, validation_steps=30)`\n",
      "  \n"
     ]
    },
    {
     "name": "stdout",
     "output_type": "stream",
     "text": [
      "Epoch 1/10\n",
      "30/30 [==============================] - 2s 81ms/step - loss: 0.5179 - acc: 0.7969 - val_loss: 0.0349 - val_acc: 0.9808\n",
      "Epoch 2/10\n",
      "30/30 [==============================] - 2s 58ms/step - loss: 0.0164 - acc: 1.0000 - val_loss: 0.0503 - val_acc: 0.9808\n",
      "Epoch 3/10\n",
      "30/30 [==============================] - 2s 61ms/step - loss: 0.1336 - acc: 0.9618 - val_loss: 0.0454 - val_acc: 0.9808\n",
      "Epoch 4/10\n",
      "30/30 [==============================] - 2s 59ms/step - loss: 0.0285 - acc: 0.9900 - val_loss: 0.0042 - val_acc: 1.0000\n",
      "Epoch 5/10\n",
      "30/30 [==============================] - 2s 64ms/step - loss: 0.0044 - acc: 1.0000 - val_loss: 0.0113 - val_acc: 1.0000\n",
      "Epoch 6/10\n",
      "30/30 [==============================] - 2s 62ms/step - loss: 0.0016 - acc: 1.0000 - val_loss: 0.0127 - val_acc: 1.0000\n",
      "Epoch 7/10\n",
      "30/30 [==============================] - 2s 61ms/step - loss: 0.0064 - acc: 1.0000 - val_loss: 0.0011 - val_acc: 1.0000\n",
      "Epoch 8/10\n",
      "30/30 [==============================] - 2s 61ms/step - loss: 0.0026 - acc: 1.0000 - val_loss: 9.6109e-04 - val_acc: 1.0000\n",
      "Epoch 9/10\n",
      "30/30 [==============================] - 2s 61ms/step - loss: 2.9965e-04 - acc: 1.0000 - val_loss: 0.0011 - val_acc: 1.0000\n",
      "Epoch 10/10\n",
      "30/30 [==============================] - 2s 72ms/step - loss: 1.2442e-04 - acc: 1.0000 - val_loss: 0.0050 - val_acc: 1.0000\n"
     ]
    }
   ],
   "source": [
    "history = classifier.fit_generator(training_set,\n",
    "                                   nb_epoch=10,\n",
    "                                   nb_val_samples=30,\n",
    "                                   steps_per_epoch = 30,\n",
    "                                   verbose = 1,\n",
    "                                   validation_data = validation_set)"
   ]
  },
  {
   "cell_type": "code",
   "execution_count": 16,
   "metadata": {},
   "outputs": [
    {
     "data": {
      "text/plain": [
       "(64, 64, 3)"
      ]
     },
     "execution_count": 16,
     "metadata": {},
     "output_type": "execute_result"
    }
   ],
   "source": [
    "import numpy as np\n",
    "from keras.preprocessing import image\n",
    "test_image = image.load_img(r'sample0_face\\sample0_0.png', target_size= (64,64))\n",
    "test_image = image.img_to_array(test_image)\n",
    "test_image.shape"
   ]
  },
  {
   "cell_type": "code",
   "execution_count": 17,
   "metadata": {},
   "outputs": [
    {
     "data": {
      "text/plain": [
       "(1, 64, 64, 3)"
      ]
     },
     "execution_count": 17,
     "metadata": {},
     "output_type": "execute_result"
    }
   ],
   "source": [
    "test_image = np.expand_dims(test_image, axis = 0)\n",
    "type(test_image)\n",
    "test_image.shape"
   ]
  },
  {
   "cell_type": "code",
   "execution_count": 18,
   "metadata": {},
   "outputs": [
    {
     "data": {
      "text/plain": [
       "array([0], dtype=int64)"
      ]
     },
     "execution_count": 18,
     "metadata": {},
     "output_type": "execute_result"
    }
   ],
   "source": [
    "classifier.predict_classes(test_image)"
   ]
  },
  {
   "cell_type": "code",
   "execution_count": 19,
   "metadata": {},
   "outputs": [
    {
     "data": {
      "text/plain": [
       "'luokuofeng'"
      ]
     },
     "execution_count": 19,
     "metadata": {},
     "output_type": "execute_result"
    }
   ],
   "source": [
    "name_dict['sample'+str(classifier.predict_classes(test_image)[0])] "
   ]
  },
  {
   "cell_type": "code",
   "execution_count": 20,
   "metadata": {},
   "outputs": [
    {
     "name": "stdout",
     "output_type": "stream",
     "text": [
      "Saved model to disk\n"
     ]
    }
   ],
   "source": [
    "if not os.path.exists('SaveModel'):\n",
    "    os.mkdir('SaveModel')\n",
    "classifier.save_weights(\"SaveModel/face.h5\")\n",
    "print(\"Saved model to disk\")"
   ]
  },
  {
   "cell_type": "code",
   "execution_count": null,
   "metadata": {
    "collapsed": true
   },
   "outputs": [],
   "source": []
  }
 ],
 "metadata": {
  "kernelspec": {
   "display_name": "Python 3",
   "language": "python",
   "name": "python3"
  },
  "language_info": {
   "codemirror_mode": {
    "name": "ipython",
    "version": 3
   },
   "file_extension": ".py",
   "mimetype": "text/x-python",
   "name": "python",
   "nbconvert_exporter": "python",
   "pygments_lexer": "ipython3",
   "version": "3.6.3"
  }
 },
 "nbformat": 4,
 "nbformat_minor": 2
}

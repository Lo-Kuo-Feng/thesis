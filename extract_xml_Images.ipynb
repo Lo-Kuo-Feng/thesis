{
 "cells": [
  {
   "cell_type": "markdown",
   "metadata": {},
   "source": [
    "# [Python和OpenCV中的基本图像操作：缩放、旋转和剪裁](https://www.jianshu.com/p/40206f0a6658)"
   ]
  },
  {
   "cell_type": "code",
   "execution_count": 1,
   "metadata": {},
   "outputs": [],
   "source": [
    "import os\n",
    "from xml.etree import ElementTree as ET\n",
    "from bs4 import BeautifulSoup\n",
    "import cv2"
   ]
  },
  {
   "cell_type": "markdown",
   "metadata": {},
   "source": [
    "# 找出path中的file"
   ]
  },
  {
   "cell_type": "code",
   "execution_count": 2,
   "metadata": {},
   "outputs": [],
   "source": [
    "def file_list(path, file):   \n",
    "    folder_path=os.listdir(path)\n",
    "    file_list = []\n",
    "    for i in folder_path:\n",
    "        if i[-len(file):]==file:\n",
    "            file_list.append(i)\n",
    "    return file_list"
   ]
  },
  {
   "cell_type": "code",
   "execution_count": 3,
   "metadata": {},
   "outputs": [
    {
     "data": {
      "text/plain": [
       "['frame0.xml',\n",
       " 'frame1.xml',\n",
       " 'frame100.xml',\n",
       " 'frame1002.xml',\n",
       " 'frame101.xml',\n",
       " 'frame1010.xml',\n",
       " 'frame103.xml']"
      ]
     },
     "execution_count": 3,
     "metadata": {},
     "output_type": "execute_result"
    }
   ],
   "source": [
    "path = r'C:\\Users\\jing\\Desktop\\Data_enhancement\\2.extractImages'\n",
    "file_list(path,'xml')"
   ]
  },
  {
   "cell_type": "markdown",
   "metadata": {},
   "source": [
    "# 截取xml中標註的圖片"
   ]
  },
  {
   "cell_type": "code",
   "execution_count": 4,
   "metadata": {},
   "outputs": [],
   "source": [
    "train_class = r'C:\\Users\\jing\\Desktop\\Data_enhancement\\4.data\\train\\class1'\n",
    "\n",
    "def extract_xml_Images(class_name, path, file):\n",
    "    str_xml = open(path+\"\\\\\"+file, 'r').read()\n",
    "    # print(str_xml)\n",
    "\n",
    "    soup = BeautifulSoup(str_xml)\n",
    "    # print(soup.text)\n",
    "\n",
    "    name = soup.select('name')\n",
    "    xmin = soup.select('xmin') \n",
    "    ymin = soup.select('ymin')\n",
    "    xmax = soup.select('xmax')\n",
    "    ymax = soup.select('ymax')\n",
    "\n",
    "    filename = soup.find('filename').text\n",
    "    image = cv2.imread(path+\"\\\\\"+filename)\n",
    "    # image.shape #y,x\n",
    "    n = 0\n",
    "    for i in range(len(soup.select('object'))):\n",
    "        if name[i].text == class_name:\n",
    "            cropped = image[int(ymin[i].text):int(ymax[i].text),int(xmin[i].text):int(xmax[i].text)]\n",
    "            cv2.imwrite(train_class+\"\\\\{}_{}_{}.png\".format(file,class_name,n), cropped)\n",
    "            n += 1"
   ]
  },
  {
   "cell_type": "code",
   "execution_count": 5,
   "metadata": {},
   "outputs": [
    {
     "name": "stderr",
     "output_type": "stream",
     "text": [
      "C:\\ProgramData\\Anaconda3\\lib\\site-packages\\bs4\\__init__.py:181: UserWarning: No parser was explicitly specified, so I'm using the best available HTML parser for this system (\"lxml\"). This usually isn't a problem, but if you run this code on another system, or in a different virtual environment, it may use a different parser and behave differently.\n",
      "\n",
      "The code that caused this warning is on line 193 of the file C:\\ProgramData\\Anaconda3\\lib\\runpy.py. To get rid of this warning, change code that looks like this:\n",
      "\n",
      " BeautifulSoup(YOUR_MARKUP})\n",
      "\n",
      "to this:\n",
      "\n",
      " BeautifulSoup(YOUR_MARKUP, \"lxml\")\n",
      "\n",
      "  markup_type=markup_type))\n"
     ]
    }
   ],
   "source": [
    "class_name = 'dog'   #選擇截取的類別\n",
    "path = r'C:\\Users\\jing\\Desktop\\Data_enhancement\\2.extractImages'\n",
    "xml_list = file_list(path,'xml')\n",
    "for file in xml_list:\n",
    "    extract_xml_Images(class_name, path, file)"
   ]
  },
  {
   "cell_type": "markdown",
   "metadata": {},
   "source": [
    "# 重新命名"
   ]
  },
  {
   "cell_type": "code",
   "execution_count": 6,
   "metadata": {},
   "outputs": [],
   "source": [
    "def file_rename(path, name):\n",
    "    file_list = os.listdir(path)\n",
    "    n = 0\n",
    "    for i in file_list:\n",
    "        os.rename(path+\"\\\\\"+i, path+\"\\\\\"+class_name+'_'+str(n)+'.png')\n",
    "        n += 1\n",
    "    os.listdir(path)"
   ]
  },
  {
   "cell_type": "code",
   "execution_count": 7,
   "metadata": {},
   "outputs": [],
   "source": [
    "path = r'C:\\Users\\jing\\Desktop\\Data_enhancement\\4.data\\train\\class1' #路徑\n",
    "name = 'dog' #要命名的類別\n",
    "file_rename(path, name)"
   ]
  },
  {
   "cell_type": "code",
   "execution_count": null,
   "metadata": {},
   "outputs": [],
   "source": []
  }
 ],
 "metadata": {
  "kernelspec": {
   "display_name": "Python 3",
   "language": "python",
   "name": "python3"
  },
  "language_info": {
   "codemirror_mode": {
    "name": "ipython",
    "version": 3
   },
   "file_extension": ".py",
   "mimetype": "text/x-python",
   "name": "python",
   "nbconvert_exporter": "python",
   "pygments_lexer": "ipython3",
   "version": "3.6.5"
  }
 },
 "nbformat": 4,
 "nbformat_minor": 2
}
